{
  "nbformat": 4,
  "nbformat_minor": 0,
  "metadata": {
    "colab": {
      "name": "CormenSizeTimeComplexityGroup6.ipynb",
      "provenance": [],
      "collapsed_sections": []
    },
    "kernelspec": {
      "name": "python3",
      "display_name": "Python 3"
    },
    "language_info": {
      "name": "python"
    }
  },
  "cells": [
    {
      "cell_type": "markdown",
      "source": [
        "# Complete the table (group \\# mod 4):\n",
        "\n",
        "> *group 6 mod 4 = 2*\n",
        "\n"
      ],
      "metadata": {
        "id": "4--59W99TTOJ"
      }
    },
    {
      "cell_type": "markdown",
      "metadata": {
        "id": "9fIs_70_DJWM"
      },
      "source": [
        "# 2.(2.5  nanoseconds by instruction)\n",
        "\n",
        "Asuuming that you can execute a 400 million instructions $400 \\times 10^6$ every second, i.e. each instrcution takes 2.5  nanoseconds, 2.5 $\\eta s  = 2.5 \\times 10^{-9} s$. If you have algorithms take $\\bf{ Time\\ Complexity}$ steps to solve a poblem of size $n$ as specified in column one. What is the size of the largest porblem that you can solve in the time specified in row one?\n",
        "$$\n",
        "\\begin{array}{|c|c|c|c|c|c|c|c|} \n",
        " \\hline\n",
        " \\bf{ Time\\ Complexity} & Second  & Minute  & Hour & Day & Year & Century & Millennium  \\\\ \n",
        "  \\hline\\\\ \n",
        "\\lg(n) &  2^{2.5 \\times 10^{9}} &  2^{1.5 \\times 10^{11}}  &  2^{9 \\times 10^{12}} & 2^{2.16 \\times 10^{14}} & 2^{7.884 \\times 10^{16}} & 2^{7.884 \\times 10^{18}} & 2^{7.884 \\times 10^{19}} \\\\ \n",
        "   \\hline\\\\ \n",
        "\\lg^2(n) & 2^{5 \\times 10^{4}} & 2^{\\sqrt {1.5 \\times 10^{11}}} & 2^{3 \\times 10^{6}} & 2^{\\sqrt {2.16 \\times 10^{14}}} & 2^{\\sqrt {7.884 \\times 10^{16}}} &2^{\\sqrt {7.884 \\times 10^{18}}}  & 2^{\\sqrt {7.884 \\times 10^{19}}} \\\\ \n",
        "   \\hline\\\\ \n",
        "\\sqrt{n} &  6.25 \\times 10^{18}  & 2.25 \\times 10^{22}  & 8.1 \\times 10^{25}  & 4.6656 \\times 10^{28} & 6.2157456 \\times 10^{33} & 6.2157456 \\times 10^{37} & 6.2157456 \\times 10^{39} \\\\ \n",
        " \\hline\n",
        " n &  2.5 \\times 10^{9}  & 1.5 \\times 10^{11}  & 9 \\times 10^{12} & 2.16 \\times 10^{14} & 7.884 \\times 10^{16} & 7.884 \\times 10^{18} & 7.884 \\times 10^{19} \\\\ \n",
        " \\hline\n",
        " n\\lg(n) & 94368799 & 4669880193 & 238139246923 & 5116273177934 & 1562043197517483 & 138456171937759968 & 1309977331334131200 \\\\ \n",
        " \\hline\n",
        " n^2 &  5 \\times 10^{4}  & 387298 & 3 \\times 10^{6} & 14696938 & 280784614 & 2807846149 & 8879189152 \\\\ \n",
        " \\hline\n",
        "  n^3 &  1357  & 5313  & 20800 & 6 \\times 10^{4} & 428794 & 1990286 & 4287941 \\\\  \n",
        " \\hline\n",
        "  n^4 &  223 & 622  & 1732 & 3833  & 16756 & 52989 & 94229 \\\\ \n",
        " \\hline\n",
        "  2^n & 31  &  37 & 43 & 47 & 56 & 62 & 66 \\\\ \n",
        " \\hline\n",
        " n! &  12  & 14  & 15 & 16 & 18 & 20 & 21 \\\\ \n",
        " \\hline\n",
        " n^n &  9  & 10  & 12 & 12 & 14 & 15 & 16 \\\\ \n",
        " \\hline\n",
        "\\end{array}\n",
        "$$"
      ]
    },
    {
      "cell_type": "markdown",
      "source": [
        "\n",
        "\n",
        "> **Nota:** Los valores obtenidos fueron truncados para determinar el máximo de instrucciones (enteras) que puede ejecutar la computadora\n",
        "\n"
      ],
      "metadata": {
        "id": "ZjwcysTn24Xl"
      }
    },
    {
      "cell_type": "markdown",
      "source": [
        "# Análisis:"
      ],
      "metadata": {
        "id": "GkiVnV8h3Inz"
      }
    },
    {
      "cell_type": "markdown",
      "metadata": {
        "id": "hioS01CHFp6v"
      },
      "source": [
        "$\\bf{ Time\\ Complexity\\ lg(n) }$\n",
        "\n",
        "$Second$\n",
        "$$ \\lg(n) \\times 2.5 \\times 10^{-9} s\\le 1\\ s$$ \n",
        "$$ \\lg(n) \\le 1 * 2.5 \\times 10^{9}$$ \n",
        "$$ 2^{\\lg(n)} \\le 2^{2.5 \\times 10^{9}}$$ \n",
        "$$ n \\le 2^{2.5 \\times 10^{9}}$$ \n",
        "\n",
        "$Minute$\n",
        "$$ \\lg(n) \\times 2.5 \\times 10^{-9} s \\le 60\\ s$$ \n",
        "$$ \\lg(n) \\le 60 \\times 2.5 \\times 10^{9}$$ \n",
        "$$ 2^{\\lg(n)} \\le 2^{60 \\times 2.5 \\times 10^{9}}$$ \n",
        "$$ n \\le 2^{1.5 \\times 10^{11}}$$ \n",
        "\n",
        "$Hour$\n",
        "$$ \\lg(n) \\times 2.5 \\times 10^{-9} s \\le 3600\\ s$$ \n",
        "$$ \\lg(n) \\le 3600 \\times 2.5 \\times 10^{9}$$ \n",
        "$$ 2^{\\lg(n)} \\le 2^{3600 \\times 2.5 \\times 10^{9}}$$ \n",
        "$$ n \\le 2^{9 \\times 10^{12}}$$ \n",
        "\n",
        "$Day$\n",
        "$$ \\lg(n) \\times 2.5 \\times 10^{-9} s \\le 86400\\ s$$ \n",
        "$$ \\lg(n) \\le 86400 \\times 2.5 \\times 10^{9}$$ \n",
        "$$ 2^{\\lg(n)} \\le 2^{86400 \\times 2.5 \\times 10^{9}}$$ \n",
        "$$ n \\le 2^{2.16 \\times 10^{14}}$$ \n",
        "\n",
        "$Year$\n",
        "$$ \\lg(n) \\times 2.5 \\times 10^{-9} s \\le 31536000\\ s$$ \n",
        "$$ \\lg(n) \\le 31536000 \\times 2.5 \\times 10^{9}$$ \n",
        "$$ 2^{\\lg(n)} \\le 2^{31536000 \\times 2.5 \\times 10^{9}}$$ \n",
        "$$ n \\le 2^{7.884 \\times 10^{16}}$$\n",
        "\n",
        "$Century$\n",
        "$$ \\lg(n) \\times 2.5 \\times 10^{-9} s \\le 3153600000\\ s$$ \n",
        "$$ \\lg(n) \\le 3153600000 \\times 2.5 \\times 10^{9}$$ \n",
        "$$ 2^{\\lg(n)} \\le 2^{3153600000 \\times 2.5 \\times 10^{9}}$$ \n",
        "$$ n \\le 2^{7.884 \\times 10^{18}}$$\n",
        "\n",
        "$Millennium$\n",
        "$$ \\lg(n) \\times 2.5 \\times 10^{-9} s \\le 31536000000\\ s$$ \n",
        "$$ \\lg(n) \\le 31536000 \\times 2.5 \\times 10^{9}$$ \n",
        "$$ 2^{\\lg(n)} \\le 2^{31536000000 \\times 2.5 \\times 10^{9}}$$ \n",
        "$$ n \\le 2^{7.884 \\times 10^{19}}$$\n"
      ]
    },
    {
      "cell_type": "markdown",
      "source": [
        "$\\bf{ Time\\ Complexity\\ lg^2(n) }$\n",
        "\n",
        "$Second$\n",
        "$$ \\lg^2(n) \\times 2.5 \\times 10^{-9} s\\le 1\\ s$$ \n",
        "$$ \\lg^2(n) \\le 1 * 2.5 \\times 10^{9}$$ \n",
        "$$ \\lg(n) \\le \\sqrt {2.5 \\times 10^{9}}$$ \n",
        "$$ 2^{\\lg(n)} \\le 2^{\\sqrt {2.5 \\times 10^{9}}}$$ \n",
        "$$ n \\le 2^{\\sqrt {2.5 \\times 10^{9}}}$$ \n",
        "$$ n \\le 2^{50000}$$\n",
        "$$ n \\le 2^{5 \\times 10^{4}}$$  \n",
        "\n",
        "$Minute$\n",
        "$$ \\lg^2(n) \\times 2.5 \\times 10^{-9} s\\le 60\\ s$$ \n",
        "$$ \\lg^2(n) \\le 60 * 2.5 \\times 10^{9}$$ \n",
        "$$ \\lg(n) \\le \\sqrt {1.5 \\times 10^{11}}$$ \n",
        "$$ 2^{\\lg(n)} \\le 2^{\\sqrt {1.5 \\times 10^{11}}}$$ \n",
        "$$ n \\le 2^{\\sqrt {1.5 \\times 10^{11}}}$$  \n",
        "\n",
        "$Hour$\n",
        "$$ \\lg^2(n) \\times 2.5 \\times 10^{-9} s\\le 3600\\ s$$ \n",
        "$$ \\lg^2(n) \\le 3600 * 2.5 \\times 10^{9}$$ \n",
        "$$ \\lg(n) \\le \\sqrt {9 \\times 10^{12}}$$ \n",
        "$$ 2^{\\lg(n)} \\le 2^{3 \\times 10^{6}}$$ \n",
        "$$ n \\le 2^{3 \\times 10^{6}}$$ \n",
        "\n",
        "$Day$\n",
        "$$ \\lg^2(n) \\times 2.5 \\times 10^{-9} s\\le 86400\\ s$$ \n",
        "$$ \\lg^2(n) \\le 86400 * 2.5 \\times 10^{9}$$ \n",
        "$$ \\lg(n) \\le \\sqrt {2.16 \\times 10^{14}}$$ \n",
        "$$ 2^{\\lg(n)} \\le 2^{\\sqrt {2.16 \\times 10^{14}}}$$ \n",
        "$$ n \\le 2^{\\sqrt {2.16 \\times 10^{14}}}$$  \n",
        "\n",
        "$Year$\n",
        "$$ \\lg^2(n) \\times 2.5 \\times 10^{-9} s\\le 31536000\\ s$$ \n",
        "$$ \\lg^2(n) \\le 31536000 * 2.5 \\times 10^{9}$$ \n",
        "$$ \\lg(n) \\le \\sqrt {7.884 \\times 10^{16}}$$ \n",
        "$$ 2^{\\lg(n)} \\le 2^{\\sqrt {7.884 \\times 10^{16}}}$$ \n",
        "$$ n \\le 2^{\\sqrt {7.884 \\times 10^{16}}}$$ \n",
        "\n",
        "$Century$\n",
        "$$ \\lg^2(n) \\times 2.5 \\times 10^{-9} s\\le 3153600000\\ s$$ \n",
        "$$ \\lg^2(n) \\le 3153600000 * 2.5 \\times 10^{9}$$ \n",
        "$$ \\lg(n) \\le \\sqrt {7.884 \\times 10^{18}}$$ \n",
        "$$ 2^{\\lg(n)} \\le 2^{\\sqrt {7.884 \\times 10^{18}}}$$ \n",
        "$$ n \\le 2^{\\sqrt {7.884 \\times 10^{18}}}$$\n",
        "\n",
        "$Millennium$\n",
        "$$ \\lg^2(n) \\times 2.5 \\times 10^{-9} s\\le 3153600000\\ s$$ \n",
        "$$ \\lg^2(n) \\le 3153600000 * 2.5 \\times 10^{9}$$ \n",
        "$$ \\lg(n) \\le \\sqrt {7.884 \\times 10^{19}}$$ \n",
        "$$ 2^{\\lg(n)} \\le 2^{\\sqrt {7.884 \\times 10^{19}}}$$ \n",
        "$$ n \\le 2^{\\sqrt {7.884 \\times 10^{19}}}$$"
      ],
      "metadata": {
        "id": "vIreWjOUJcJz"
      }
    },
    {
      "cell_type": "markdown",
      "source": [
        "$\\bf{ Time\\ Complexity\\ \\sqrt n }$\n",
        "\n",
        "$Second$\n",
        "$$  \\sqrt n \\times 2.5 \\times 10^{-9}\\ s\\le 1\\ s$$ \n",
        "$$  \\sqrt n \\le  2.5 \\times 10^{9}$$ \n",
        "$$ \\sqrt{n}^2 \\le (2.5 \\times 10^{9})^2$$ \n",
        "$$ n \\le 6.25 \\times 10^{18} $$ \n",
        "\n",
        "$Minute$\n",
        "$$  \\sqrt n \\times 2.5 \\times 10^{-9}\\ s\\le 60\\ s$$ \n",
        "$$  \\sqrt n \\le 60 \\times 2.5 \\times 10^{9}$$ \n",
        "$$ \\sqrt{n}^2 \\le (1.5 \\times 10^{11})^2$$ \n",
        "$$ n \\le 2.25 \\times 10^{22} $$ \n",
        "\n",
        "$Hour$\n",
        "$$  \\sqrt n \\times 2.5 \\times 10^{-9}\\ s\\le 3600\\ s$$ \n",
        "$$  \\sqrt n \\le 3600 \\times 2.5 \\times 10^{9}$$ \n",
        "$$ \\sqrt{n}^2 \\le (9 \\times 10^{12})^2$$ \n",
        "$$ n \\le 8.1 \\times 10^{25} $$ \n",
        "\n",
        "$Day$\n",
        "$$  \\sqrt n \\times 2.5 \\times 10^{-9}\\ s\\le 86400\\ s$$ \n",
        "$$  \\sqrt n \\le 86400 \\times 2.5 \\times 10^{9}$$ \n",
        "$$ \\sqrt{n}^2 \\le (2.16 \\times 10^{14})^2$$ \n",
        "$$ n \\le 4.6656 \\times 10^{28} $$ \n",
        "\n",
        "$Year$\n",
        "$$  \\sqrt n \\times 2.5 \\times 10^{-9}\\ s\\le 31536000\\ s$$ \n",
        "$$  \\sqrt n \\le 31536000 \\times 2.5 \\times 10^{9}$$ \n",
        "$$ \\sqrt{n}^2 \\le (7.884 \\times 10^{16})^2$$ \n",
        "$$ n \\le 6.2157456 \\times 10^{33} $$ \n",
        "\n",
        "$Century$\n",
        "$$  \\sqrt n \\times 2.5 \\times 10^{-9}\\ s\\le 3153600000\\ s$$ \n",
        "$$  \\sqrt n \\le 3153600000 \\times 2.5 \\times 10^{9}$$ \n",
        "$$ \\sqrt{n}^2 \\le (7.884 \\times 10^{18})^2$$ \n",
        "$$ n \\le 6.2157456 \\times 10^{37} $$ \n",
        "\n",
        "$Millenium$\n",
        "$$  \\sqrt n \\times 2.5 \\times 10^{-9}\\ s\\le 31536000000\\ s$$ \n",
        "$$  \\sqrt n \\le 31536000000 \\times 2.5 \\times 10^{9}$$ \n",
        "$$ \\sqrt{n}^2 \\le (7.884 \\times 10^{19})^2$$ \n",
        "$$ n \\le 6.2157456 \\times 10^{39} $$ "
      ],
      "metadata": {
        "id": "sneL7akJO03b"
      }
    },
    {
      "cell_type": "markdown",
      "source": [
        "$\\bf{ Time\\ Complexity\\  n }$\n",
        "\n",
        "$Second$\n",
        "$$  n \\times 2.5 \\times 10^{-9}\\ s\\le 1\\ s$$ \n",
        "$$   n \\le  2.5 \\times 10^{9}$$ \n",
        "\n",
        "$Minute$\n",
        "$$  n \\times 2.5 \\times 10^{-9}\\ s\\le 60\\ s$$ \n",
        "$$   n \\le 60 \\times 2.5 \\times 10^{9}$$ \n",
        "$$   n \\le 1.5 \\times 10^{11}$$ \n",
        "\n",
        "$Hour$\n",
        "$$  n \\times 2.5 \\times 10^{-9}\\ s\\le 3600\\ s$$ \n",
        "$$   n \\le 3600 \\times 2.5 \\times 10^{9}$$ \n",
        "$$   n \\le 9 \\times 10^{12}$$ \n",
        "\n",
        "$Day$\n",
        "$$  n \\times 2.5 \\times 10^{-9}\\ s\\le 86400\\ s$$ \n",
        "$$   n \\le 86400 \\times 2.5 \\times 10^{9}$$ \n",
        "$$   n \\le 2.16 \\times 10^{14}$$ \n",
        "\n",
        "$Year$\n",
        "$$  n \\times 2.5 \\times 10^{-9}\\ s\\le 31536000\\ s$$ \n",
        "$$   n \\le 31536000 \\times 2.5 \\times 10^{9}$$ \n",
        "$$   n \\le 7.884 \\times 10^{16}$$ \n",
        "\n",
        "$Century$\n",
        "$$  n \\times 2.5 \\times 10^{-9}\\ s\\le 3153600000\\ s$$ \n",
        "$$   n \\le 3153600000 \\times 2.5 \\times 10^{9}$$ \n",
        "$$   n \\le 7.884 \\times 10^{18}$$ \n",
        "\n",
        "$Millenium$\n",
        "$$  n \\times 2.5 \\times 10^{-9}\\ s\\le 31536000000\\ s$$ \n",
        "$$   n \\le 31536000000 \\times 2.5 \\times 10^{9}$$ \n",
        "$$   n \\le 7.884 \\times 10^{19}$$ "
      ],
      "metadata": {
        "id": "khugkNJPRoBJ"
      }
    },
    {
      "cell_type": "markdown",
      "source": [
        "$\\bf{ Time\\ Complexity\\   n \\ lg(n) }$"
      ],
      "metadata": {
        "id": "Untb32OFb_T6"
      }
    },
    {
      "cell_type": "code",
      "metadata": {
        "colab": {
          "base_uri": "https://localhost:8080/"
        },
        "id": "szukBFthF1_s",
        "outputId": "8ef89471-4c55-4d09-fde8-c1da1dd7deb3"
      },
      "source": [
        "import math\n",
        "\n",
        "# 2) 2.5 nanoseconds by Instruction: Time complexity n log(n)\n",
        "\n",
        "def nlogn_complexity(seg):\n",
        "    n = 2\n",
        "    maximo = seg*2.5*10**9\n",
        "    nlogn = 0\n",
        "    while(nlogn < maximo):\n",
        "        n = maximo/math.log2(n)\n",
        "        nlogn += (maximo-nlogn)/2\n",
        "    return int(n)\n",
        "\n",
        "print(\"Second: \\nn <=\", nlogn_complexity(1))\n",
        "print(\"Minute: \\nn <=\", nlogn_complexity(60))\n",
        "print(\"Hour: \\nn <=\", nlogn_complexity(3600))\n",
        "print(\"Day: \\nn <=\", nlogn_complexity(86400))\n",
        "print(\"Year: \\nn <=\", nlogn_complexity(31536000))\n",
        "print(\"Year: \\nn <=\", nlogn_complexity(3153600000))\n",
        "print(\"Year: \\nn <=\", nlogn_complexity(31536000000))"
      ],
      "execution_count": null,
      "outputs": [
        {
          "output_type": "stream",
          "name": "stdout",
          "text": [
            "Second: \n",
            "n <= 94368799\n",
            "Minute: \n",
            "n <= 4669880193\n",
            "Hour: \n",
            "n <= 238139246923\n",
            "Day: \n",
            "n <= 5116273177934\n",
            "Year: \n",
            "n <= 1562043197517483\n",
            "Year: \n",
            "n <= 138456171937759968\n",
            "Year: \n",
            "n <= 1309977331334131200\n"
          ]
        }
      ]
    },
    {
      "cell_type": "markdown",
      "source": [
        "$\\bf{ Time\\ Complexity\\ n^2 }$\n",
        "\n",
        "$Second$\n",
        "$$  n^2 \\times 2.5 \\times 10^{-9}\\ s\\le 1\\ s$$ \n",
        "$$  n^2 \\le  2.5 \\times 10^{9}$$ \n",
        "$$ \\sqrt{n^2} \\le \\sqrt{2.5 \\times 10^{9}}$$ \n",
        "$$ n \\le 5 \\times 10^4 $$ \n",
        "\n",
        "$Minute$\n",
        "$$  n^2 \\times  2.5 \\times 10^{-9}\\ s\\le 60\\ s$$ \n",
        "$$  n^2 \\le 60 \\times  2.5 \\times 10^{9}$$ \n",
        "$$ \\sqrt{n^2} \\le \\sqrt{1.5 \\times10^{11}}$$ \n",
        "$$ n \\le \\sqrt{1.5 \\times10^{11}} $$\n",
        "\n",
        "$Hour$\n",
        "$$  n^2 \\times  2.5 \\times 10^{-9}\\ s\\le 3600\\ s$$ \n",
        "$$  n^2 \\le 3600 \\times  2.5 \\times 10^{9}$$ \n",
        "$$ \\sqrt{n^2} \\le \\sqrt{9 \\times10^{12}}$$ \n",
        "$$ n \\le 3 \\times10^{6} $$\n",
        "\n",
        "$Day$\n",
        "$$  n^2 \\times  2.5 \\times 10^{-9}\\ s\\le 86400\\ s$$ \n",
        "$$  n^2 \\le 86400 \\times  2.5 \\times 10^{9}$$ \n",
        "$$ \\sqrt{n^2} \\le \\sqrt{2.16 \\times10^{14}}$$ \n",
        "$$ n \\le \\sqrt{2.16 \\times10^{14}} $$\n",
        "\n",
        "$Year$\n",
        "$$  n^2 \\times  2.5 \\times 10^{-9}\\ s\\le 31536000\\ s$$ \n",
        "$$  n^2 \\le 31536000 \\times  2.5 \\times 10^{9}$$ \n",
        "$$ \\sqrt{n^2} \\le \\sqrt{7.884 \\times10^{16}}$$ \n",
        "$$ n \\le \\sqrt{7.884 \\times10^{16}}$$\n",
        "\n",
        "$Century$\n",
        "$$  n^2 \\times  2.5 \\times 10^{-9}\\ s\\le 3153600000\\ s$$ \n",
        "$$  n^2 \\le 3153600000 \\times  2.5 \\times 10^{9}$$ \n",
        "$$ \\sqrt{n^2} \\le \\sqrt{7.884 \\times10^{18}}$$ \n",
        "$$ n \\le \\sqrt{7.884 \\times10^{18}}$$\n",
        "\n",
        "$Millenium$\n",
        "$$  n^2 \\times  2.5 \\times 10^{-9}\\ s\\le 31536000000\\ s$$ \n",
        "$$  n^2 \\le 31536000000 \\times  2.5 \\times 10^{9}$$ \n",
        "$$ \\sqrt{n^2} \\le \\sqrt{7.884 \\times10^{19}}$$ \n",
        "$$ n \\le \\sqrt{7.884 \\times10^{19}}$$"
      ],
      "metadata": {
        "id": "b2nQCiMvJe4E"
      }
    },
    {
      "cell_type": "markdown",
      "source": [
        "$\\bf{ Time\\ Complexity\\ n^3 }$\n",
        "\n",
        "$Second$\n",
        "$$  n^3 \\times 2.5 \\times 10^{-9}\\ s\\le 1\\ s$$ \n",
        "$$  n^3 \\le  2.5 \\times 10^{9}$$ \n",
        "$$ \\sqrt[3]{n^3} \\le \\sqrt[3]{2.5 \\times 10^{9}}$$ \n",
        "$$ n \\le \\sqrt[3]{2.5 \\times 10^{9}} $$ \n",
        "\n",
        "$Minute$\n",
        "$$  n^3 \\times  2.5 \\times 10^{-9}\\ s\\le 60\\ s$$ \n",
        "$$  n^3 \\le 60 \\times  2.5 \\times 10^{9}$$ \n",
        "$$ \\sqrt[3]{n^3} \\le \\sqrt[3]{1.5 \\times10^{11}}$$ \n",
        "$$ n \\le \\sqrt[3]{1.5 \\times10^{11}} $$\n",
        "\n",
        "$Hour$\n",
        "$$  n^3 \\times  2.5 \\times 10^{-9}\\ s\\le 3600\\ s$$ \n",
        "$$  n^3 \\le 3600 \\times  2.5 \\times 10^{9}$$ \n",
        "$$ \\sqrt[3]{n^3} \\le \\sqrt[3]{9 \\times10^{12}}$$ \n",
        "$$ n \\le \\sqrt[3]{9 \\times10^{12}} $$\n",
        "\n",
        "$Day$\n",
        "$$  n^3 \\times  2.5 \\times 10^{-9}\\ s\\le 86400\\ s$$ \n",
        "$$  n^3 \\le 86400 \\times  2.5 \\times 10^{9}$$ \n",
        "$$ \\sqrt[3]{n^3} \\le \\sqrt[3]{2.16 \\times10^{14}}$$ \n",
        "$$ n \\le 6 \\times10^{4} $$\n",
        "\n",
        "$Year$\n",
        "$$  n^3 \\times  2.5 \\times 10^{-9}\\ s\\le 31536000\\ s$$ \n",
        "$$  n^3 \\le 31536000 \\times  2.5 \\times 10^{9}$$ \n",
        "$$ \\sqrt[3]{n^3} \\le \\sqrt[3]{7.884 \\times10^{16}}$$ \n",
        "$$ n \\le \\sqrt[3]{7.884 \\times10^{16}}$$\n",
        "\n",
        "$Century$\n",
        "$$  n^3 \\times  2.5 \\times 10^{-9}\\ s\\le 3153600000\\ s$$ \n",
        "$$  n^3 \\le 3153600000 \\times  2.5 \\times 10^{9}$$ \n",
        "$$ \\sqrt[3]{n^3} \\le \\sqrt[3]{7.884 \\times10^{18}}$$ \n",
        "$$ n \\le \\sqrt[3]{7.884 \\times10^{18}}$$\n",
        "\n",
        "$Millenium$\n",
        "$$  n^3 \\times  2.5 \\times 10^{-9}\\ s\\le 31536000000\\ s$$ \n",
        "$$  n^3 \\le 31536000000 \\times  2.5 \\times 10^{9}$$ \n",
        "$$ \\sqrt[3]{n^3} \\le \\sqrt[3]{7.884 \\times10^{19}}$$ \n",
        "$$ n \\le \\sqrt[3]{7.884 \\times10^{19}}$$"
      ],
      "metadata": {
        "id": "NtHcpgk1w-lf"
      }
    },
    {
      "cell_type": "markdown",
      "source": [
        "$\\bf{ Time\\ Complexity\\ n^4 }$\n",
        "\n",
        "$Second$\n",
        "$$  n^4 \\times 2.5 \\times 10^{-9}\\ s\\le 1\\ s$$ \n",
        "$$  n^4 \\le  2.5 \\times 10^{9}$$ \n",
        "$$ \\sqrt[4]{n^4} \\le \\sqrt[4]{2.5 \\times 10^{9}}$$ \n",
        "$$ n \\le 100 \\sqrt{5} $$ \n",
        "\n",
        "$Minute$\n",
        "$$  n^4 \\times  2.5 \\times 10^{-9}\\ s\\le 60\\ s$$ \n",
        "$$  n^4 \\le 60 \\times  2.5 \\times 10^{9}$$ \n",
        "$$ \\sqrt[4]{n^4} \\le \\sqrt[4]{1.5 \\times10^{11}}$$ \n",
        "$$ n \\le \\sqrt[4]{1.5 \\times10^{11}} $$\n",
        "\n",
        "$Hour$\n",
        "$$  n^4 \\times  2.5 \\times 10^{-9}\\ s\\le 3600\\ s$$ \n",
        "$$  n^4 \\le 3600 \\times  2.5 \\times 10^{9}$$ \n",
        "$$ \\sqrt[4]{n^4} \\le \\sqrt[4]{9 \\times10^{12}}$$ \n",
        "$$ n \\le 1000\\sqrt{3} $$\n",
        "\n",
        "$Day$\n",
        "$$  n^4 \\times  2.5 \\times 10^{-9}\\ s\\le 86400\\ s$$ \n",
        "$$  n^4 \\le 86400 \\times  2.5 \\times 10^{9}$$ \n",
        "$$ \\sqrt[4]{n^4} \\le \\sqrt[4]{2.16 \\times10^{14}}$$ \n",
        "$$ n \\le \\sqrt[4]{2.16 \\times10^{14}} $$\n",
        "\n",
        "$Year$\n",
        "$$  n^4 \\times  2.5 \\times 10^{-9}\\ s\\le 31536000\\ s$$ \n",
        "$$  n^4 \\le 31536000 \\times  2.5 \\times 10^{9}$$ \n",
        "$$ \\sqrt[4]{n^4} \\le \\sqrt[4]{7.884 \\times10^{16}}$$ \n",
        "$$ n \\le \\sqrt[4]{7.884 \\times10^{16}}$$\n",
        "\n",
        "$Century$\n",
        "$$  n^4 \\times  2.5 \\times 10^{-9}\\ s\\le 3153600000\\ s$$ \n",
        "$$  n^4 \\le 3153600000 \\times  2.5 \\times 10^{9}$$ \n",
        "$$ \\sqrt[4]{n^4} \\le \\sqrt[4]{7.884 \\times10^{18}}$$ \n",
        "$$ n \\le \\sqrt[4]{7.884 \\times10^{18}}$$\n",
        "\n",
        "$Millenium$\n",
        "$$  n^4 \\times  2.5 \\times 10^{-9}\\ s\\le 31536000000\\ s$$ \n",
        "$$  n^4 \\le 31536000000 \\times  2.5 \\times 10^{9}$$ \n",
        "$$ \\sqrt[4]{n^4} \\le \\sqrt[4]{7.884 \\times10^{19}}$$ \n",
        "$$ n \\le \\sqrt[4]{7.884 \\times10^{19}}$$"
      ],
      "metadata": {
        "id": "HUE5Y4XUytFR"
      }
    },
    {
      "cell_type": "markdown",
      "source": [
        "$\\bf{ Time\\ Complexity\\  2^n }$\n",
        "\n",
        "$Second$\n",
        "$$  2^n \\times 2.5 \\times 10^{-9}\\ s\\le 1\\ s$$ \n",
        "$$   2^n \\le  2.5 \\times 10^{9}$$ \n",
        "$$   log_2(2^n) \\le  log_2(2.5 \\times 10^{9})$$\n",
        "$$   n \\le  log_2(2.5 \\times 10^{9})$$\n",
        "\n",
        "$Minute$\n",
        "$$  2^n \\times 2.5 \\times 10^{-9}\\ s\\le 60\\ s$$ \n",
        "$$   2^n \\le 60 \\times 2.5 \\times 10^{9}$$ \n",
        "$$   log_2(2^n) \\le  log_2(1.5 \\times 10^{11})$$\n",
        "$$   n \\le  log_2(1.5 \\times 10^{11})$$\n",
        "\n",
        "$Hour$\n",
        "$$  2^n \\times 2.5 \\times 10^{-9}\\ s\\le 3600\\ s$$ \n",
        "$$   2^n \\le 3600 \\times 2.5 \\times 10^{9}$$ \n",
        "$$   log_2(2^n) \\le  log_2(9 \\times 10^{12})$$\n",
        "$$   n \\le  log_2(9 \\times 10^{12})$$\n",
        "\n",
        "$Day$\n",
        "$$  2^n \\times 2.5 \\times 10^{-9}\\ s\\le 86400\\ s$$ \n",
        "$$   2^n \\le 86400 \\times 2.5 \\times 10^{9}$$ \n",
        "$$   log_2(2^n) \\le  log_2(2.16 \\times 10^{14})$$\n",
        "$$   n \\le  log_2(2.16 \\times 10^{14})$$\n",
        "\n",
        "$Year$\n",
        "$$  2^n \\times 2.5 \\times 10^{-9}\\ s\\le 31536000\\ s$$ \n",
        "$$   2^n \\le 31536000 \\times 2.5 \\times 10^{9}$$ \n",
        "$$   log_2(2^n) \\le  log_2(7.884 \\times 10^{16})$$\n",
        "$$   n \\le  log_2(7.884 \\times 10^{16})$$\n",
        "\n",
        "$Century$\n",
        "$$  2^n \\times 2.5 \\times 10^{-9}\\ s\\le 3153600000\\ s$$ \n",
        "$$   2^n \\le 3153600000 \\times 2.5 \\times 10^{9}$$ \n",
        "$$   log_2(2^n) \\le  log_2(7.884 \\times 10^{18})$$\n",
        "$$   n \\le  log_2(7.884 \\times 10^{18})$$\n",
        "\n",
        "$Millenium$\n",
        "$$  2^n \\times 2.5 \\times 10^{-9}\\ s\\le 31536000000\\ s$$ \n",
        "$$   2^n \\le 31536000000 \\times 2.5 \\times 10^{9}$$ \n",
        "$$   log_2(2^n) \\le  log_2(7.884 \\times 10^{19})$$\n",
        "$$   n \\le  log_2(7.884 \\times 10^{19})$$ "
      ],
      "metadata": {
        "id": "I5gyGani0c5u"
      }
    },
    {
      "cell_type": "markdown",
      "source": [
        "$\\bf{ Time\\ Complexity\\   n ! }$"
      ],
      "metadata": {
        "id": "kWGeskd24kgP"
      }
    },
    {
      "cell_type": "code",
      "metadata": {
        "colab": {
          "base_uri": "https://localhost:8080/"
        },
        "outputId": "5cda898e-f0db-4f0e-80e2-de0673cb3a02",
        "id": "3RERCj844utv"
      },
      "source": [
        "import math\n",
        "\n",
        "# 2) 2.5 nanoseconds by Instruction: Time complexity n!\n",
        "\n",
        "def nfact_complexity(seg):\n",
        "    n = 0\n",
        "    maximo = seg*2.5*10**9\n",
        "    nfact = 1\n",
        "    while(nfact <= maximo):\n",
        "        n = n + 1\n",
        "        nfact = math.factorial(n)\n",
        "    return int(n-1)\n",
        "\n",
        "print(\"Second: \\nn <=\", nfact_complexity(1))\n",
        "print(\"Minute: \\nn <=\", nfact_complexity(60))\n",
        "print(\"Hour: \\nn <=\", nfact_complexity(3600))\n",
        "print(\"Day: \\nn <=\", nfact_complexity(86400))\n",
        "print(\"Year: \\nn <=\", nfact_complexity(31536000))\n",
        "print(\"Year: \\nn <=\", nfact_complexity(3153600000))\n",
        "print(\"Year: \\nn <=\", nfact_complexity(31536000000))"
      ],
      "execution_count": null,
      "outputs": [
        {
          "output_type": "stream",
          "name": "stdout",
          "text": [
            "Second: \n",
            "n <= 12\n",
            "Minute: \n",
            "n <= 14\n",
            "Hour: \n",
            "n <= 15\n",
            "Day: \n",
            "n <= 16\n",
            "Year: \n",
            "n <= 18\n",
            "Year: \n",
            "n <= 20\n",
            "Year: \n",
            "n <= 21\n"
          ]
        }
      ]
    },
    {
      "cell_type": "markdown",
      "source": [
        "$\\bf{ Time\\ Complexity\\   n ^n }$"
      ],
      "metadata": {
        "id": "2Y6LjcHn6BV_"
      }
    },
    {
      "cell_type": "code",
      "metadata": {
        "colab": {
          "base_uri": "https://localhost:8080/"
        },
        "outputId": "f5db6468-6bd3-485a-a28a-261cef80abf8",
        "id": "N6xssaN66Fjg"
      },
      "source": [
        "import math\n",
        "\n",
        "# 2) 2.5 nanoseconds by Instruction: Time complexity n^n\n",
        "\n",
        "def npotn_complexity(seg):\n",
        "    n = 0\n",
        "    maximo = seg*2.5*10**9\n",
        "    npotn = 1\n",
        "    while(npotn <= maximo):\n",
        "        n = n + 1\n",
        "        npotn = n**n\n",
        "    return int(n-1)\n",
        "\n",
        "print(\"Second: \\nn <=\", npotn_complexity(1))\n",
        "print(\"Minute: \\nn <=\", npotn_complexity(60))\n",
        "print(\"Hour: \\nn <=\", npotn_complexity(3600))\n",
        "print(\"Day: \\nn <=\", npotn_complexity(86400))\n",
        "print(\"Year: \\nn <=\", npotn_complexity(31536000))\n",
        "print(\"Year: \\nn <=\", npotn_complexity(3153600000))\n",
        "print(\"Year: \\nn <=\", npotn_complexity(31536000000))"
      ],
      "execution_count": null,
      "outputs": [
        {
          "output_type": "stream",
          "name": "stdout",
          "text": [
            "Second: \n",
            "n <= 9\n",
            "Minute: \n",
            "n <= 10\n",
            "Hour: \n",
            "n <= 12\n",
            "Day: \n",
            "n <= 12\n",
            "Year: \n",
            "n <= 14\n",
            "Year: \n",
            "n <= 15\n",
            "Year: \n",
            "n <= 16\n"
          ]
        }
      ]
    }
  ]
}
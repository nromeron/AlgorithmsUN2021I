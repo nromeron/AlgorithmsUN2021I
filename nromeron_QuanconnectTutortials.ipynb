{
  "nbformat": 4,
  "nbformat_minor": 0,
  "metadata": {
    "colab": {
      "name": "nromeron_QuanconnectTutortials.ipynb",
      "provenance": [],
      "authorship_tag": "ABX9TyPgmtbViXYIpPUKARe++Htl",
      "include_colab_link": true
    },
    "kernelspec": {
      "name": "python3",
      "display_name": "Python 3"
    },
    "language_info": {
      "name": "python"
    }
  },
  "cells": [
    {
      "cell_type": "markdown",
      "metadata": {
        "id": "view-in-github",
        "colab_type": "text"
      },
      "source": [
        "<a href=\"https://colab.research.google.com/github/nromeron/AlgorithmsUN2021I/blob/main/nromeron_QuanconnectTutortials.ipynb\" target=\"_parent\"><img src=\"https://colab.research.google.com/assets/colab-badge.svg\" alt=\"Open In Colab\"/></a>"
      ]
    },
    {
      "cell_type": "markdown",
      "metadata": {
        "id": "EeHryjnlgGGs"
      },
      "source": [
        "**Laboratrio 1 parte 1**"
      ]
    },
    {
      "cell_type": "code",
      "metadata": {
        "id": "sVocF1t5IJ-Y",
        "colab": {
          "base_uri": "https://localhost:8080/"
        },
        "outputId": "ec54a4ae-ad82-4a47-898b-67c3c1f8ce6d"
      },
      "source": [
        "my_string1 = 'Welcome to'\n",
        "my_string2 = \"QuantConnect\"\n",
        "print(my_string1 + ' ' + my_string2)"
      ],
      "execution_count": null,
      "outputs": [
        {
          "output_type": "stream",
          "name": "stdout",
          "text": [
            "Welcome to QuantConnect\n"
          ]
        }
      ]
    },
    {
      "cell_type": "code",
      "metadata": {
        "colab": {
          "base_uri": "https://localhost:8080/"
        },
        "id": "IWRArwaEgiUk",
        "outputId": "5ff012c2-cf4d-4a6f-a82f-11f17e1f59b6"
      },
      "source": [
        "my_string1 = 'Primer ejercicio'\n",
        "my_string2 = \"del laboratorio 1\"\n",
        "print(my_string1 + ' ' + my_string2)"
      ],
      "execution_count": null,
      "outputs": [
        {
          "output_type": "stream",
          "name": "stdout",
          "text": [
            "Primer ejercicio del laboratorio 1\n"
          ]
        }
      ]
    },
    {
      "cell_type": "code",
      "metadata": {
        "colab": {
          "base_uri": "https://localhost:8080/"
        },
        "id": "4_XREzp_hStD",
        "outputId": "66147149-0b96-4bde-fb13-190802c47e46"
      },
      "source": [
        "my_int = 10\n",
        "print(my_int)\n",
        "print(type(my_int))\n"
      ],
      "execution_count": null,
      "outputs": [
        {
          "output_type": "stream",
          "name": "stdout",
          "text": [
            "10\n",
            "<class 'int'>\n"
          ]
        }
      ]
    },
    {
      "cell_type": "code",
      "metadata": {
        "colab": {
          "base_uri": "https://localhost:8080/"
        },
        "id": "AZobmalVhYQT",
        "outputId": "6e1f6f40-8a68-4d51-dc08-0225b17607a6"
      },
      "source": [
        "my_int = 7\n",
        "print(my_int)\n",
        "\n",
        "print(type(my_int))"
      ],
      "execution_count": null,
      "outputs": [
        {
          "output_type": "stream",
          "name": "stdout",
          "text": [
            "7\n",
            "<class 'int'>\n"
          ]
        }
      ]
    },
    {
      "cell_type": "code",
      "metadata": {
        "colab": {
          "base_uri": "https://localhost:8080/"
        },
        "id": "HIN-gGwfhk1d",
        "outputId": "7e0bde2a-467d-426c-9dfe-08daec5b9fdf"
      },
      "source": [
        "my_string = \"100\"\n",
        "print(type(my_string))\n",
        "\n",
        "my_int = int(my_string)\n",
        "print(type(my_int))"
      ],
      "execution_count": null,
      "outputs": [
        {
          "output_type": "stream",
          "name": "stdout",
          "text": [
            "<class 'str'>\n",
            "<class 'int'>\n"
          ]
        }
      ]
    },
    {
      "cell_type": "code",
      "metadata": {
        "colab": {
          "base_uri": "https://localhost:8080/"
        },
        "id": "WFpL19aZhsh7",
        "outputId": "67a24c18-39fd-4026-ffc3-b180cb7e33d3"
      },
      "source": [
        "my_string = \"6507\"\n",
        "print(type(my_string))\n",
        "\n",
        "my_int = int(my_string)\n",
        "print(type(my_int))\n"
      ],
      "execution_count": null,
      "outputs": [
        {
          "output_type": "stream",
          "name": "stdout",
          "text": [
            "<class 'str'>\n",
            "<class 'int'>\n"
          ]
        }
      ]
    },
    {
      "cell_type": "code",
      "metadata": {
        "colab": {
          "base_uri": "https://localhost:8080/"
        },
        "id": "sUd_rFvThsrq",
        "outputId": "88d6483d-8e9b-4f49-c1b7-17224529e157"
      },
      "source": [
        "my_float = 1.0\n",
        "print(type(my_float))\n",
        "\n",
        "my_int = 1\n",
        "print(type(my_int))"
      ],
      "execution_count": null,
      "outputs": [
        {
          "output_type": "stream",
          "name": "stdout",
          "text": [
            "<class 'float'>\n",
            "<class 'int'>\n"
          ]
        }
      ]
    },
    {
      "cell_type": "code",
      "metadata": {
        "colab": {
          "base_uri": "https://localhost:8080/"
        },
        "id": "zdhDrJNphsxb",
        "outputId": "1e1f92a3-e96e-4e63-e017-9bf04eb6a5bc"
      },
      "source": [
        "my_float = 12.7\n",
        "print(type(my_float))\n",
        "\n",
        "my_int = 6\n",
        "print(type(my_int))"
      ],
      "execution_count": null,
      "outputs": [
        {
          "output_type": "stream",
          "name": "stdout",
          "text": [
            "<class 'float'>\n",
            "<class 'int'>\n"
          ]
        }
      ]
    },
    {
      "cell_type": "code",
      "metadata": {
        "colab": {
          "base_uri": "https://localhost:8080/"
        },
        "id": "pi_8yZEghs0q",
        "outputId": "2d83965e-f5d4-42c7-9444-ba77f4409256"
      },
      "source": [
        "my_string = \"100\"\n",
        "my_float = float(my_string)\n",
        "print(type(my_float))"
      ],
      "execution_count": null,
      "outputs": [
        {
          "output_type": "stream",
          "name": "stdout",
          "text": [
            "<class 'float'>\n"
          ]
        }
      ]
    },
    {
      "cell_type": "code",
      "metadata": {
        "colab": {
          "base_uri": "https://localhost:8080/"
        },
        "id": "V9DSqDyJhs3e",
        "outputId": "0345a1bb-165e-4b66-cf66-84c176a53ba4"
      },
      "source": [
        "my_string = \"27\"\n",
        "my_float = float(my_string)\n",
        "print(type(my_float))"
      ],
      "execution_count": null,
      "outputs": [
        {
          "output_type": "stream",
          "name": "stdout",
          "text": [
            "<class 'float'>\n"
          ]
        }
      ]
    },
    {
      "cell_type": "code",
      "metadata": {
        "colab": {
          "base_uri": "https://localhost:8080/"
        },
        "id": "seD8lYDehs6a",
        "outputId": "f8013a15-9dc2-4118-9452-601dbcb50ff3"
      },
      "source": [
        "my_bool = False\n",
        "print(my_bool)\n",
        "\n",
        "print(type(my_bool))"
      ],
      "execution_count": null,
      "outputs": [
        {
          "output_type": "stream",
          "name": "stdout",
          "text": [
            "False\n",
            "<class 'bool'>\n"
          ]
        }
      ]
    },
    {
      "cell_type": "code",
      "metadata": {
        "colab": {
          "base_uri": "https://localhost:8080/"
        },
        "id": "USNBUcschs96",
        "outputId": "5619a704-14e3-4ea1-81aa-7a3f0757dfde"
      },
      "source": [
        "my_bool = True\n",
        "print(my_bool)\n",
        "\n",
        "print(type(my_bool))"
      ],
      "execution_count": null,
      "outputs": [
        {
          "output_type": "stream",
          "name": "stdout",
          "text": [
            "True\n",
            "<class 'bool'>\n"
          ]
        }
      ]
    },
    {
      "cell_type": "code",
      "metadata": {
        "colab": {
          "base_uri": "https://localhost:8080/"
        },
        "id": "J_VspGbnimi2",
        "outputId": "df12cdee-e3b8-48e8-8d7b-af55ea1aa7be"
      },
      "source": [
        "print(\"Addition \", 1+1)\n",
        "print(\"Subtraction \", 5-2)\n",
        "print(\"Multiplication \", 2*3)\n",
        "print(\"Division\", 10/2)\n",
        "print(\"exponent\", 2**3)\n"
      ],
      "execution_count": null,
      "outputs": [
        {
          "output_type": "stream",
          "name": "stdout",
          "text": [
            "Addition  2\n",
            "Subtraction  3\n",
            "Multiplication  6\n",
            "Division 5.0\n",
            "exponent 8\n"
          ]
        }
      ]
    },
    {
      "cell_type": "code",
      "metadata": {
        "colab": {
          "base_uri": "https://localhost:8080/"
        },
        "id": "c1C9hSBEimmQ",
        "outputId": "39af775a-30d0-45f5-a3c9-95cd7015f217"
      },
      "source": [
        "print(\"Addition \", 3+7)\n",
        "print(\"Subtraction \", 8-5)\n",
        "print(\"Multiplication \", 8*3)\n",
        "print(\"Division\", 21/3)\n",
        "print(\"exponent\", 3**2)"
      ],
      "execution_count": null,
      "outputs": [
        {
          "output_type": "stream",
          "name": "stdout",
          "text": [
            "Addition  10\n",
            "Subtraction  3\n",
            "Multiplication  24\n",
            "Division 7.0\n",
            "exponent 9\n"
          ]
        }
      ]
    },
    {
      "cell_type": "code",
      "metadata": {
        "colab": {
          "base_uri": "https://localhost:8080/"
        },
        "id": "U5QTa6aSimpi",
        "outputId": "ebdcc8e1-4ea9-4ec0-fe5d-733da469c5ce"
      },
      "source": [
        "my_list = ['Quant', 'Connect', 1,2,3]\n",
        "print(my_list)"
      ],
      "execution_count": null,
      "outputs": [
        {
          "output_type": "stream",
          "name": "stdout",
          "text": [
            "['Quant', 'Connect', 1, 2, 3]\n"
          ]
        }
      ]
    },
    {
      "cell_type": "code",
      "metadata": {
        "colab": {
          "base_uri": "https://localhost:8080/"
        },
        "id": "ebUx_uOximtD",
        "outputId": "163a253e-44f5-4973-b842-71340f17865b"
      },
      "source": [
        "my_list = ['decimal', 'entero', 7,5,9.6]\n",
        "print(my_list)\n"
      ],
      "execution_count": null,
      "outputs": [
        {
          "output_type": "stream",
          "name": "stdout",
          "text": [
            "['decimal', 'entero', 7, 5, 9.6]\n"
          ]
        }
      ]
    },
    {
      "cell_type": "code",
      "metadata": {
        "colab": {
          "base_uri": "https://localhost:8080/"
        },
        "id": "3At_cjUUimwt",
        "outputId": "215229e5-9817-4b80-8ac0-91e181ad2491"
      },
      "source": [
        "my_list = ['Quant', 'Connect', 1,2,3]\n",
        "print(len(my_list))\n",
        "print(my_list[0])\n",
        "print(my_list[len(my_list) - 1])"
      ],
      "execution_count": null,
      "outputs": [
        {
          "output_type": "stream",
          "name": "stdout",
          "text": [
            "5\n",
            "Quant\n",
            "3\n"
          ]
        }
      ]
    },
    {
      "cell_type": "code",
      "metadata": {
        "colab": {
          "base_uri": "https://localhost:8080/"
        },
        "id": "sH9TYoG4imzC",
        "outputId": "bac00b08-5d69-468d-cea6-b5d4b3745528"
      },
      "source": [
        "my_list = ['decimal', 'entero', 'ñ',7,5,9.6]\n",
        "print(len(my_list))\n",
        "print(my_list[1])\n",
        "print(my_list[len(my_list) - 2])"
      ],
      "execution_count": null,
      "outputs": [
        {
          "output_type": "stream",
          "name": "stdout",
          "text": [
            "6\n",
            "entero\n",
            "5\n"
          ]
        }
      ]
    },
    {
      "cell_type": "code",
      "metadata": {
        "colab": {
          "base_uri": "https://localhost:8080/"
        },
        "id": "Tt4iHQ1Him2B",
        "outputId": "ea67829f-5d19-4ff4-e64c-2fb6157e6868"
      },
      "source": [
        "my_list = ['Quant','Connect',1,2,3]\n",
        "my_list[2] = 'go'\n",
        "print(my_list)"
      ],
      "execution_count": null,
      "outputs": [
        {
          "output_type": "stream",
          "name": "stdout",
          "text": [
            "['Quant', 'Connect', 'go', 2, 3]\n"
          ]
        }
      ]
    },
    {
      "cell_type": "code",
      "metadata": {
        "colab": {
          "base_uri": "https://localhost:8080/"
        },
        "id": "CfrDUYOHim5c",
        "outputId": "3561a88c-ca58-4e02-e668-d094b51bc91e"
      },
      "source": [
        "my_list = ['Quant','Connect',1,2,3]\n",
        "my_list[3] = 'Casa'\n",
        "print(my_list)"
      ],
      "execution_count": null,
      "outputs": [
        {
          "output_type": "stream",
          "name": "stdout",
          "text": [
            "['Quant', 'Connect', 1, 'Casa', 3]\n"
          ]
        }
      ]
    },
    {
      "cell_type": "code",
      "metadata": {
        "colab": {
          "base_uri": "https://localhost:8080/"
        },
        "id": "yuIOSIosim8p",
        "outputId": "1ab6fc7f-dd23-4cbc-ee7c-e37afd972870"
      },
      "source": [
        "my_list = ['Quant','Connect',1,2,3]\n",
        "print(my_list[1:3])"
      ],
      "execution_count": null,
      "outputs": [
        {
          "output_type": "stream",
          "name": "stdout",
          "text": [
            "['Connect', 1]\n"
          ]
        }
      ]
    },
    {
      "cell_type": "code",
      "metadata": {
        "colab": {
          "base_uri": "https://localhost:8080/"
        },
        "id": "3LY-RLs4im_W",
        "outputId": "3179db9f-b096-48a4-9f2f-37b1a5c3f0b1"
      },
      "source": [
        "my_list = ['decimal', 'entero', 'ñ',7,5,9.6]\n",
        "print(my_list[1:5])"
      ],
      "execution_count": null,
      "outputs": [
        {
          "output_type": "stream",
          "name": "stdout",
          "text": [
            "['entero', 'ñ', 7, 5]\n"
          ]
        }
      ]
    },
    {
      "cell_type": "code",
      "metadata": {
        "colab": {
          "base_uri": "https://localhost:8080/"
        },
        "id": "KEuRj03QinCO",
        "outputId": "46c0171e-9f0a-4562-ea55-c3d97405dfc1"
      },
      "source": [
        "my_list = ['Quant','Connect',1,2,3]\n",
        "print(my_list[1:])"
      ],
      "execution_count": null,
      "outputs": [
        {
          "output_type": "stream",
          "name": "stdout",
          "text": [
            "['Connect', 1, 2, 3]\n"
          ]
        }
      ]
    },
    {
      "cell_type": "code",
      "metadata": {
        "colab": {
          "base_uri": "https://localhost:8080/"
        },
        "id": "BP7krtO5inFc",
        "outputId": "376e8aa8-4a84-4f5c-c238-c9ac1e7eeb23"
      },
      "source": [
        "my_list = ['decimal', 'entero', 'ñ',7,5,9.6]\n",
        "print(my_list[2:])"
      ],
      "execution_count": null,
      "outputs": [
        {
          "output_type": "stream",
          "name": "stdout",
          "text": [
            "['ñ', 7, 5, 9.6]\n"
          ]
        }
      ]
    },
    {
      "cell_type": "code",
      "metadata": {
        "colab": {
          "base_uri": "https://localhost:8080/"
        },
        "id": "Xo0LOdnFinLs",
        "outputId": "04c8b50d-5499-4f0f-d375-f356f594fb5a"
      },
      "source": [
        "my_list = ['Quant','Connect',1,2,3]\n",
        "print(my_list[:3])"
      ],
      "execution_count": null,
      "outputs": [
        {
          "output_type": "stream",
          "name": "stdout",
          "text": [
            "['Quant', 'Connect', 1]\n"
          ]
        }
      ]
    },
    {
      "cell_type": "code",
      "metadata": {
        "colab": {
          "base_uri": "https://localhost:8080/"
        },
        "id": "pxm2K_dmhtBC",
        "outputId": "06afcc02-fd50-4148-b83e-66acd2a880c1"
      },
      "source": [
        "my_list = ['decimal', 'entero', 'ñ',7,5,9.6]\n",
        "print(my_list[:4])"
      ],
      "execution_count": null,
      "outputs": [
        {
          "output_type": "stream",
          "name": "stdout",
          "text": [
            "['decimal', 'entero', 'ñ', 7]\n"
          ]
        }
      ]
    },
    {
      "cell_type": "code",
      "metadata": {
        "colab": {
          "base_uri": "https://localhost:8080/"
        },
        "id": "BTfzv96-htEI",
        "outputId": "6378bfe3-87d5-4eef-d956-d4faea4dcc48"
      },
      "source": [
        "my_list = ['Hello', 'Quant']\n",
        "my_list.append('Hello')\n",
        "print(my_list)\n",
        "\n",
        "my_list.remove('Hello')\n",
        "print(my_list)\n"
      ],
      "execution_count": null,
      "outputs": [
        {
          "output_type": "stream",
          "name": "stdout",
          "text": [
            "['Hello', 'Quant', 'Hello']\n",
            "['Quant', 'Hello']\n"
          ]
        }
      ]
    },
    {
      "cell_type": "code",
      "metadata": {
        "colab": {
          "base_uri": "https://localhost:8080/"
        },
        "id": "JEGho7l2htHK",
        "outputId": "7534261c-0640-42a2-93b0-648333bcc04e"
      },
      "source": [
        "my_list = ['hola', 'salir']\n",
        "my_list.append('hola')\n",
        "print(my_list)\n",
        "\n",
        "my_list.remove('hola')\n",
        "print(my_list)"
      ],
      "execution_count": null,
      "outputs": [
        {
          "output_type": "stream",
          "name": "stdout",
          "text": [
            "['hola', 'salir', 'hola']\n",
            "['salir', 'hola']\n"
          ]
        }
      ]
    },
    {
      "cell_type": "code",
      "metadata": {
        "colab": {
          "base_uri": "https://localhost:8080/"
        },
        "id": "SEjzaoY9htKT",
        "outputId": "075b22d8-3f34-4a01-8c04-c291c32dca29"
      },
      "source": [
        "my_tuple = ('Welcome','to','QuantConnect')\n",
        "print(my_tuple[1:])"
      ],
      "execution_count": null,
      "outputs": [
        {
          "output_type": "stream",
          "name": "stdout",
          "text": [
            "('to', 'QuantConnect')\n"
          ]
        }
      ]
    },
    {
      "cell_type": "code",
      "metadata": {
        "colab": {
          "base_uri": "https://localhost:8080/"
        },
        "id": "aLdqYht5htNK",
        "outputId": "fd8f9b8a-4c6b-4db5-9408-af4d5cec015c"
      },
      "source": [
        "my_tuple = ('Esto','no','se','cambia')\n",
        "print(my_tuple[2:])"
      ],
      "execution_count": null,
      "outputs": [
        {
          "output_type": "stream",
          "name": "stdout",
          "text": [
            "('se', 'cambia')\n"
          ]
        }
      ]
    },
    {
      "cell_type": "code",
      "metadata": {
        "colab": {
          "base_uri": "https://localhost:8080/"
        },
        "id": "_DnAdKU_htQc",
        "outputId": "64788bce-1289-40c9-c6df-799c83576158"
      },
      "source": [
        "stock_list = ['AAPL','GOOG','IBM','AAPL','IBM','FB','F','GOOG']\n",
        "stock_set = set(stock_list)\n",
        "print(stock_set)"
      ],
      "execution_count": null,
      "outputs": [
        {
          "output_type": "stream",
          "name": "stdout",
          "text": [
            "{'FB', 'AAPL', 'GOOG', 'IBM', 'F'}\n"
          ]
        }
      ]
    },
    {
      "cell_type": "code",
      "metadata": {
        "colab": {
          "base_uri": "https://localhost:8080/"
        },
        "id": "k-yOOjvXhtTW",
        "outputId": "1533b23c-eeff-43e5-de95-6168b07cc1a6"
      },
      "source": [
        "stock_list = ['casa','carro','hoy','casa','hoy','FC','J','carro']\n",
        "stock_set = set(stock_list)\n",
        "print(stock_set)"
      ],
      "execution_count": null,
      "outputs": [
        {
          "output_type": "stream",
          "name": "stdout",
          "text": [
            "{'FC', 'carro', 'hoy', 'casa', 'J'}\n"
          ]
        }
      ]
    },
    {
      "cell_type": "code",
      "metadata": {
        "colab": {
          "base_uri": "https://localhost:8080/"
        },
        "id": "trY8btGlhtY6",
        "outputId": "5f799825-f502-4784-e65a-509ed06c1d07"
      },
      "source": [
        "my_dic = {'AAPL': 'Apple', 'FB': 'FaceBook', 'GOOG': 'Alphabet'}\n",
        "print(my_dic['GOOG'])"
      ],
      "execution_count": null,
      "outputs": [
        {
          "output_type": "stream",
          "name": "stdout",
          "text": [
            "Alphabet\n"
          ]
        }
      ]
    },
    {
      "cell_type": "code",
      "metadata": {
        "colab": {
          "base_uri": "https://localhost:8080/"
        },
        "id": "4vOXj3YKjrUO",
        "outputId": "416a3163-e5cc-4cdc-fdd7-166a9c9bf9c1"
      },
      "source": [
        "my_dic = {'KZA': 'casa', 'P': 'perro', '7': 'cristiano'}\n",
        "print(my_dic['7'])"
      ],
      "execution_count": null,
      "outputs": [
        {
          "output_type": "stream",
          "name": "stdout",
          "text": [
            "cristiano\n"
          ]
        }
      ]
    },
    {
      "cell_type": "code",
      "metadata": {
        "colab": {
          "base_uri": "https://localhost:8080/"
        },
        "id": "6Lg2icpKhtbf",
        "outputId": "c44d080a-5d8c-48d1-b4e5-5e4b01df95ed"
      },
      "source": [
        "my_dic = {'AAPL': 'Apple', 'FB': 'FaceBook', 'GOOG': 'Alphabet'}\n",
        "my_dic['GOOG'] = 'Alphabet Company'\n",
        "print(my_dic['GOOG'])"
      ],
      "execution_count": null,
      "outputs": [
        {
          "output_type": "stream",
          "name": "stdout",
          "text": [
            "Alphabet Company\n"
          ]
        }
      ]
    },
    {
      "cell_type": "code",
      "metadata": {
        "colab": {
          "base_uri": "https://localhost:8080/"
        },
        "id": "zXLFTb9xjrCx",
        "outputId": "dec4a4c3-a26b-49c2-9d2c-c6235c879651"
      },
      "source": [
        "my_dic = {'KZA': 'casa', 'P': 'perro', '7': 'cristiano'}\n",
        "my_dic['7'] = 'CR7'\n",
        "print(my_dic['7'])"
      ],
      "execution_count": null,
      "outputs": [
        {
          "output_type": "stream",
          "name": "stdout",
          "text": [
            "CR7\n"
          ]
        }
      ]
    },
    {
      "cell_type": "code",
      "metadata": {
        "colab": {
          "base_uri": "https://localhost:8080/"
        },
        "id": "oW3felaejrND",
        "outputId": "252ba778-a9a1-4daf-8b7e-06f59418251d"
      },
      "source": [
        "my_dic = {'AAPL': 'Apple', 'FB': 'FaceBook', 'GOOG': 'Alphabet'}\n",
        "print(my_dic.keys())\n"
      ],
      "execution_count": null,
      "outputs": [
        {
          "output_type": "stream",
          "name": "stdout",
          "text": [
            "dict_keys(['AAPL', 'FB', 'GOOG'])\n"
          ]
        }
      ]
    },
    {
      "cell_type": "code",
      "metadata": {
        "colab": {
          "base_uri": "https://localhost:8080/"
        },
        "id": "2C5gFQhSjrRR",
        "outputId": "01047b63-66ea-4226-c3fa-e8cbdc9a2c29"
      },
      "source": [
        "my_dic = {'KZA': 'casa', 'P': 'perro', '7': 'cristiano'}\n",
        "print(my_dic.keys())"
      ],
      "execution_count": null,
      "outputs": [
        {
          "output_type": "stream",
          "name": "stdout",
          "text": [
            "dict_keys(['KZA', 'P', '7'])\n"
          ]
        }
      ]
    },
    {
      "cell_type": "code",
      "metadata": {
        "colab": {
          "base_uri": "https://localhost:8080/"
        },
        "id": "Zd5AKQ1ojrWx",
        "outputId": "a3d6bd01-e310-4af5-8818-52805309c9a4"
      },
      "source": [
        "my_str = 'Welcome to QuantConnect'\n",
        "print(my_str[8:])"
      ],
      "execution_count": null,
      "outputs": [
        {
          "output_type": "stream",
          "name": "stdout",
          "text": [
            "to QuantConnect\n"
          ]
        }
      ]
    },
    {
      "cell_type": "code",
      "metadata": {
        "colab": {
          "base_uri": "https://localhost:8080/"
        },
        "id": "KMINvJsWjrp8",
        "outputId": "2f6ec5e2-e3a9-4fe8-b453-0bb13d38eee1"
      },
      "source": [
        "my_str = 'Esto es un String largo'\n",
        "print(my_str[6:])"
      ],
      "execution_count": null,
      "outputs": [
        {
          "output_type": "stream",
          "name": "stdout",
          "text": [
            "s un String largo\n"
          ]
        }
      ]
    },
    {
      "cell_type": "code",
      "metadata": {
        "colab": {
          "base_uri": "https://localhost:8080/"
        },
        "id": "LIDY5gS1jrvr",
        "outputId": "4e0c2328-d85c-4268-98e6-e5ed8decd245"
      },
      "source": [
        "print(\"Counting the number of e's in this sentence\".count('e'))\n",
        "\n",
        "print('The first time e appears in this sentence'.find('e'))\n",
        "\n",
        "print('all the a in this sentence now becomes e'.replace('a','e'))\n"
      ],
      "execution_count": null,
      "outputs": [
        {
          "output_type": "stream",
          "name": "stdout",
          "text": [
            "6\n",
            "2\n",
            "ell the e in this sentence now becomes e\n"
          ]
        }
      ]
    },
    {
      "cell_type": "code",
      "metadata": {
        "colab": {
          "base_uri": "https://localhost:8080/"
        },
        "id": "pkEJagyUjrye",
        "outputId": "519a40c1-320a-478a-ae38-d3ce9fc2c708"
      },
      "source": [
        "print(\"contar la cantidad de aes que puse\".count('a'))\n",
        "\n",
        "print('Hay que encontar la primera o'.find('o'))\n",
        "\n",
        "print('hay que ser inclusivos, presidenta'.replace('o','e'))"
      ],
      "execution_count": null,
      "outputs": [
        {
          "output_type": "stream",
          "name": "stdout",
          "text": [
            "5\n",
            "11\n",
            "hay que ser inclusives, presidenta\n"
          ]
        }
      ]
    },
    {
      "cell_type": "code",
      "metadata": {
        "colab": {
          "base_uri": "https://localhost:8080/"
        },
        "id": "CVLARvxDjr1e",
        "outputId": "9a45761a-dc68-4157-ae9c-5be2727aca27"
      },
      "source": [
        "Time = '2016-04-01 09:43:00'\n",
        "splited_list = Time.split(' ')\n",
        "date = splited_list[0]\n",
        "time = splited_list[1]\n",
        "print(date, time)\n",
        "\n",
        "hour = time.split(':')[0]\n",
        "print(hour)\n"
      ],
      "execution_count": null,
      "outputs": [
        {
          "output_type": "stream",
          "name": "stdout",
          "text": [
            "2016-04-01 09:43:00\n",
            "09\n"
          ]
        }
      ]
    },
    {
      "cell_type": "code",
      "metadata": {
        "colab": {
          "base_uri": "https://localhost:8080/"
        },
        "id": "-4ozemzGjr4C",
        "outputId": "99cdf5fc-7cd0-477d-a70a-3618cf249799"
      },
      "source": [
        "fecha = '2021-12-01 06:12:05'\n",
        "splited_list = fecha.split(' ')\n",
        "date = splited_list[0]\n",
        "time = splited_list[1]\n",
        "print(date, time)\n",
        "\n",
        "minuto = time.split(':')[1]\n",
        "print(minuto)"
      ],
      "execution_count": null,
      "outputs": [
        {
          "output_type": "stream",
          "name": "stdout",
          "text": [
            "2021-12-01 06:12:05\n",
            "12\n"
          ]
        }
      ]
    },
    {
      "cell_type": "code",
      "metadata": {
        "colab": {
          "base_uri": "https://localhost:8080/"
        },
        "id": "2t8IYOQDjr6t",
        "outputId": "268dd60c-7be9-470d-b23c-4cde5e152781"
      },
      "source": [
        "my_time = 'Hour: {}, Minute: {}'.format(9, 43)\n",
        "print(my_time)"
      ],
      "execution_count": null,
      "outputs": [
        {
          "output_type": "stream",
          "name": "stdout",
          "text": [
            "Hour: 9, Minute: 43\n"
          ]
        }
      ]
    },
    {
      "cell_type": "code",
      "metadata": {
        "colab": {
          "base_uri": "https://localhost:8080/"
        },
        "id": "bL2tJDCPjr9H",
        "outputId": "10e64e87-50a1-4e77-81da-c2915c4b3aa5"
      },
      "source": [
        "stats = 'Goles: {}, Asistencias: {}'.format(5, 23)\n",
        "print(stats)"
      ],
      "execution_count": null,
      "outputs": [
        {
          "output_type": "stream",
          "name": "stdout",
          "text": [
            "Goles: 5, Asistencias: 23\n"
          ]
        }
      ]
    },
    {
      "cell_type": "code",
      "metadata": {
        "colab": {
          "base_uri": "https://localhost:8080/"
        },
        "id": "HueOyyYwjr_x",
        "outputId": "2e334a73-7391-4b18-a20d-aef8347e0365"
      },
      "source": [
        "print('pi is %f' % 3.14) \n",
        "\n",
        "print('%s to %s' % ('Welcome', 'QuantConnect'))\n"
      ],
      "execution_count": null,
      "outputs": [
        {
          "output_type": "stream",
          "name": "stdout",
          "text": [
            "pi is 3.140000\n",
            "Welcome to QuantConnect\n"
          ]
        }
      ]
    },
    {
      "cell_type": "code",
      "metadata": {
        "colab": {
          "base_uri": "https://localhost:8080/"
        },
        "id": "t2ZFp2kgjsCZ",
        "outputId": "e6608934-137b-4086-ecbe-d312070f96a0"
      },
      "source": [
        "print('El numero de Euler es %f' % 2.718) \n",
        "\n",
        "print('%s es %s %d' % ('Hoy', 'martes', 12))"
      ],
      "execution_count": null,
      "outputs": [
        {
          "output_type": "stream",
          "name": "stdout",
          "text": [
            "El numero de Euler es 2.718000\n",
            "Hoy es martes 12\n"
          ]
        }
      ]
    },
    {
      "cell_type": "markdown",
      "metadata": {
        "id": "HcPDHa5Ol3MJ"
      },
      "source": [
        "Parte **2**"
      ]
    },
    {
      "cell_type": "code",
      "metadata": {
        "colab": {
          "base_uri": "https://localhost:8080/"
        },
        "id": "lOXwJNuCjsFu",
        "outputId": "0bd7eb77-68c5-44b2-e6f9-394204689038"
      },
      "source": [
        "print (1 == 0)    # 1 equals 0\n",
        "print(1 == 1)    # 1 equals 1\n",
        "print (1 != 0)    # 1 is not equal to 0\n",
        "print (5 >= 5)    # 5 is greater than or equal to 5\n",
        "print (5 >= 6)    # 5 is greater than or equal to 6"
      ],
      "execution_count": null,
      "outputs": [
        {
          "output_type": "stream",
          "name": "stdout",
          "text": [
            "False\n",
            "True\n",
            "True\n",
            "True\n",
            "False\n"
          ]
        }
      ]
    },
    {
      "cell_type": "code",
      "metadata": {
        "colab": {
          "base_uri": "https://localhost:8080/"
        },
        "id": "ekOSo3Y4jsIH",
        "outputId": "674ac701-b659-4e08-f6d9-de2e0187fd4d"
      },
      "source": [
        "print (210 == 210)    \n",
        "print(112 == 11)   \n",
        "print (0 != 0)    \n",
        "print (1 >= 45)    \n",
        "print (15 >= 6)\n",
        "print (23 <= 8) "
      ],
      "execution_count": null,
      "outputs": [
        {
          "output_type": "stream",
          "name": "stdout",
          "text": [
            "True\n",
            "False\n",
            "False\n",
            "False\n",
            "True\n",
            "False\n"
          ]
        }
      ]
    },
    {
      "cell_type": "code",
      "metadata": {
        "colab": {
          "base_uri": "https://localhost:8080/"
        },
        "id": "VvP4BeX_jsLD",
        "outputId": "f6265c1c-c926-4b68-8177-4996dc2e8fc9"
      },
      "source": [
        "print (2 > 1 and 3 > 2)\n",
        "print (2 > 1 and 3 < 2)\n",
        "print (2 > 1 or  3 < 2)\n",
        "print (2 < 1 and 3 < 2)"
      ],
      "execution_count": null,
      "outputs": [
        {
          "output_type": "stream",
          "name": "stdout",
          "text": [
            "True\n",
            "False\n",
            "True\n",
            "False\n"
          ]
        }
      ]
    },
    {
      "cell_type": "code",
      "metadata": {
        "colab": {
          "base_uri": "https://localhost:8080/"
        },
        "id": "TXdUzzcLjsOY",
        "outputId": "e37e73d0-b8f5-4507-8b20-4d2631c4d14f"
      },
      "source": [
        "print (5 > 6 and 1 >= 1)\n",
        "print (21 < 26 or 3 == 2)\n",
        "print (56 >= 1 or  7 < 12)\n",
        "print (7 < 19 and 31 <= 5)"
      ],
      "execution_count": null,
      "outputs": [
        {
          "output_type": "stream",
          "name": "stdout",
          "text": [
            "False\n",
            "True\n",
            "True\n",
            "False\n"
          ]
        }
      ]
    },
    {
      "cell_type": "code",
      "metadata": {
        "colab": {
          "base_uri": "https://localhost:8080/"
        },
        "id": "9HglROu2jsQ-",
        "outputId": "f9bf5dbd-9853-406e-f003-214aa2749d6c"
      },
      "source": [
        "print ((3 > 2 or 1 < 3) and (1!=3 and 4>3) and not ( 3 < 2 or 1 < 3 and (1!=3 and 4>3)))\n",
        "print (3 > 2 or 1 < 3 and (1!=3 and 4>3) and not ( 3 < 2 or 1 < 3 and (1!=3 and 4>3)))"
      ],
      "execution_count": null,
      "outputs": [
        {
          "output_type": "stream",
          "name": "stdout",
          "text": [
            "False\n",
            "True\n"
          ]
        }
      ]
    },
    {
      "cell_type": "code",
      "metadata": {
        "colab": {
          "base_uri": "https://localhost:8080/"
        },
        "id": "MMZrhV65jsUk",
        "outputId": "0ddf805c-1c07-4121-fdf8-93f08f44691a"
      },
      "source": [
        "print ((56 >= 4 or 8 < 3) or (1!=3 and 58>3) and not ( 33 < 22 or 11 < 3 or (10!=45 and 4>=0)))\n",
        "print (31 > 2 or 9 <= 3 and (95!=36 and 4>35) or not ( 21 < 74 or 26 < 3 and (3!=3 or 74>3)))"
      ],
      "execution_count": null,
      "outputs": [
        {
          "output_type": "stream",
          "name": "stdout",
          "text": [
            "True\n",
            "True\n"
          ]
        }
      ]
    },
    {
      "cell_type": "code",
      "metadata": {
        "colab": {
          "base_uri": "https://localhost:8080/"
        },
        "id": "u34cgUHhjsXu",
        "outputId": "3d48978a-51d9-4040-819d-00ac6e7cffb3"
      },
      "source": [
        "i = 0\n",
        "if i == 0: print ('i == 0 is True')"
      ],
      "execution_count": null,
      "outputs": [
        {
          "output_type": "stream",
          "name": "stdout",
          "text": [
            "i == 0 is True\n"
          ]
        }
      ]
    },
    {
      "cell_type": "code",
      "metadata": {
        "colab": {
          "base_uri": "https://localhost:8080/"
        },
        "id": "yYahYqv_jsaZ",
        "outputId": "525931b3-89c4-472b-fc90-3914d104ad5a"
      },
      "source": [
        "i = 12\n",
        "if i != 0: print ('i == 0 is  NOT True')"
      ],
      "execution_count": null,
      "outputs": [
        {
          "output_type": "stream",
          "name": "stdout",
          "text": [
            "i == 0 is  NOT True\n"
          ]
        }
      ]
    },
    {
      "cell_type": "code",
      "metadata": {
        "colab": {
          "base_uri": "https://localhost:8080/"
        },
        "id": "AfL22S14jsdC",
        "outputId": "c2fbffa0-5fbd-42bd-b1a0-023f96c8a994"
      },
      "source": [
        "p = 1 > 0\n",
        "q = 2 > 3\n",
        "if p and q:\n",
        "    print ('p and q is true')\n",
        "elif p and not q:\n",
        "    print ('q is false')\n",
        "elif q and not p:\n",
        "    print ('p is false')\n",
        "else:\n",
        "    print ('None of p and q is true')"
      ],
      "execution_count": null,
      "outputs": [
        {
          "output_type": "stream",
          "name": "stdout",
          "text": [
            "q is false\n"
          ]
        }
      ]
    },
    {
      "cell_type": "code",
      "metadata": {
        "colab": {
          "base_uri": "https://localhost:8080/"
        },
        "id": "SbKjGsKtjsfv",
        "outputId": "9c5c7336-4df0-43f2-fbb9-5850f9f84cbf"
      },
      "source": [
        "p = -1 >= 0\n",
        "q = 2 >= 3\n",
        "if p or q:\n",
        "    print ('p or q is true')\n",
        "elif p and not q:\n",
        "    print ('q is false')\n",
        "elif q or not p:\n",
        "    print ('p is false')\n",
        "else:\n",
        "    print ('None of p and q is true')"
      ],
      "execution_count": null,
      "outputs": [
        {
          "output_type": "stream",
          "name": "stdout",
          "text": [
            "p is false\n"
          ]
        }
      ]
    },
    {
      "cell_type": "code",
      "metadata": {
        "colab": {
          "base_uri": "https://localhost:8080/"
        },
        "id": "Pe79Roe3jsid",
        "outputId": "2f50b77e-c3ab-4f65-d4f8-db179c007458"
      },
      "source": [
        "i = 0\n",
        "while i < 5:\n",
        "    print (i)\n",
        "    i += 1"
      ],
      "execution_count": null,
      "outputs": [
        {
          "output_type": "stream",
          "name": "stdout",
          "text": [
            "0\n",
            "1\n",
            "2\n",
            "3\n",
            "4\n"
          ]
        }
      ]
    },
    {
      "cell_type": "code",
      "metadata": {
        "colab": {
          "base_uri": "https://localhost:8080/"
        },
        "id": "URTMF3hljslR",
        "outputId": "9480ee70-96d1-4d1e-cc86-9932fbee9d09"
      },
      "source": [
        "i = 12\n",
        "while i > 3:\n",
        "    print (i)\n",
        "    i -= 1"
      ],
      "execution_count": null,
      "outputs": [
        {
          "output_type": "stream",
          "name": "stdout",
          "text": [
            "12\n",
            "11\n",
            "10\n",
            "9\n",
            "8\n",
            "7\n",
            "6\n",
            "5\n",
            "4\n"
          ]
        }
      ]
    },
    {
      "cell_type": "code",
      "metadata": {
        "colab": {
          "base_uri": "https://localhost:8080/"
        },
        "id": "eVBIF69Njsn5",
        "outputId": "9f897b0d-f090-486b-f78f-3589cc53316c"
      },
      "source": [
        "for x in [1,2,3,4,5]: print (x)"
      ],
      "execution_count": null,
      "outputs": [
        {
          "output_type": "stream",
          "name": "stdout",
          "text": [
            "1\n",
            "2\n",
            "3\n",
            "4\n",
            "5\n"
          ]
        }
      ]
    },
    {
      "cell_type": "code",
      "metadata": {
        "colab": {
          "base_uri": "https://localhost:8080/"
        },
        "id": "fwsiyOtEjsq0",
        "outputId": "2081b695-2918-43c7-9374-218ec863c707"
      },
      "source": [
        "for x in [10,25,30,40,55]: print (x+3)"
      ],
      "execution_count": null,
      "outputs": [
        {
          "output_type": "stream",
          "name": "stdout",
          "text": [
            "13\n",
            "28\n",
            "33\n",
            "43\n",
            "58\n"
          ]
        }
      ]
    },
    {
      "cell_type": "code",
      "metadata": {
        "colab": {
          "base_uri": "https://localhost:8080/"
        },
        "id": "4MnrEZD_wlfo",
        "outputId": "16d23550-47a8-4fdb-c0f2-22a1d1ac5f99"
      },
      "source": [
        "stocks = ['AAPL','GOOG','IBM','FB','F','V', 'G', 'GE']\n",
        "selected = ['AAPL','IBM']\n",
        "new_list = []\n",
        "for stock in stocks:\n",
        "    if stock not in selected:\n",
        "        new_list.append(stock)\n",
        "print (new_list)"
      ],
      "execution_count": null,
      "outputs": [
        {
          "output_type": "stream",
          "name": "stdout",
          "text": [
            "['GOOG', 'FB', 'F', 'V', 'G', 'GE']\n"
          ]
        }
      ]
    },
    {
      "cell_type": "code",
      "metadata": {
        "colab": {
          "base_uri": "https://localhost:8080/"
        },
        "id": "xF_wPI-zww2N",
        "outputId": "887780dc-8c66-4d6d-c25d-d65ae9dbaeb5"
      },
      "source": [
        "num = [1,1,1,15,18,29,18,81,51,5,8,1,5,5,5,2,7,151,1,81]\n",
        "noSeleccionar = [5,1,7]\n",
        "new_list = []\n",
        "for i in num:\n",
        "    if i not in noSeleccionar:\n",
        "        new_list.append(i)\n",
        "print (new_list)"
      ],
      "execution_count": null,
      "outputs": [
        {
          "output_type": "stream",
          "name": "stdout",
          "text": [
            "[15, 18, 29, 18, 81, 51, 8, 2, 151, 81]\n"
          ]
        }
      ]
    },
    {
      "cell_type": "code",
      "metadata": {
        "colab": {
          "base_uri": "https://localhost:8080/"
        },
        "id": "CVPyNm2vx-xE",
        "outputId": "3cd419fa-d46f-4d15-87d2-4d5e4df5e9d4"
      },
      "source": [
        "stocks = ['AAPL','GOOG','IBM','FB','F','V', 'G', 'GE']\n",
        "for stock in stocks:\n",
        "    print (stock)\n",
        "    if stock == 'FB': break"
      ],
      "execution_count": null,
      "outputs": [
        {
          "output_type": "stream",
          "name": "stdout",
          "text": [
            "AAPL\n",
            "GOOG\n",
            "IBM\n",
            "FB\n"
          ]
        }
      ]
    },
    {
      "cell_type": "code",
      "metadata": {
        "colab": {
          "base_uri": "https://localhost:8080/"
        },
        "id": "Ij6p5JspyM8O",
        "outputId": "f8786730-78af-407d-82e1-adf4ea8ce950"
      },
      "source": [
        "num = [168,186,53,16,52,176,655,15,64,1,4,4,8,5,4,648,1]\n",
        "for i in num:\n",
        "    print (i)\n",
        "    if i == 15: break"
      ],
      "execution_count": null,
      "outputs": [
        {
          "output_type": "stream",
          "name": "stdout",
          "text": [
            "168\n",
            "186\n",
            "53\n",
            "16\n",
            "52\n",
            "176\n",
            "655\n",
            "15\n"
          ]
        }
      ]
    },
    {
      "cell_type": "code",
      "metadata": {
        "colab": {
          "base_uri": "https://localhost:8080/"
        },
        "id": "uPFeziYpyrRe",
        "outputId": "f381a615-a9ec-4408-86d4-37df298641a0"
      },
      "source": [
        "stocks = ['AAPL','GOOG','IBM','FB','F','V', 'G', 'GE']\n",
        "for stock in stocks:\n",
        "    if stock == 'FB': continue\n",
        "    print (stock)"
      ],
      "execution_count": null,
      "outputs": [
        {
          "output_type": "stream",
          "name": "stdout",
          "text": [
            "AAPL\n",
            "GOOG\n",
            "IBM\n",
            "F\n",
            "V\n",
            "G\n",
            "GE\n"
          ]
        }
      ]
    },
    {
      "cell_type": "code",
      "metadata": {
        "colab": {
          "base_uri": "https://localhost:8080/"
        },
        "id": "7p__-vRtywcY",
        "outputId": "9343d1fd-5d90-4e04-f8e3-d324a7b1ec66"
      },
      "source": [
        "num = [168,186,15,16,52,176,655,15,64,1,41]\n",
        "for i in num:\n",
        "    if i == 15: continue\n",
        "    print (i)"
      ],
      "execution_count": null,
      "outputs": [
        {
          "output_type": "stream",
          "name": "stdout",
          "text": [
            "168\n",
            "186\n",
            "16\n",
            "52\n",
            "176\n",
            "655\n",
            "64\n",
            "1\n",
            "41\n"
          ]
        }
      ]
    },
    {
      "cell_type": "code",
      "metadata": {
        "colab": {
          "base_uri": "https://localhost:8080/"
        },
        "id": "fiG0vcSvzSUP",
        "outputId": "df4753c3-f33c-4eab-907d-bbab840b3e72"
      },
      "source": [
        "squares = []\n",
        "for i in [1,2,3,4,5]:\n",
        "    squares.append(i**2)\n",
        "print (squares)"
      ],
      "execution_count": null,
      "outputs": [
        {
          "output_type": "stream",
          "name": "stdout",
          "text": [
            "[1, 4, 9, 16, 25]\n"
          ]
        }
      ]
    },
    {
      "cell_type": "code",
      "metadata": {
        "colab": {
          "base_uri": "https://localhost:8080/"
        },
        "id": "hm9IX93Fzozc",
        "outputId": "6014710d-0385-4ba0-8b7c-80085424cab4"
      },
      "source": [
        "cubic= []\n",
        "for i in [1,2,3,4,5]:\n",
        "    cubic.append(i**3)\n",
        "print (cubic)"
      ],
      "execution_count": null,
      "outputs": [
        {
          "output_type": "stream",
          "name": "stdout",
          "text": [
            "[1, 8, 27, 64, 125]\n"
          ]
        }
      ]
    },
    {
      "cell_type": "code",
      "metadata": {
        "colab": {
          "base_uri": "https://localhost:8080/"
        },
        "id": "BgGF9SFBz_W5",
        "outputId": "b82fff24-0fbf-47ea-cff6-4b3a09e63ee7"
      },
      "source": [
        "foo = [1,2,3,4,5]\n",
        "squares = [x**2 for x in foo]\n",
        "print (squares)\n"
      ],
      "execution_count": null,
      "outputs": [
        {
          "output_type": "stream",
          "name": "stdout",
          "text": [
            "[1, 4, 9, 16, 25]\n"
          ]
        }
      ]
    },
    {
      "cell_type": "code",
      "metadata": {
        "colab": {
          "base_uri": "https://localhost:8080/"
        },
        "id": "Jjt9RuFP0Fye",
        "outputId": "9066f49b-6eef-4749-d5b7-ff5c99bb89bb"
      },
      "source": [
        "num = [0,2,4,6,8]\n",
        "cubic = [x**3 for x in num]\n",
        "print (cubic)"
      ],
      "execution_count": null,
      "outputs": [
        {
          "output_type": "stream",
          "name": "stdout",
          "text": [
            "[0, 8, 64, 216, 512]\n"
          ]
        }
      ]
    },
    {
      "cell_type": "code",
      "metadata": {
        "colab": {
          "base_uri": "https://localhost:8080/"
        },
        "id": "wnSSeis-0hVj",
        "outputId": "4fd5841d-004b-4eb2-b425-a3fc26896920"
      },
      "source": [
        "stocks = ['AAPL','GOOG','IBM','FB','F','V', 'G', 'GE']\n",
        "selected = ['AAPL','IBM']\n",
        "new_list = [x for x in stocks if x not in selected]\n",
        "print (new_list)"
      ],
      "execution_count": null,
      "outputs": [
        {
          "output_type": "stream",
          "name": "stdout",
          "text": [
            "['GOOG', 'FB', 'F', 'V', 'G', 'GE']\n"
          ]
        }
      ]
    },
    {
      "cell_type": "code",
      "metadata": {
        "colab": {
          "base_uri": "https://localhost:8080/"
        },
        "id": "8ujn6xzw0spK",
        "outputId": "eaaccd62-0a77-4bc0-93f6-6f85e5071476"
      },
      "source": [
        "objeto = ['casa','carro','IBM','silla','mouse','sabana', 'garaje', 'cepillo']\n",
        "noNecesario = ['carro','garaje','IBM']\n",
        "new_list = [x for x in objeto if x not in noNecesario]\n",
        "print (new_list)"
      ],
      "execution_count": null,
      "outputs": [
        {
          "output_type": "stream",
          "name": "stdout",
          "text": [
            "['casa', 'silla', 'mouse', 'sabana', 'cepillo']\n"
          ]
        }
      ]
    },
    {
      "cell_type": "code",
      "metadata": {
        "colab": {
          "base_uri": "https://localhost:8080/"
        },
        "id": "bCuSUSM62bfv",
        "outputId": "7b1635db-a62d-4677-abc7-b8b5b18af56e"
      },
      "source": [
        "print ([(x, y) for x in [1,2,3] for y in [3,1,4] if x != y])\n",
        "print ([str(x) + ' vs ' + str(y) for x in ['AAPL','GOOG','IBM','FB']\n",
        "                                for y in ['F','V','G','GE'] if x != y])"
      ],
      "execution_count": null,
      "outputs": [
        {
          "output_type": "stream",
          "name": "stdout",
          "text": [
            "[(1, 3), (1, 4), (2, 3), (2, 1), (2, 4), (3, 1), (3, 4)]\n",
            "['AAPL vs F', 'AAPL vs V', 'AAPL vs G', 'AAPL vs GE', 'GOOG vs F', 'GOOG vs V', 'GOOG vs G', 'GOOG vs GE', 'IBM vs F', 'IBM vs V', 'IBM vs G', 'IBM vs GE', 'FB vs F', 'FB vs V', 'FB vs G', 'FB vs GE']\n"
          ]
        }
      ]
    },
    {
      "cell_type": "code",
      "metadata": {
        "colab": {
          "base_uri": "https://localhost:8080/"
        },
        "id": "xkQD3o_B2hOf",
        "outputId": "a09fb625-d787-43ae-ab63-a764d5a2de8c"
      },
      "source": [
        "print ([(x, y) for x in [7,2,3,9,5,45,8,2,6] for y in [3,1,4,1,1,8,3,9,48,281,5] if x <= y])\n",
        "print ([str(x) + ' vs ' + str(y) for x in ['COL','BRA','VEN','URU']\n",
        "                                for y in ['ARG','BRA','COL','PER'] if x != y])"
      ],
      "execution_count": null,
      "outputs": [
        {
          "output_type": "stream",
          "name": "stdout",
          "text": [
            "[(7, 8), (7, 9), (7, 48), (7, 281), (2, 3), (2, 4), (2, 8), (2, 3), (2, 9), (2, 48), (2, 281), (2, 5), (3, 3), (3, 4), (3, 8), (3, 3), (3, 9), (3, 48), (3, 281), (3, 5), (9, 9), (9, 48), (9, 281), (5, 8), (5, 9), (5, 48), (5, 281), (5, 5), (45, 48), (45, 281), (8, 8), (8, 9), (8, 48), (8, 281), (2, 3), (2, 4), (2, 8), (2, 3), (2, 9), (2, 48), (2, 281), (2, 5), (6, 8), (6, 9), (6, 48), (6, 281)]\n",
            "['COL vs ARG', 'COL vs BRA', 'COL vs PER', 'BRA vs ARG', 'BRA vs COL', 'BRA vs PER', 'VEN vs ARG', 'VEN vs BRA', 'VEN vs COL', 'VEN vs PER', 'URU vs ARG', 'URU vs BRA', 'URU vs COL', 'URU vs PER']\n"
          ]
        }
      ]
    },
    {
      "cell_type": "markdown",
      "metadata": {
        "id": "Oa1YjIxqgtyi"
      },
      "source": [
        "**Parte 3**"
      ]
    },
    {
      "cell_type": "code",
      "metadata": {
        "colab": {
          "base_uri": "https://localhost:8080/"
        },
        "id": "hvDIwM58gyS6",
        "outputId": "c7181ced-b856-41b5-8a2e-8b6d32490821"
      },
      "source": [
        "def product(x,y):\n",
        "    return x*y\n",
        "print(product(2,3))\n",
        "print(product(5,10))"
      ],
      "execution_count": null,
      "outputs": [
        {
          "output_type": "stream",
          "name": "stdout",
          "text": [
            "6\n",
            "50\n"
          ]
        }
      ]
    },
    {
      "cell_type": "code",
      "metadata": {
        "id": "lPf7UZFM3iqX",
        "colab": {
          "base_uri": "https://localhost:8080/"
        },
        "outputId": "eb65ca51-34ec-4b90-94fa-843dfa28a4fc"
      },
      "source": [
        "def op(x,y):\n",
        "    return (x*y)/(x+y)\n",
        "print(op(12,3))\n",
        "print(op(51,10))"
      ],
      "execution_count": null,
      "outputs": [
        {
          "output_type": "stream",
          "name": "stdout",
          "text": [
            "2.4\n",
            "8.360655737704919\n"
          ]
        }
      ]
    },
    {
      "cell_type": "code",
      "metadata": {
        "colab": {
          "base_uri": "https://localhost:8080/"
        },
        "id": "nSs3FPOPnh7L",
        "outputId": "791abda0-4efd-481e-8e53-7d17c831c435"
      },
      "source": [
        "def say_hi():\n",
        "    print (\"Welcome to QuantConnect\")\n",
        "say_hi()"
      ],
      "execution_count": null,
      "outputs": [
        {
          "output_type": "stream",
          "name": "stdout",
          "text": [
            "Welcome to QuantConnect\n"
          ]
        }
      ]
    },
    {
      "cell_type": "code",
      "metadata": {
        "colab": {
          "base_uri": "https://localhost:8080/"
        },
        "id": "KWrDNcVpnu4h",
        "outputId": "771653f8-8fea-4ba2-e360-6fc8556145e6"
      },
      "source": [
        "def Colabore():\n",
        "    print (\"Si lees esto ponme 5 porfa :3\")\n",
        "Colabore()"
      ],
      "execution_count": null,
      "outputs": [
        {
          "output_type": "stream",
          "name": "stdout",
          "text": [
            "Si lees esto ponme 5 porfa :3\n"
          ]
        }
      ]
    },
    {
      "cell_type": "code",
      "metadata": {
        "colab": {
          "base_uri": "https://localhost:8080/"
        },
        "id": "jvCacSmcoXX6",
        "outputId": "81b7bf0a-8cd9-4757-bbf3-c9286b7cc40b"
      },
      "source": [
        "rango = range(10)\n",
        "x1 = [x for x in rango]\n",
        "print(x1)\n",
        "\n",
        "rango2 = range(1, 11)\n",
        "x2 = [x for x in rango2]\n",
        "print(x2)\n",
        "\n",
        "rango3 = range(1, 11, 2)\n",
        "x3 = [x for x in rango3]\n",
        "print(x3)\n"
      ],
      "execution_count": null,
      "outputs": [
        {
          "output_type": "stream",
          "name": "stdout",
          "text": [
            "[0, 1, 2, 3, 4, 5, 6, 7, 8, 9]\n",
            "[1, 2, 3, 4, 5, 6, 7, 8, 9, 10]\n",
            "[1, 3, 5, 7, 9]\n"
          ]
        }
      ]
    },
    {
      "cell_type": "code",
      "metadata": {
        "colab": {
          "base_uri": "https://localhost:8080/"
        },
        "id": "IxJ8DimeoiqP",
        "outputId": "02984f04-6fd6-41e3-f333-51f0590d3cb4"
      },
      "source": [
        "rango = range(5)\n",
        "x1 = [x for x in rango]\n",
        "print(x1)\n",
        "\n",
        "rango2 = range(0,25,3)\n",
        "x2 = [x for x in rango2]\n",
        "print(x2)\n",
        "\n",
        "rango3 = range(5, 110, 25)\n",
        "x3 = [x for x in rango3]\n",
        "print(x3)"
      ],
      "execution_count": null,
      "outputs": [
        {
          "output_type": "stream",
          "name": "stdout",
          "text": [
            "[0, 1, 2, 3, 4]\n",
            "[0, 3, 6, 9, 12, 15, 18, 21, 24]\n",
            "[5, 30, 55, 80, 105]\n"
          ]
        }
      ]
    },
    {
      "cell_type": "code",
      "metadata": {
        "colab": {
          "base_uri": "https://localhost:8080/"
        },
        "id": "cROahQsYsBVY",
        "outputId": "82d5b7a0-c358-4c74-d6d8-4328ca5863ab"
      },
      "source": [
        "tickers = ['AAPL', 'GOOGL', 'IBM', 'FB', 'F', 'V', 'G', 'GE']\n",
        "print (\"The number of tickers is {}\".format(len(tickers)))\n",
        "for k in range(len(tickers)):\n",
        "    print (k + 1, tickers[k])"
      ],
      "execution_count": null,
      "outputs": [
        {
          "output_type": "stream",
          "name": "stdout",
          "text": [
            "The number of tickers is 8\n",
            "1 AAPL\n",
            "2 GOOGL\n",
            "3 IBM\n",
            "4 FB\n",
            "5 F\n",
            "6 V\n",
            "7 G\n",
            "8 GE\n"
          ]
        }
      ]
    },
    {
      "cell_type": "code",
      "metadata": {
        "colab": {
          "base_uri": "https://localhost:8080/"
        },
        "id": "pl50csRDsST1",
        "outputId": "876c6622-9664-4576-c8ce-f32aa2d37a69"
      },
      "source": [
        "pais = ['USA', 'GER', 'FRA', 'JPN', 'ITL', 'CND', 'ESP', 'KRN', 'MXN', 'ENG']\n",
        "print (\"El numero de paises es {}\".format(len(pais)))\n",
        "for k in range(len(pais)):\n",
        "    print (k + 1, pais[k])"
      ],
      "execution_count": null,
      "outputs": [
        {
          "output_type": "stream",
          "name": "stdout",
          "text": [
            "El numero de paises es 10\n",
            "1 USA\n",
            "2 GER\n",
            "3 FRA\n",
            "4 JPN\n",
            "5 ITL\n",
            "6 CND\n",
            "7 ESP\n",
            "8 KRN\n",
            "9 MXN\n",
            "10 ENG\n"
          ]
        }
      ]
    },
    {
      "cell_type": "code",
      "metadata": {
        "colab": {
          "base_uri": "https://localhost:8080/"
        },
        "id": "h2BwlynLtE5o",
        "outputId": "ae8927b7-267a-4702-ed05-b9a3ffa722f6"
      },
      "source": [
        "tickers = ['AAPL','GOOG','IBM','FB','F','V', 'G', 'GE']\n",
        "print(list(map(len,tickers)))"
      ],
      "execution_count": null,
      "outputs": [
        {
          "output_type": "stream",
          "name": "stdout",
          "text": [
            "[4, 4, 3, 2, 1, 1, 1, 2]\n"
          ]
        }
      ]
    },
    {
      "cell_type": "code",
      "metadata": {
        "colab": {
          "base_uri": "https://localhost:8080/"
        },
        "id": "n1_xRS0utWN4",
        "outputId": "20887330-ca16-4058-ebba-b40bb955d2c9"
      },
      "source": [
        "lista = ['casa',74,65.2,'FB',False,2.37, True, 6]\n",
        "print(list(map(type,lista)))"
      ],
      "execution_count": null,
      "outputs": [
        {
          "output_type": "stream",
          "name": "stdout",
          "text": [
            "[<class 'str'>, <class 'int'>, <class 'float'>, <class 'str'>, <class 'bool'>, <class 'float'>, <class 'bool'>, <class 'int'>]\n"
          ]
        }
      ]
    },
    {
      "cell_type": "code",
      "metadata": {
        "colab": {
          "base_uri": "https://localhost:8080/"
        },
        "id": "97wREb9KudTJ",
        "outputId": "68a2e122-bca5-41fb-cfb9-d70f6ac5fdcb"
      },
      "source": [
        "print(list(map(lambda x: x**2, range(10))))"
      ],
      "execution_count": null,
      "outputs": [
        {
          "output_type": "stream",
          "name": "stdout",
          "text": [
            "[0, 1, 4, 9, 16, 25, 36, 49, 64, 81]\n"
          ]
        }
      ]
    },
    {
      "cell_type": "code",
      "metadata": {
        "colab": {
          "base_uri": "https://localhost:8080/"
        },
        "id": "BvCttC0Fu8-w",
        "outputId": "bfea6216-c4ac-4027-b10b-43ac7926b808"
      },
      "source": [
        "print(list(map(lambda x: (x**3)/2, range(15))))"
      ],
      "execution_count": null,
      "outputs": [
        {
          "output_type": "stream",
          "name": "stdout",
          "text": [
            "[0.0, 0.5, 4.0, 13.5, 32.0, 62.5, 108.0, 171.5, 256.0, 364.5, 500.0, 665.5, 864.0, 1098.5, 1372.0]\n"
          ]
        }
      ]
    },
    {
      "cell_type": "code",
      "metadata": {
        "colab": {
          "base_uri": "https://localhost:8080/"
        },
        "id": "sUGn6gG0vqcI",
        "outputId": "5a808f14-c342-4951-9f96-109e7652ddd4"
      },
      "source": [
        "print(list(map(lambda x, y: x+y, [1,2,3,4,5], [5,4,3,2,1])))"
      ],
      "execution_count": null,
      "outputs": [
        {
          "output_type": "stream",
          "name": "stdout",
          "text": [
            "[6, 6, 6, 6, 6]\n"
          ]
        }
      ]
    },
    {
      "cell_type": "code",
      "metadata": {
        "colab": {
          "base_uri": "https://localhost:8080/"
        },
        "id": "bNkUryZPvyq4",
        "outputId": "f65a8dda-664f-4012-df9b-174f7854bf0b"
      },
      "source": [
        "print(list(map(lambda x, y, z, w: x*y/z+w, [0,1,2,3,4],[5,6,7,8,9],[9,8,7,6,5],[4,3,2,1,0])))"
      ],
      "execution_count": null,
      "outputs": [
        {
          "output_type": "stream",
          "name": "stdout",
          "text": [
            "[4.0, 3.75, 4.0, 5.0, 7.2]\n"
          ]
        }
      ]
    },
    {
      "cell_type": "code",
      "metadata": {
        "colab": {
          "base_uri": "https://localhost:8080/"
        },
        "id": "r61tlJXzwD2U",
        "outputId": "2f8b44dd-650e-4b88-d76b-74e5ab09cf04"
      },
      "source": [
        "print(list(sorted([5,2,3,4,1])))"
      ],
      "execution_count": null,
      "outputs": [
        {
          "output_type": "stream",
          "name": "stdout",
          "text": [
            "[1, 2, 3, 4, 5]\n"
          ]
        }
      ]
    },
    {
      "cell_type": "code",
      "metadata": {
        "colab": {
          "base_uri": "https://localhost:8080/"
        },
        "id": "zZlPosqaxanl",
        "outputId": "3bd5e406-842f-4034-c1dd-d2662401e522"
      },
      "source": [
        "print(list(sorted([1,171,35,42,31,8,63,4.68,62,28,52.6,861,21,81,7])))"
      ],
      "execution_count": null,
      "outputs": [
        {
          "output_type": "stream",
          "name": "stdout",
          "text": [
            "[1, 4.68, 7, 8, 21, 28, 31, 35, 42, 52.6, 62, 63, 81, 171, 861]\n"
          ]
        }
      ]
    },
    {
      "cell_type": "code",
      "metadata": {
        "colab": {
          "base_uri": "https://localhost:8080/"
        },
        "id": "bPfDvJqBxv4H",
        "outputId": "bf730f52-ee20-4d50-e1a5-cf711992ea79"
      },
      "source": [
        "price_list = [('AAPL', 144.09), ('GOOGL', 911.71), ('MSFT', 69), ('FB', 150), ('WMT', 75.32)]\n",
        "sorted(price_list, key = lambda x: x[1])"
      ],
      "execution_count": null,
      "outputs": [
        {
          "output_type": "execute_result",
          "data": {
            "text/plain": [
              "[('MSFT', 69),\n",
              " ('WMT', 75.32),\n",
              " ('AAPL', 144.09),\n",
              " ('FB', 150),\n",
              " ('GOOGL', 911.71)]"
            ]
          },
          "metadata": {},
          "execution_count": 41
        }
      ]
    },
    {
      "cell_type": "code",
      "metadata": {
        "colab": {
          "base_uri": "https://localhost:8080/"
        },
        "id": "FFqQjbIZx544",
        "outputId": "ff139247-35db-4024-fb19-276284527613"
      },
      "source": [
        "price_list = [('Casa', 750.12), ('carro', 85.89), ('moto', 14), ('apto', 350), ('lancha', 63.12)]\n",
        "sorted(price_list, key = lambda x: x[1],)"
      ],
      "execution_count": null,
      "outputs": [
        {
          "output_type": "execute_result",
          "data": {
            "text/plain": [
              "[('moto', 14),\n",
              " ('lancha', 63.12),\n",
              " ('carro', 85.89),\n",
              " ('apto', 350),\n",
              " ('Casa', 750.12)]"
            ]
          },
          "metadata": {},
          "execution_count": 43
        }
      ]
    },
    {
      "cell_type": "code",
      "metadata": {
        "colab": {
          "base_uri": "https://localhost:8080/"
        },
        "id": "u9dvHzlJz14X",
        "outputId": "e8329c51-8911-4fc9-d46a-a7f4400c9171"
      },
      "source": [
        "price_list = [('AAPL', 144.09), ('GOOGL', 911.71), ('MSFT', 69), ('FB', 150), ('WMT', 75.32)]\n",
        "sorted(price_list, key = lambda x: x[1], reverse = True)"
      ],
      "execution_count": null,
      "outputs": [
        {
          "output_type": "execute_result",
          "data": {
            "text/plain": [
              "[('GOOGL', 911.71),\n",
              " ('FB', 150),\n",
              " ('AAPL', 144.09),\n",
              " ('WMT', 75.32),\n",
              " ('MSFT', 69)]"
            ]
          },
          "metadata": {},
          "execution_count": 44
        }
      ]
    },
    {
      "cell_type": "code",
      "metadata": {
        "colab": {
          "base_uri": "https://localhost:8080/"
        },
        "id": "1u8Ru_RK0YV8",
        "outputId": "393322f9-72c4-471a-9750-fcab36b5510e"
      },
      "source": [
        "price_list = [('Casa', 750.12), ('carro', 85.89), ('moto', 14), ('apto', 350), ('lancha', 63.12)]\n",
        "sorted(price_list, key = lambda x: x[1], reverse =True)"
      ],
      "execution_count": null,
      "outputs": [
        {
          "output_type": "execute_result",
          "data": {
            "text/plain": [
              "[('Casa', 750.12),\n",
              " ('apto', 350),\n",
              " ('carro', 85.89),\n",
              " ('lancha', 63.12),\n",
              " ('moto', 14)]"
            ]
          },
          "metadata": {},
          "execution_count": 45
        }
      ]
    },
    {
      "cell_type": "code",
      "metadata": {
        "colab": {
          "base_uri": "https://localhost:8080/"
        },
        "id": "lh0im3F40fZ7",
        "outputId": "797bca90-1802-4839-a6d5-ff623b9b2def"
      },
      "source": [
        "price_list = [('AAPL', 144.09), ('GOOGL', 911.71), ('MSFT', 69), ('FB', 150), ('WMT', 75.32)]\n",
        "price_list.sort(key = lambda x: x[1])\n",
        "print (price_list)"
      ],
      "execution_count": null,
      "outputs": [
        {
          "output_type": "stream",
          "name": "stdout",
          "text": [
            "[('MSFT', 69), ('WMT', 75.32), ('AAPL', 144.09), ('FB', 150), ('GOOGL', 911.71)]\n"
          ]
        }
      ]
    },
    {
      "cell_type": "code",
      "metadata": {
        "colab": {
          "base_uri": "https://localhost:8080/"
        },
        "id": "0DUe-hSM0sdB",
        "outputId": "d1a8332c-ab94-4374-c9d2-4d62da595300"
      },
      "source": [
        "price_list = [('Casa', 750.12), ('carro', 85.89), ('moto', 14), ('apto', 350), ('lancha', 63.12)]\n",
        "price_list.sort(key = lambda x: x[1])\n",
        "print (price_list)"
      ],
      "execution_count": null,
      "outputs": [
        {
          "output_type": "stream",
          "name": "stdout",
          "text": [
            "[('moto', 14), ('lancha', 63.12), ('carro', 85.89), ('apto', 350), ('Casa', 750.12)]\n"
          ]
        }
      ]
    },
    {
      "cell_type": "code",
      "metadata": {
        "id": "h-FYl4gg04X8"
      },
      "source": [
        "class Stock:\n",
        "    def __init__(self, ticker, open, close, volume):\n",
        "        self.ticker = ticker\n",
        "        self.open = open\n",
        "        self.close = close\n",
        "        self.volume = volume\n",
        "        self.rate_return = float(close)/open - 1\n",
        "\n",
        "    def update(self, open, close):\n",
        "        self.open = open\n",
        "        self.close = close\n",
        "        self.rate_return = float(self.close)/self.open - 1\n",
        "\n",
        "    def print_return(self):\n",
        "        print (self.rate_return)"
      ],
      "execution_count": null,
      "outputs": []
    },
    {
      "cell_type": "code",
      "metadata": {
        "id": "JlNL5ptxqsOr"
      },
      "source": [
        "class pelicula:\n",
        "    def __init__(self, nombre, año, duracion, recaudacion, genero, director):\n",
        "        self.nombre = nombre\n",
        "        self.año = año\n",
        "        self.duracion = duracion\n",
        "        self.recaudacion = recaudacion\n",
        "        self.genero = genero\n",
        "        self.director = director\n",
        "\n",
        "    def update(self, recaudacion, dias):\n",
        "        self.recaudacion = recaudacion * dias / 1.5\n",
        "\n",
        "\n",
        "    def print_return(self):\n",
        "        print (self.nombre)\n",
        "        print (self.año)\n",
        "        print (self.duracion)\n",
        "        print (self.recaudacion)\n",
        "        print (self.genero)\n",
        "        print (self.director)\n",
        "      "
      ],
      "execution_count": null,
      "outputs": []
    },
    {
      "cell_type": "code",
      "metadata": {
        "id": "GO6jso74nstq"
      },
      "source": [
        "apple  = Stock('AAPL', 143.69, 144.09, 20109375)\n",
        "google = Stock('GOOGL', 898.7, 911.7, 1561616)  "
      ],
      "execution_count": null,
      "outputs": []
    },
    {
      "cell_type": "code",
      "metadata": {
        "id": "eDyZIB4bujk-"
      },
      "source": [
        "peliculaX = pelicula('Miradas', 2003, 145, 663.25, 'drama', 'J.H. Graves')\n",
        "peliculaY = pelicula('Tiburon' , 2014, 187, 782.5, 'accion', 'mike T. proder')"
      ],
      "execution_count": null,
      "outputs": []
    },
    {
      "cell_type": "code",
      "metadata": {
        "colab": {
          "base_uri": "https://localhost:8080/"
        },
        "id": "fCxrle7zn8t_",
        "outputId": "ee0abbd2-531d-4aab-b415-2bbc46e533b8"
      },
      "source": [
        "print(apple.ticker)\n",
        "google.print_return()\n",
        "google.update(912.8,913.4)\n",
        "google.print_return()\n"
      ],
      "execution_count": null,
      "outputs": [
        {
          "output_type": "stream",
          "name": "stdout",
          "text": [
            "AAPL\n",
            "0.014465338822744034\n",
            "0.0006573181419806673\n"
          ]
        }
      ]
    },
    {
      "cell_type": "code",
      "metadata": {
        "colab": {
          "base_uri": "https://localhost:8080/"
        },
        "id": "mp9Rt2QIvvSL",
        "outputId": "ba0bffa1-b987-4e74-ed02-15da59e67b4f"
      },
      "source": [
        "peliculaX.print_return()\n",
        "print('\\n')\n",
        "peliculaX.update(51.7, 30)\n",
        "peliculaX.print_return()\n"
      ],
      "execution_count": null,
      "outputs": [
        {
          "output_type": "stream",
          "name": "stdout",
          "text": [
            "Miradas\n",
            "2003\n",
            "145\n",
            "1034.0\n",
            "drama\n",
            "J.H. Graves\n",
            "\n",
            "\n",
            "Miradas\n",
            "2003\n",
            "145\n",
            "1034.0\n",
            "drama\n",
            "J.H. Graves\n"
          ]
        }
      ]
    },
    {
      "cell_type": "code",
      "metadata": {
        "colab": {
          "base_uri": "https://localhost:8080/"
        },
        "id": "z3E1X11roqIT",
        "outputId": "7252f5d9-f693-4a94-85cc-9120b8b206fb"
      },
      "source": [
        "apple.ceo = 'Tim Cook'\n",
        "print(apple.ceo)"
      ],
      "execution_count": null,
      "outputs": [
        {
          "output_type": "stream",
          "name": "stdout",
          "text": [
            "Tim Cook\n"
          ]
        }
      ]
    },
    {
      "cell_type": "code",
      "metadata": {
        "colab": {
          "base_uri": "https://localhost:8080/"
        },
        "id": "D0_j5OoOxIpi",
        "outputId": "18dafaaf-7ec5-4a72-c82c-643318cae9e7"
      },
      "source": [
        "peliculaX.director = 'Tomas bersk'\n",
        "print(peliculaX.director)"
      ],
      "execution_count": null,
      "outputs": [
        {
          "output_type": "stream",
          "name": "stdout",
          "text": [
            "Tomas bersk\n"
          ]
        }
      ]
    },
    {
      "cell_type": "code",
      "metadata": {
        "colab": {
          "base_uri": "https://localhost:8080/"
        },
        "id": "t5EVEiqaoqde",
        "outputId": "3f779d15-c101-4346-e4b2-ef77e59aba5c"
      },
      "source": [
        "dir(apple)"
      ],
      "execution_count": null,
      "outputs": [
        {
          "output_type": "execute_result",
          "data": {
            "text/plain": [
              "['__class__',\n",
              " '__delattr__',\n",
              " '__dict__',\n",
              " '__dir__',\n",
              " '__doc__',\n",
              " '__eq__',\n",
              " '__format__',\n",
              " '__ge__',\n",
              " '__getattribute__',\n",
              " '__gt__',\n",
              " '__hash__',\n",
              " '__init__',\n",
              " '__init_subclass__',\n",
              " '__le__',\n",
              " '__lt__',\n",
              " '__module__',\n",
              " '__ne__',\n",
              " '__new__',\n",
              " '__reduce__',\n",
              " '__reduce_ex__',\n",
              " '__repr__',\n",
              " '__setattr__',\n",
              " '__sizeof__',\n",
              " '__str__',\n",
              " '__subclasshook__',\n",
              " '__weakref__',\n",
              " 'ceo',\n",
              " 'close',\n",
              " 'open',\n",
              " 'print_return',\n",
              " 'rate_return',\n",
              " 'ticker',\n",
              " 'update',\n",
              " 'volume']"
            ]
          },
          "metadata": {},
          "execution_count": 10
        }
      ]
    },
    {
      "cell_type": "code",
      "metadata": {
        "colab": {
          "base_uri": "https://localhost:8080/"
        },
        "id": "Og0tMyk-xZvT",
        "outputId": "0ebbce56-2389-4f5a-86f5-0b9c6ec567e7"
      },
      "source": [
        "dir(peliculaX)"
      ],
      "execution_count": null,
      "outputs": [
        {
          "output_type": "execute_result",
          "data": {
            "text/plain": [
              "['__class__',\n",
              " '__delattr__',\n",
              " '__dict__',\n",
              " '__dir__',\n",
              " '__doc__',\n",
              " '__eq__',\n",
              " '__format__',\n",
              " '__ge__',\n",
              " '__getattribute__',\n",
              " '__gt__',\n",
              " '__hash__',\n",
              " '__init__',\n",
              " '__init_subclass__',\n",
              " '__le__',\n",
              " '__lt__',\n",
              " '__module__',\n",
              " '__ne__',\n",
              " '__new__',\n",
              " '__reduce__',\n",
              " '__reduce_ex__',\n",
              " '__repr__',\n",
              " '__setattr__',\n",
              " '__sizeof__',\n",
              " '__str__',\n",
              " '__subclasshook__',\n",
              " '__weakref__',\n",
              " 'año',\n",
              " 'director',\n",
              " 'duracion',\n",
              " 'genero',\n",
              " 'nombre',\n",
              " 'print_return',\n",
              " 'recaudacion',\n",
              " 'update']"
            ]
          },
          "metadata": {},
          "execution_count": 27
        }
      ]
    },
    {
      "cell_type": "code",
      "metadata": {
        "id": "q1PowQ8hpAew"
      },
      "source": [
        "class Child(Stock):\n",
        "    def __init__(self, name):\n",
        "        self.name = name"
      ],
      "execution_count": null,
      "outputs": []
    },
    {
      "cell_type": "code",
      "metadata": {
        "id": "PIf-3A_sxyLq"
      },
      "source": [
        "class Child(pelicula):\n",
        "    def __init__(self, calificacion):\n",
        "        self.calificacion = calificacion"
      ],
      "execution_count": null,
      "outputs": []
    },
    {
      "cell_type": "code",
      "metadata": {
        "colab": {
          "base_uri": "https://localhost:8080/"
        },
        "id": "_NBM2s1FpDTw",
        "outputId": "7804d58c-c3cc-4955-acf7-2fe7e95a6741"
      },
      "source": [
        "aa = Child('AA')\n",
        "print (aa.name)\n",
        "\n",
        "aa.update(100, 102)\n",
        "print (aa.open)\n",
        "\n",
        "print (aa.close)\n",
        "\n",
        "print (aa.print_return())\n"
      ],
      "execution_count": null,
      "outputs": [
        {
          "output_type": "stream",
          "name": "stdout",
          "text": [
            "AA\n",
            "100\n",
            "102\n",
            "0.020000000000000018\n",
            "None\n"
          ]
        }
      ]
    },
    {
      "cell_type": "code",
      "metadata": {
        "colab": {
          "base_uri": "https://localhost:8080/"
        },
        "id": "HluDwndkyIDj",
        "outputId": "3eba298d-1452-4a15-f59c-ed5847272313"
      },
      "source": [
        "peliculaX1 = Child('8.25/10')\n",
        "\n",
        "print (peliculaX1.calificacion)\n",
        "\n",
        "peliculaX1.update(28.6, 102)\n",
        "print(peliculaX1.recaudacion)\n"
      ],
      "execution_count": null,
      "outputs": [
        {
          "output_type": "stream",
          "name": "stdout",
          "text": [
            "8.25/10\n",
            "1944.8000000000002\n"
          ]
        }
      ]
    },
    {
      "cell_type": "markdown",
      "metadata": {
        "id": "_L7A8rRP7aqj"
      },
      "source": [
        "**Parte 4**"
      ]
    },
    {
      "cell_type": "code",
      "metadata": {
        "id": "hdkcMAEx94OI",
        "colab": {
          "base_uri": "https://localhost:8080/"
        },
        "outputId": "2fa54ebc-f362-48cc-ecc3-263a06998cf7"
      },
      "source": [
        "import numpy as np\n",
        "\n",
        "price_list = [143.73, 145.83, 143.68, 144.02, 143.5, 142.62]\n",
        "price_array = np.array(price_list)\n",
        "print (price_array, type(price_array))"
      ],
      "execution_count": null,
      "outputs": [
        {
          "output_type": "stream",
          "name": "stdout",
          "text": [
            "[143.73 145.83 143.68 144.02 143.5  142.62] <class 'numpy.ndarray'>\n"
          ]
        }
      ]
    },
    {
      "cell_type": "code",
      "metadata": {
        "colab": {
          "base_uri": "https://localhost:8080/"
        },
        "id": "4i5ARmVR7VIJ",
        "outputId": "68f4d10d-1289-4e7d-b3fa-47822f98e637"
      },
      "source": [
        "price_list1 = [62.81, 1.3, 18.8, 59.72, 3.5, 49.2]\n",
        "price_array1 = np.array(price_list1)\n",
        "print (price_array1, type(price_array1))"
      ],
      "execution_count": null,
      "outputs": [
        {
          "output_type": "stream",
          "name": "stdout",
          "text": [
            "[62.81  1.3  18.8  59.72  3.5  49.2 ] <class 'numpy.ndarray'>\n"
          ]
        }
      ]
    },
    {
      "cell_type": "code",
      "metadata": {
        "colab": {
          "base_uri": "https://localhost:8080/"
        },
        "id": "SOz_wqSs-nHw",
        "outputId": "3ff6e428-e8f5-464d-86ec-2acca70c8425"
      },
      "source": [
        "Ar = np.array([[1,3], [2,4]])\n",
        "print(Ar, type(Ar)) \n",
        "print (Ar.shape)"
      ],
      "execution_count": null,
      "outputs": [
        {
          "output_type": "stream",
          "name": "stdout",
          "text": [
            "[[1 3]\n",
            " [2 4]] <class 'numpy.ndarray'>\n",
            "(2, 2)\n"
          ]
        }
      ]
    },
    {
      "cell_type": "code",
      "metadata": {
        "colab": {
          "base_uri": "https://localhost:8080/"
        },
        "id": "TQXXpukb-yI-",
        "outputId": "ff90b0de-8fa3-437e-ca5e-147f0ecd1b3f"
      },
      "source": [
        "Ar1 = np.array([[7,5], [4,8],[8,6]])\n",
        "print(Ar1, type(Ar1)) \n",
        "print (Ar1.shape)"
      ],
      "execution_count": null,
      "outputs": [
        {
          "output_type": "stream",
          "name": "stdout",
          "text": [
            "[[7 5]\n",
            " [4 8]\n",
            " [8 6]] <class 'numpy.ndarray'>\n",
            "(3, 2)\n"
          ]
        }
      ]
    },
    {
      "cell_type": "code",
      "metadata": {
        "colab": {
          "base_uri": "https://localhost:8080/"
        },
        "id": "EelzfdHE_2R4",
        "outputId": "a694d83b-9257-4856-9f4c-98e06f36f3ee"
      },
      "source": [
        "print(Ar[0])\n",
        "print(Ar[1])"
      ],
      "execution_count": null,
      "outputs": [
        {
          "output_type": "stream",
          "name": "stdout",
          "text": [
            "[1 3]\n",
            "[2 4]\n"
          ]
        }
      ]
    },
    {
      "cell_type": "code",
      "metadata": {
        "colab": {
          "base_uri": "https://localhost:8080/"
        },
        "id": "6YLW-VLJA_0e",
        "outputId": "a7cbd883-cd0f-44e3-e023-bb5b926e0e6b"
      },
      "source": [
        "print(Ar1[0])\n",
        "print(Ar1[1])\n",
        "print(Ar1[2])"
      ],
      "execution_count": null,
      "outputs": [
        {
          "output_type": "stream",
          "name": "stdout",
          "text": [
            "[7 5]\n",
            "[4 8]\n",
            "[8 6]\n"
          ]
        }
      ]
    },
    {
      "cell_type": "code",
      "metadata": {
        "colab": {
          "base_uri": "https://localhost:8080/"
        },
        "id": "uEZxxUubBSN7",
        "outputId": "715d943e-16f9-4caa-d352-2d49b4d7e999"
      },
      "source": [
        "print ('First column:', Ar[:,0])\n",
        "print ('Second column:', Ar[:,1])"
      ],
      "execution_count": null,
      "outputs": [
        {
          "output_type": "stream",
          "name": "stdout",
          "text": [
            "First column: [1 2]\n",
            "Second column: [3 4]\n"
          ]
        }
      ]
    },
    {
      "cell_type": "code",
      "metadata": {
        "colab": {
          "base_uri": "https://localhost:8080/"
        },
        "id": "6WnCVbGTCYU1",
        "outputId": "bd159c9e-3ae3-449d-b4dd-a53c752a2ee6"
      },
      "source": [
        "print ('First column:', Ar1[:,0])\n",
        "print ('Second column:', Ar1[:,1])"
      ],
      "execution_count": null,
      "outputs": [
        {
          "output_type": "stream",
          "name": "stdout",
          "text": [
            "First column: [7 4 8]\n",
            "Second column: [5 8 6]\n"
          ]
        }
      ]
    },
    {
      "cell_type": "code",
      "metadata": {
        "colab": {
          "base_uri": "https://localhost:8080/"
        },
        "id": "icw9qBWSCetm",
        "outputId": "e614d4b7-5d1e-4281-bec4-54db574df0c0"
      },
      "source": [
        "np.log(price_array)"
      ],
      "execution_count": null,
      "outputs": [
        {
          "output_type": "execute_result",
          "data": {
            "text/plain": [
              "array([4.96793654, 4.98244156, 4.9675886 , 4.96995218, 4.96633504,\n",
              "       4.96018375])"
            ]
          },
          "metadata": {},
          "execution_count": 25
        }
      ]
    },
    {
      "cell_type": "code",
      "metadata": {
        "colab": {
          "base_uri": "https://localhost:8080/"
        },
        "id": "4NTQmzsTDGJK",
        "outputId": "d92509ff-d134-4ab2-b128-fa58d9103157"
      },
      "source": [
        "np.log(price_array1)"
      ],
      "execution_count": null,
      "outputs": [
        {
          "output_type": "execute_result",
          "data": {
            "text/plain": [
              "array([4.1401143 , 0.26236426, 2.93385687, 4.08966697, 1.25276297,\n",
              "       3.89589362])"
            ]
          },
          "metadata": {},
          "execution_count": 26
        }
      ]
    },
    {
      "cell_type": "code",
      "metadata": {
        "colab": {
          "base_uri": "https://localhost:8080/"
        },
        "id": "Sbi06JoTDSmF",
        "outputId": "20f9f6e0-9e24-436f-c72f-a1289a8bc2bd"
      },
      "source": [
        "print (np.mean(price_array))\n",
        "\n",
        "print (np.std(price_array))\n",
        "\n",
        "print (np.sum(price_array))\n",
        "\n",
        "print (np.max(price_array))\n"
      ],
      "execution_count": null,
      "outputs": [
        {
          "output_type": "stream",
          "name": "stdout",
          "text": [
            "143.89666666666668\n",
            "0.9673790478515796\n",
            "863.38\n",
            "145.83\n"
          ]
        }
      ]
    },
    {
      "cell_type": "code",
      "metadata": {
        "colab": {
          "base_uri": "https://localhost:8080/"
        },
        "id": "ULXbsmW5D8Ov",
        "outputId": "a6cf97eb-4af2-4543-e02e-b62345fa4f50"
      },
      "source": [
        "print (np.mean(price_array1))\n",
        "\n",
        "print (np.std(price_array1))\n",
        "\n",
        "print (np.sum(price_array1))\n",
        "\n",
        "print (np.max(price_array1))"
      ],
      "execution_count": null,
      "outputs": [
        {
          "output_type": "stream",
          "name": "stdout",
          "text": [
            "32.555\n",
            "25.627544914277944\n",
            "195.32999999999998\n",
            "62.81\n"
          ]
        }
      ]
    },
    {
      "cell_type": "code",
      "metadata": {
        "colab": {
          "base_uri": "https://localhost:8080/"
        },
        "id": "4Ir3upGFEOUS",
        "outputId": "caa7b9c5-438a-49c5-b951-412621e6fbab"
      },
      "source": [
        "import pandas as pd\n",
        "\n",
        "price = [143.73, 145.83, 143.68, 144.02, 143.5, 142.62]\n",
        "s = pd.Series(price)\n",
        "print (s)"
      ],
      "execution_count": null,
      "outputs": [
        {
          "output_type": "stream",
          "name": "stdout",
          "text": [
            "0    143.73\n",
            "1    145.83\n",
            "2    143.68\n",
            "3    144.02\n",
            "4    143.50\n",
            "5    142.62\n",
            "dtype: float64\n"
          ]
        }
      ]
    },
    {
      "cell_type": "code",
      "metadata": {
        "colab": {
          "base_uri": "https://localhost:8080/"
        },
        "id": "5FLDKkEBEnGU",
        "outputId": "636bc086-fe25-4fff-ab53-9b3a5e62c805"
      },
      "source": [
        "price1 = [369.268, 114.63, 523.52, 181.68, 37.14, 652.14]\n",
        "s1 = pd.Series(price1)\n",
        "print (s1)"
      ],
      "execution_count": null,
      "outputs": [
        {
          "output_type": "stream",
          "name": "stdout",
          "text": [
            "0    369.268\n",
            "1    114.630\n",
            "2    523.520\n",
            "3    181.680\n",
            "4     37.140\n",
            "5    652.140\n",
            "dtype: float64\n"
          ]
        }
      ]
    },
    {
      "cell_type": "code",
      "metadata": {
        "colab": {
          "base_uri": "https://localhost:8080/"
        },
        "id": "5Zi-Ec1WE828",
        "outputId": "e0c34bba-8bfa-4f45-8f9a-570e42cc738c"
      },
      "source": [
        "s = pd.Series(price, index = ['a', 'b', 'c', 'd', 'e', 'f'])\n",
        "print (s)\n"
      ],
      "execution_count": null,
      "outputs": [
        {
          "output_type": "stream",
          "name": "stdout",
          "text": [
            "a    143.73\n",
            "b    145.83\n",
            "c    143.68\n",
            "d    144.02\n",
            "e    143.50\n",
            "f    142.62\n",
            "dtype: float64\n"
          ]
        }
      ]
    },
    {
      "cell_type": "code",
      "metadata": {
        "colab": {
          "base_uri": "https://localhost:8080/"
        },
        "id": "g-FjJmQTFL9N",
        "outputId": "7f561557-c881-4128-a03f-b956cc015f22"
      },
      "source": [
        "s1 = pd.Series(price1, index = ['u', 'v', 'w', 'x', 'y', 'z'])\n",
        "print (s1)"
      ],
      "execution_count": null,
      "outputs": [
        {
          "output_type": "stream",
          "name": "stdout",
          "text": [
            "u    369.268\n",
            "v    114.630\n",
            "w    523.520\n",
            "x    181.680\n",
            "y     37.140\n",
            "z    652.140\n",
            "dtype: float64\n"
          ]
        }
      ]
    },
    {
      "cell_type": "code",
      "metadata": {
        "colab": {
          "base_uri": "https://localhost:8080/"
        },
        "id": "B9dvdLTJFe5g",
        "outputId": "9ff16a83-55de-4d56-c5f3-a073b5f2990a"
      },
      "source": [
        "s.index = [6,5,4,3,2,1]\n",
        "print (s)"
      ],
      "execution_count": null,
      "outputs": [
        {
          "output_type": "stream",
          "name": "stdout",
          "text": [
            "6    143.73\n",
            "5    145.83\n",
            "4    143.68\n",
            "3    144.02\n",
            "2    143.50\n",
            "1    142.62\n",
            "dtype: float64\n"
          ]
        }
      ]
    },
    {
      "cell_type": "code",
      "metadata": {
        "colab": {
          "base_uri": "https://localhost:8080/"
        },
        "id": "nyh-qH8wFkj4",
        "outputId": "41a698f3-9ec3-47c9-c28f-57b59838efa8"
      },
      "source": [
        "s1.index = [16,15,14,13,12,11]\n",
        "print (s1)"
      ],
      "execution_count": null,
      "outputs": [
        {
          "output_type": "stream",
          "name": "stdout",
          "text": [
            "16    369.268\n",
            "15    114.630\n",
            "14    523.520\n",
            "13    181.680\n",
            "12     37.140\n",
            "11    652.140\n",
            "dtype: float64\n"
          ]
        }
      ]
    },
    {
      "cell_type": "code",
      "metadata": {
        "colab": {
          "base_uri": "https://localhost:8080/"
        },
        "id": "Ir3_zLPXFt2h",
        "outputId": "c384f9da-16c9-454b-e281-0aed6feff82d"
      },
      "source": [
        "print (s[1:])\n",
        "print (s[:-2])"
      ],
      "execution_count": null,
      "outputs": [
        {
          "output_type": "stream",
          "name": "stdout",
          "text": [
            "5    145.83\n",
            "4    143.68\n",
            "3    144.02\n",
            "2    143.50\n",
            "1    142.62\n",
            "dtype: float64\n",
            "6    143.73\n",
            "5    145.83\n",
            "4    143.68\n",
            "3    144.02\n",
            "dtype: float64\n"
          ]
        }
      ]
    },
    {
      "cell_type": "code",
      "metadata": {
        "colab": {
          "base_uri": "https://localhost:8080/"
        },
        "id": "ZCPRGkZcJgmo",
        "outputId": "2fc17c7e-b5d1-4aad-c588-3b9ca87df797"
      },
      "source": [
        "print (s1[2:])\n",
        "print (s1[1:-2])"
      ],
      "execution_count": null,
      "outputs": [
        {
          "output_type": "stream",
          "name": "stdout",
          "text": [
            "14    523.52\n",
            "13    181.68\n",
            "12     37.14\n",
            "11    652.14\n",
            "dtype: float64\n",
            "15    114.63\n",
            "14    523.52\n",
            "13    181.68\n",
            "dtype: float64\n"
          ]
        }
      ]
    },
    {
      "cell_type": "code",
      "metadata": {
        "colab": {
          "base_uri": "https://localhost:8080/"
        },
        "id": "v2JFHLlZJzQb",
        "outputId": "ce489536-82e8-4dd7-8ab0-b4ad2b947a9a"
      },
      "source": [
        "print (s[4])\n",
        "s[4] = 0\n",
        "print (s)"
      ],
      "execution_count": null,
      "outputs": [
        {
          "output_type": "stream",
          "name": "stdout",
          "text": [
            "143.68\n",
            "6    143.73\n",
            "5    145.83\n",
            "4      0.00\n",
            "3    144.02\n",
            "2    143.50\n",
            "1    142.62\n",
            "dtype: float64\n"
          ]
        }
      ]
    },
    {
      "cell_type": "code",
      "metadata": {
        "colab": {
          "base_uri": "https://localhost:8080/"
        },
        "id": "qKOAKjJpJ8oK",
        "outputId": "c6fb7e6f-344a-465f-a49b-17cc9bd1dd27"
      },
      "source": [
        "print (s1[15])\n",
        "s1[15] = 73\n",
        "print (s1)"
      ],
      "execution_count": null,
      "outputs": [
        {
          "output_type": "stream",
          "name": "stdout",
          "text": [
            "114.63\n",
            "16    369.268\n",
            "15     73.000\n",
            "14    523.520\n",
            "13    181.680\n",
            "12     37.140\n",
            "11    652.140\n",
            "dtype: float64\n"
          ]
        }
      ]
    },
    {
      "cell_type": "code",
      "metadata": {
        "colab": {
          "base_uri": "https://localhost:8080/"
        },
        "id": "0BCzDVXyKUf_",
        "outputId": "89888d47-35e3-4daf-a312-0949cf51054f"
      },
      "source": [
        "s = pd.Series(price, name = 'Apple Prices')\n",
        "print (s)\n",
        "print (s.name)"
      ],
      "execution_count": null,
      "outputs": [
        {
          "output_type": "stream",
          "name": "stdout",
          "text": [
            "0    143.73\n",
            "1    145.83\n",
            "2    143.68\n",
            "3    144.02\n",
            "4    143.50\n",
            "5    142.62\n",
            "Name: Apple Prices, dtype: float64\n",
            "Apple Prices\n"
          ]
        }
      ]
    },
    {
      "cell_type": "code",
      "metadata": {
        "colab": {
          "base_uri": "https://localhost:8080/"
        },
        "id": "8nGLkvqqKio1",
        "outputId": "43b2a752-04e9-4c56-8d51-5e665f149aa0"
      },
      "source": [
        "s1 = pd.Series(price1, name = 'Precios de apartamentos')\n",
        "print (s1)\n",
        "print (s1.name)"
      ],
      "execution_count": null,
      "outputs": [
        {
          "output_type": "stream",
          "name": "stdout",
          "text": [
            "0    369.268\n",
            "1    114.630\n",
            "2    523.520\n",
            "3    181.680\n",
            "4     37.140\n",
            "5    652.140\n",
            "Name: Precios de apartamentos, dtype: float64\n",
            "Precios de apartamentos\n"
          ]
        }
      ]
    },
    {
      "cell_type": "code",
      "metadata": {
        "colab": {
          "base_uri": "https://localhost:8080/"
        },
        "id": "0dJOMml3K7da",
        "outputId": "f7408c59-ba29-4656-f73b-febef85ca3c7"
      },
      "source": [
        "print (s.describe())"
      ],
      "execution_count": null,
      "outputs": [
        {
          "output_type": "stream",
          "name": "stdout",
          "text": [
            "count      6.000000\n",
            "mean     143.896667\n",
            "std        1.059711\n",
            "min      142.620000\n",
            "25%      143.545000\n",
            "50%      143.705000\n",
            "75%      143.947500\n",
            "max      145.830000\n",
            "Name: Apple Prices, dtype: float64\n"
          ]
        }
      ]
    },
    {
      "cell_type": "code",
      "metadata": {
        "colab": {
          "base_uri": "https://localhost:8080/"
        },
        "id": "EWcZ2vJaLGg9",
        "outputId": "0af1e6b4-b379-4458-f31d-02e2f990396c"
      },
      "source": [
        "print (s1.describe())"
      ],
      "execution_count": null,
      "outputs": [
        {
          "output_type": "stream",
          "name": "stdout",
          "text": [
            "count      6.000000\n",
            "mean     313.063000\n",
            "std      242.979428\n",
            "min       37.140000\n",
            "25%      131.392500\n",
            "50%      275.474000\n",
            "75%      484.957000\n",
            "max      652.140000\n",
            "Name: Precios de apartamentos, dtype: float64\n"
          ]
        }
      ]
    },
    {
      "cell_type": "code",
      "metadata": {
        "colab": {
          "base_uri": "https://localhost:8080/"
        },
        "id": "ghBY7lRKLOKy",
        "outputId": "6da9a549-0035-4012-902e-719bb1023222"
      },
      "source": [
        "time_index = pd.date_range('2017-01-01', periods = len(s), freq = 'D')\n",
        "print (time_index)\n",
        "s.index = time_index\n",
        "print (s)\n"
      ],
      "execution_count": null,
      "outputs": [
        {
          "output_type": "stream",
          "name": "stdout",
          "text": [
            "DatetimeIndex(['2017-01-01', '2017-01-02', '2017-01-03', '2017-01-04',\n",
            "               '2017-01-05', '2017-01-06'],\n",
            "              dtype='datetime64[ns]', freq='D')\n",
            "2017-01-01    143.73\n",
            "2017-01-02    145.83\n",
            "2017-01-03    143.68\n",
            "2017-01-04    144.02\n",
            "2017-01-05    143.50\n",
            "2017-01-06    142.62\n",
            "Freq: D, Name: Apple Prices, dtype: float64\n"
          ]
        }
      ]
    },
    {
      "cell_type": "code",
      "metadata": {
        "colab": {
          "base_uri": "https://localhost:8080/"
        },
        "id": "WpIvlhhULxR6",
        "outputId": "3043d987-f6b9-4b75-d60a-b1537315f1ce"
      },
      "source": [
        "time_index = pd.date_range('2017-01-01', periods = len(s), freq = 'D')\n",
        "print (time_index)\n",
        "s1.index = time_index\n",
        "print (s1)"
      ],
      "execution_count": null,
      "outputs": [
        {
          "output_type": "stream",
          "name": "stdout",
          "text": [
            "DatetimeIndex(['2017-01-01', '2017-01-02', '2017-01-03', '2017-01-04',\n",
            "               '2017-01-05', '2017-01-06'],\n",
            "              dtype='datetime64[ns]', freq='D')\n",
            "2017-01-01    369.268\n",
            "2017-01-02    114.630\n",
            "2017-01-03    523.520\n",
            "2017-01-04    181.680\n",
            "2017-01-05     37.140\n",
            "2017-01-06    652.140\n",
            "Freq: D, Name: Precios de apartamentos, dtype: float64\n"
          ]
        }
      ]
    },
    {
      "cell_type": "code",
      "metadata": {
        "colab": {
          "base_uri": "https://localhost:8080/"
        },
        "id": "AKTIqx5qMbGP",
        "outputId": "0cad367f-54d3-4e38-9895-18ea90f13692"
      },
      "source": [
        "s.index = [6,5,4,3,2,1]\n",
        "print (s)\n",
        "print (s[1])\n",
        "print (s.iloc[1])"
      ],
      "execution_count": null,
      "outputs": [
        {
          "output_type": "stream",
          "name": "stdout",
          "text": [
            "6    143.73\n",
            "5    145.83\n",
            "4    143.68\n",
            "3    144.02\n",
            "2    143.50\n",
            "1    142.62\n",
            "Name: Apple Prices, dtype: float64\n",
            "142.62\n",
            "145.83\n"
          ]
        }
      ]
    },
    {
      "cell_type": "code",
      "metadata": {
        "colab": {
          "base_uri": "https://localhost:8080/"
        },
        "id": "h6harFUKNib-",
        "outputId": "cda335f6-34a0-4aa1-b384-53a7eafc10a4"
      },
      "source": [
        "s1.index = [6,5,4,3,2,1]\n",
        "print (s1)\n",
        "print (s1[1])\n",
        "print (s1.iloc[1])"
      ],
      "execution_count": null,
      "outputs": [
        {
          "output_type": "stream",
          "name": "stdout",
          "text": [
            "6    369.268\n",
            "5    114.630\n",
            "4    523.520\n",
            "3    181.680\n",
            "2     37.140\n",
            "1    652.140\n",
            "Name: Precios de apartamentos, dtype: float64\n",
            "652.14\n",
            "114.63\n"
          ]
        }
      ]
    },
    {
      "cell_type": "code",
      "metadata": {
        "colab": {
          "base_uri": "https://localhost:8080/"
        },
        "id": "br4IaHtvODx4",
        "outputId": "6171cc34-0858-436e-9123-f4e17c8fb5ca"
      },
      "source": [
        "s.index = time_index\n",
        "print (s['2017-01-03'])"
      ],
      "execution_count": null,
      "outputs": [
        {
          "output_type": "stream",
          "name": "stdout",
          "text": [
            "143.68\n"
          ]
        }
      ]
    },
    {
      "cell_type": "code",
      "metadata": {
        "colab": {
          "base_uri": "https://localhost:8080/"
        },
        "id": "zIfv9jEGOIWT",
        "outputId": "c814c4a9-aa6a-43f2-883d-992fdc9ba1e2"
      },
      "source": [
        "s1.index = time_index\n",
        "print (s1['2017-01-04'])"
      ],
      "execution_count": null,
      "outputs": [
        {
          "output_type": "stream",
          "name": "stdout",
          "text": [
            "181.68\n"
          ]
        }
      ]
    },
    {
      "cell_type": "code",
      "metadata": {
        "colab": {
          "base_uri": "https://localhost:8080/"
        },
        "id": "vI2IEZLROPSe",
        "outputId": "f25e0edf-8b10-4fb7-f67d-6d8df16522c1"
      },
      "source": [
        "print (s['2017-01-02':'2017-01-05'])"
      ],
      "execution_count": null,
      "outputs": [
        {
          "output_type": "stream",
          "name": "stdout",
          "text": [
            "2017-01-02    145.83\n",
            "2017-01-03    143.68\n",
            "2017-01-04    144.02\n",
            "2017-01-05    143.50\n",
            "Freq: D, Name: Apple Prices, dtype: float64\n"
          ]
        }
      ]
    },
    {
      "cell_type": "code",
      "metadata": {
        "colab": {
          "base_uri": "https://localhost:8080/"
        },
        "id": "YIGhHccbOZoX",
        "outputId": "705f0a71-b060-44cc-d836-2f57d5ddbdb6"
      },
      "source": [
        "print (s1['2017-01-03':'2017-01-06'])"
      ],
      "execution_count": null,
      "outputs": [
        {
          "output_type": "stream",
          "name": "stdout",
          "text": [
            "2017-01-03    523.52\n",
            "2017-01-04    181.68\n",
            "2017-01-05     37.14\n",
            "2017-01-06    652.14\n",
            "Freq: D, Name: Precios de apartamentos, dtype: float64\n"
          ]
        }
      ]
    },
    {
      "cell_type": "code",
      "metadata": {
        "colab": {
          "base_uri": "https://localhost:8080/"
        },
        "id": "7U8LThZHOkqD",
        "outputId": "33d04e80-8789-43b3-b728-b97f1466f333"
      },
      "source": [
        "print (s[s < np.mean(s)])\n",
        "print (s[(s > np.mean(s)) & (s < np.mean(s) + 1.64*np.std(s))])"
      ],
      "execution_count": null,
      "outputs": [
        {
          "output_type": "stream",
          "name": "stdout",
          "text": [
            "2017-01-01    143.73\n",
            "2017-01-03    143.68\n",
            "2017-01-05    143.50\n",
            "2017-01-06    142.62\n",
            "Name: Apple Prices, dtype: float64\n",
            "2017-01-04    144.02\n",
            "Freq: D, Name: Apple Prices, dtype: float64\n"
          ]
        }
      ]
    },
    {
      "cell_type": "code",
      "metadata": {
        "colab": {
          "base_uri": "https://localhost:8080/"
        },
        "id": "2aC6rdwYPVcS",
        "outputId": "f7e284f2-a5f5-4554-cc1b-a97e1f0fd691"
      },
      "source": [
        "print (s1[s1 > np.mean(s1)])\n",
        "print (s1[(s1 < np.mean(s1)) & (s1 < np.mean(s1) + 1.27*np.std(s1))])"
      ],
      "execution_count": null,
      "outputs": [
        {
          "output_type": "stream",
          "name": "stdout",
          "text": [
            "2017-01-01    369.268\n",
            "2017-01-03    523.520\n",
            "2017-01-06    652.140\n",
            "Name: Precios de apartamentos, dtype: float64\n",
            "2017-01-02    114.63\n",
            "2017-01-04    181.68\n",
            "2017-01-05     37.14\n",
            "Name: Precios de apartamentos, dtype: float64\n"
          ]
        }
      ]
    },
    {
      "cell_type": "markdown",
      "metadata": {
        "id": "EcLgj1H5AW4C"
      },
      "source": [
        "**Parte 5**\n"
      ]
    },
    {
      "cell_type": "code",
      "metadata": {
        "id": "GZJwfMpUQkwT",
        "colab": {
          "base_uri": "https://localhost:8080/"
        },
        "outputId": "3b9743ea-31c5-4789-e085-ca7bb4347fbb"
      },
      "source": [
        " !pip install yfinance\n"
      ],
      "execution_count": null,
      "outputs": [
        {
          "output_type": "stream",
          "name": "stdout",
          "text": [
            "Collecting yfinance\n",
            "  Downloading yfinance-0.1.63.tar.gz (26 kB)\n",
            "Requirement already satisfied: pandas>=0.24 in /usr/local/lib/python3.7/dist-packages (from yfinance) (1.1.5)\n",
            "Requirement already satisfied: numpy>=1.15 in /usr/local/lib/python3.7/dist-packages (from yfinance) (1.19.5)\n",
            "Requirement already satisfied: requests>=2.20 in /usr/local/lib/python3.7/dist-packages (from yfinance) (2.23.0)\n",
            "Requirement already satisfied: multitasking>=0.0.7 in /usr/local/lib/python3.7/dist-packages (from yfinance) (0.0.9)\n",
            "Collecting lxml>=4.5.1\n",
            "  Downloading lxml-4.6.3-cp37-cp37m-manylinux2014_x86_64.whl (6.3 MB)\n",
            "\u001b[K     |████████████████████████████████| 6.3 MB 4.2 MB/s \n",
            "\u001b[?25hRequirement already satisfied: python-dateutil>=2.7.3 in /usr/local/lib/python3.7/dist-packages (from pandas>=0.24->yfinance) (2.8.2)\n",
            "Requirement already satisfied: pytz>=2017.2 in /usr/local/lib/python3.7/dist-packages (from pandas>=0.24->yfinance) (2018.9)\n",
            "Requirement already satisfied: six>=1.5 in /usr/local/lib/python3.7/dist-packages (from python-dateutil>=2.7.3->pandas>=0.24->yfinance) (1.15.0)\n",
            "Requirement already satisfied: urllib3!=1.25.0,!=1.25.1,<1.26,>=1.21.1 in /usr/local/lib/python3.7/dist-packages (from requests>=2.20->yfinance) (1.24.3)\n",
            "Requirement already satisfied: certifi>=2017.4.17 in /usr/local/lib/python3.7/dist-packages (from requests>=2.20->yfinance) (2021.5.30)\n",
            "Requirement already satisfied: chardet<4,>=3.0.2 in /usr/local/lib/python3.7/dist-packages (from requests>=2.20->yfinance) (3.0.4)\n",
            "Requirement already satisfied: idna<3,>=2.5 in /usr/local/lib/python3.7/dist-packages (from requests>=2.20->yfinance) (2.10)\n",
            "Building wheels for collected packages: yfinance\n",
            "  Building wheel for yfinance (setup.py) ... \u001b[?25l\u001b[?25hdone\n",
            "  Created wheel for yfinance: filename=yfinance-0.1.63-py2.py3-none-any.whl size=23918 sha256=9e31f6e7d7eefd3dd0a77fd53904882e77ea221ceacf94a043c31d05d12813fa\n",
            "  Stored in directory: /root/.cache/pip/wheels/fe/87/8b/7ec24486e001d3926537f5f7801f57a74d181be25b11157983\n",
            "Successfully built yfinance\n",
            "Installing collected packages: lxml, yfinance\n",
            "  Attempting uninstall: lxml\n",
            "    Found existing installation: lxml 4.2.6\n",
            "    Uninstalling lxml-4.2.6:\n",
            "      Successfully uninstalled lxml-4.2.6\n",
            "Successfully installed lxml-4.6.3 yfinance-0.1.63\n"
          ]
        }
      ]
    },
    {
      "cell_type": "code",
      "metadata": {
        "colab": {
          "base_uri": "https://localhost:8080/",
          "height": 484
        },
        "id": "Wbk29fc7AkG6",
        "outputId": "442a4e36-ef7a-4cf9-baff-0c7cf5ca6a09"
      },
      "source": [
        "import yfinance as yf\n",
        "\n",
        "aapl = yf.Ticker(\"AAPL\")\n",
        "\n",
        "# get stock info\n",
        "print(aapl.info)\n",
        "\n",
        "# get historical market data\n",
        "aapl_table = aapl.history(start=\"2016-01-01\",  end=\"2017-12-31\")\n",
        "aapl_table"
      ],
      "execution_count": null,
      "outputs": [
        {
          "output_type": "stream",
          "name": "stdout",
          "text": [
            "{'zip': '95014', 'sector': 'Technology', 'fullTimeEmployees': 147000, 'longBusinessSummary': 'Apple Inc. designs, manufactures, and markets smartphones, personal computers, tablets, wearables, and accessories worldwide. It also sells various related services. The company offers iPhone, a line of smartphones; Mac, a line of personal computers; iPad, a line of multi-purpose tablets; and wearables, home, and accessories comprising AirPods, Apple TV, Apple Watch, Beats products, HomePod, iPod touch, and other Apple-branded and third-party accessories. It also provides AppleCare support services; cloud services store services; and operates various platforms, including the App Store, that allow customers to discover and download applications and digital content, such as books, music, video, games, and podcasts. In addition, the company offers various services, such as Apple Arcade, a game subscription service; Apple Music, which offers users a curated listening experience with on-demand radio stations; Apple News+, a subscription news and magazine service; Apple TV+, which offers exclusive original content; Apple Card, a co-branded credit card; and Apple Pay, a cashless payment service, as well as licenses its intellectual property. The company serves consumers, and small and mid-sized businesses; and the education, enterprise, and government markets. It sells and delivers third-party applications for its products through the App Store. The company also sells its products through its retail and online stores, and direct sales force; and third-party cellular network carriers, wholesalers, retailers, and resellers. Apple Inc. was founded in 1977 and is headquartered in Cupertino, California.', 'city': 'Cupertino', 'phone': '408-996-1010', 'state': 'CA', 'country': 'United States', 'companyOfficers': [], 'website': 'http://www.apple.com', 'maxAge': 1, 'address1': 'One Apple Park Way', 'industry': 'Consumer Electronics', 'ebitdaMargins': 0.31955, 'profitMargins': 0.25004, 'grossMargins': 0.41005, 'operatingCashflow': 104414003200, 'revenueGrowth': 0.364, 'operatingMargins': 0.28788, 'ebitda': 110934999040, 'targetLowPrice': 132, 'recommendationKey': 'buy', 'grossProfits': 104956000000, 'freeCashflow': 80625876992, 'targetMedianPrice': 169.64, 'currentPrice': 143.76, 'earningsGrowth': 1, 'currentRatio': 1.062, 'returnOnAssets': 0.19302, 'numberOfAnalystOpinions': 42, 'targetMeanPrice': 167.92, 'debtToEquity': 210.782, 'returnOnEquity': 1.27125, 'targetHighPrice': 190, 'totalCash': 61696000000, 'totalDebt': 135491002368, 'totalRevenue': 347155005440, 'totalCashPerShare': 3.732, 'financialCurrency': 'USD', 'revenuePerShare': 20.61, 'quickRatio': 0.887, 'recommendationMean': 1.9, 'exchange': 'NMS', 'shortName': 'Apple Inc.', 'longName': 'Apple Inc.', 'exchangeTimezoneName': 'America/New_York', 'exchangeTimezoneShortName': 'EDT', 'isEsgPopulated': False, 'gmtOffSetMilliseconds': '-14400000', 'quoteType': 'EQUITY', 'symbol': 'AAPL', 'messageBoardId': 'finmb_24937', 'market': 'us_market', 'annualHoldingsTurnover': None, 'enterpriseToRevenue': 6.951, 'beta3Year': None, 'enterpriseToEbitda': 21.751, '52WeekChange': 0.16734326, 'morningStarRiskRating': None, 'forwardEps': 5.68, 'revenueQuarterlyGrowth': None, 'sharesOutstanding': 16530199552, 'fundInceptionDate': None, 'annualReportExpenseRatio': None, 'totalAssets': None, 'bookValue': 3.882, 'sharesShort': 101107412, 'sharesPercentSharesOut': 0.0061000003, 'fundFamily': None, 'lastFiscalYearEnd': 1601078400, 'heldPercentInstitutions': 0.5869, 'netIncomeToCommon': 86801997824, 'trailingEps': 5.108, 'lastDividendValue': 0.22, 'SandP52WeekChange': 0.25276315, 'priceToBook': 37.032455, 'heldPercentInsiders': 0.00072999997, 'nextFiscalYearEnd': 1664150400, 'yield': None, 'mostRecentQuarter': 1624665600, 'shortRatio': 1.18, 'sharesShortPreviousMonthDate': 1630368000, 'floatShares': 16512974627, 'beta': 1.222222, 'enterpriseValue': 2412978896896, 'priceHint': 2, 'threeYearAverageReturn': None, 'lastSplitDate': 1598832000, 'lastSplitFactor': '4:1', 'legalType': None, 'lastDividendDate': 1628208000, 'morningStarOverallRating': None, 'earningsQuarterlyGrowth': 0.932, 'priceToSalesTrailing12Months': 6.845304, 'dateShortInterest': 1632960000, 'pegRatio': 1.38, 'ytdReturn': None, 'forwardPE': 25.309858, 'lastCapGain': None, 'shortPercentOfFloat': 0.0061000003, 'sharesShortPriorMonth': 96838699, 'impliedSharesOutstanding': None, 'category': None, 'fiveYearAverageReturn': None, 'previousClose': 140.91, 'regularMarketOpen': 142.11, 'twoHundredDayAverage': 138.30841, 'trailingAnnualDividendYield': 0.005925768, 'payoutRatio': 0.16309999, 'volume24Hr': None, 'regularMarketDayHigh': 143.88, 'navPrice': None, 'averageDailyVolume10Day': 74878250, 'regularMarketPreviousClose': 140.91, 'fiftyDayAverage': 146.86285, 'trailingAnnualDividendRate': 0.835, 'open': 142.11, 'toCurrency': None, 'averageVolume10days': 74878250, 'expireDate': None, 'algorithm': None, 'dividendRate': 0.88, 'exDividendDate': 1628208000, 'circulatingSupply': None, 'startDate': None, 'regularMarketDayLow': 141.51, 'currency': 'USD', 'trailingPE': 28.144087, 'regularMarketVolume': 69907100, 'lastMarket': None, 'maxSupply': None, 'openInterest': None, 'marketCap': 2376381497344, 'volumeAllCurrencies': None, 'strikePrice': None, 'averageVolume': 79135801, 'dayLow': 141.51, 'ask': 143.85, 'askSize': 1200, 'volume': 69907100, 'fiftyTwoWeekHigh': 157.26, 'fromCurrency': None, 'fiveYearAvgDividendYield': 1.24, 'fiftyTwoWeekLow': 107.32, 'bid': 143.93, 'tradeable': False, 'dividendYield': 0.0062, 'bidSize': 1300, 'dayHigh': 143.88, 'regularMarketPrice': 143.76, 'logo_url': 'https://logo.clearbit.com/apple.com'}\n"
          ]
        },
        {
          "output_type": "execute_result",
          "data": {
            "text/html": [
              "<div>\n",
              "<style scoped>\n",
              "    .dataframe tbody tr th:only-of-type {\n",
              "        vertical-align: middle;\n",
              "    }\n",
              "\n",
              "    .dataframe tbody tr th {\n",
              "        vertical-align: top;\n",
              "    }\n",
              "\n",
              "    .dataframe thead th {\n",
              "        text-align: right;\n",
              "    }\n",
              "</style>\n",
              "<table border=\"1\" class=\"dataframe\">\n",
              "  <thead>\n",
              "    <tr style=\"text-align: right;\">\n",
              "      <th></th>\n",
              "      <th>Open</th>\n",
              "      <th>High</th>\n",
              "      <th>Low</th>\n",
              "      <th>Close</th>\n",
              "      <th>Volume</th>\n",
              "      <th>Dividends</th>\n",
              "      <th>Stock Splits</th>\n",
              "    </tr>\n",
              "    <tr>\n",
              "      <th>Date</th>\n",
              "      <th></th>\n",
              "      <th></th>\n",
              "      <th></th>\n",
              "      <th></th>\n",
              "      <th></th>\n",
              "      <th></th>\n",
              "      <th></th>\n",
              "    </tr>\n",
              "  </thead>\n",
              "  <tbody>\n",
              "    <tr>\n",
              "      <th>2016-01-04</th>\n",
              "      <td>23.655163</td>\n",
              "      <td>24.291439</td>\n",
              "      <td>23.514536</td>\n",
              "      <td>24.286827</td>\n",
              "      <td>270597600</td>\n",
              "      <td>0.0</td>\n",
              "      <td>0</td>\n",
              "    </tr>\n",
              "    <tr>\n",
              "      <th>2016-01-05</th>\n",
              "      <td>24.379045</td>\n",
              "      <td>24.402098</td>\n",
              "      <td>23.609059</td>\n",
              "      <td>23.678219</td>\n",
              "      <td>223164000</td>\n",
              "      <td>0.0</td>\n",
              "      <td>0</td>\n",
              "    </tr>\n",
              "    <tr>\n",
              "      <th>2016-01-06</th>\n",
              "      <td>23.182569</td>\n",
              "      <td>23.599838</td>\n",
              "      <td>23.023501</td>\n",
              "      <td>23.214844</td>\n",
              "      <td>273829600</td>\n",
              "      <td>0.0</td>\n",
              "      <td>0</td>\n",
              "    </tr>\n",
              "    <tr>\n",
              "      <th>2016-01-07</th>\n",
              "      <td>22.749164</td>\n",
              "      <td>23.083439</td>\n",
              "      <td>22.230461</td>\n",
              "      <td>22.235071</td>\n",
              "      <td>324377600</td>\n",
              "      <td>0.0</td>\n",
              "      <td>0</td>\n",
              "    </tr>\n",
              "    <tr>\n",
              "      <th>2016-01-08</th>\n",
              "      <td>22.719199</td>\n",
              "      <td>22.848298</td>\n",
              "      <td>22.306542</td>\n",
              "      <td>22.352648</td>\n",
              "      <td>283192000</td>\n",
              "      <td>0.0</td>\n",
              "      <td>0</td>\n",
              "    </tr>\n",
              "    <tr>\n",
              "      <th>...</th>\n",
              "      <td>...</td>\n",
              "      <td>...</td>\n",
              "      <td>...</td>\n",
              "      <td>...</td>\n",
              "      <td>...</td>\n",
              "      <td>...</td>\n",
              "      <td>...</td>\n",
              "    </tr>\n",
              "    <tr>\n",
              "      <th>2017-12-22</th>\n",
              "      <td>41.827760</td>\n",
              "      <td>42.004957</td>\n",
              "      <td>41.784660</td>\n",
              "      <td>41.906780</td>\n",
              "      <td>65397600</td>\n",
              "      <td>0.0</td>\n",
              "      <td>0</td>\n",
              "    </tr>\n",
              "    <tr>\n",
              "      <th>2017-12-26</th>\n",
              "      <td>40.898678</td>\n",
              "      <td>41.059112</td>\n",
              "      <td>40.630488</td>\n",
              "      <td>40.843605</td>\n",
              "      <td>132742000</td>\n",
              "      <td>0.0</td>\n",
              "      <td>0</td>\n",
              "    </tr>\n",
              "    <tr>\n",
              "      <th>2017-12-27</th>\n",
              "      <td>40.731054</td>\n",
              "      <td>40.893880</td>\n",
              "      <td>40.637667</td>\n",
              "      <td>40.850780</td>\n",
              "      <td>85992800</td>\n",
              "      <td>0.0</td>\n",
              "      <td>0</td>\n",
              "    </tr>\n",
              "    <tr>\n",
              "      <th>2017-12-28</th>\n",
              "      <td>40.946568</td>\n",
              "      <td>41.150105</td>\n",
              "      <td>40.822051</td>\n",
              "      <td>40.965725</td>\n",
              "      <td>65920800</td>\n",
              "      <td>0.0</td>\n",
              "      <td>0</td>\n",
              "    </tr>\n",
              "    <tr>\n",
              "      <th>2017-12-29</th>\n",
              "      <td>40.831633</td>\n",
              "      <td>40.848393</td>\n",
              "      <td>40.520342</td>\n",
              "      <td>40.522736</td>\n",
              "      <td>103999600</td>\n",
              "      <td>0.0</td>\n",
              "      <td>0</td>\n",
              "    </tr>\n",
              "  </tbody>\n",
              "</table>\n",
              "<p>503 rows × 7 columns</p>\n",
              "</div>"
            ],
            "text/plain": [
              "                 Open       High        Low  ...     Volume  Dividends  Stock Splits\n",
              "Date                                         ...                                    \n",
              "2016-01-04  23.655163  24.291439  23.514536  ...  270597600        0.0             0\n",
              "2016-01-05  24.379045  24.402098  23.609059  ...  223164000        0.0             0\n",
              "2016-01-06  23.182569  23.599838  23.023501  ...  273829600        0.0             0\n",
              "2016-01-07  22.749164  23.083439  22.230461  ...  324377600        0.0             0\n",
              "2016-01-08  22.719199  22.848298  22.306542  ...  283192000        0.0             0\n",
              "...               ...        ...        ...  ...        ...        ...           ...\n",
              "2017-12-22  41.827760  42.004957  41.784660  ...   65397600        0.0             0\n",
              "2017-12-26  40.898678  41.059112  40.630488  ...  132742000        0.0             0\n",
              "2017-12-27  40.731054  40.893880  40.637667  ...   85992800        0.0             0\n",
              "2017-12-28  40.946568  41.150105  40.822051  ...   65920800        0.0             0\n",
              "2017-12-29  40.831633  40.848393  40.520342  ...  103999600        0.0             0\n",
              "\n",
              "[503 rows x 7 columns]"
            ]
          },
          "metadata": {},
          "execution_count": 4
        }
      ]
    },
    {
      "cell_type": "code",
      "metadata": {
        "id": "NayUr9BwAq_R",
        "colab": {
          "base_uri": "https://localhost:8080/"
        },
        "outputId": "481401f4-3322-4981-a827-3b3cc643664b"
      },
      "source": [
        "aapl = aapl_table['Close']['2017']\n",
        "print(aapl)"
      ],
      "execution_count": null,
      "outputs": [
        {
          "output_type": "stream",
          "name": "stdout",
          "text": [
            "Date\n",
            "2017-01-03    27.372360\n",
            "2017-01-04    27.341726\n",
            "2017-01-05    27.480766\n",
            "2017-01-06    27.787132\n",
            "2017-01-09    28.041649\n",
            "                ...    \n",
            "2017-12-22    41.906780\n",
            "2017-12-26    40.843605\n",
            "2017-12-27    40.850780\n",
            "2017-12-28    40.965725\n",
            "2017-12-29    40.522736\n",
            "Name: Close, Length: 251, dtype: float64\n"
          ]
        }
      ]
    },
    {
      "cell_type": "code",
      "metadata": {
        "colab": {
          "base_uri": "https://localhost:8080/"
        },
        "id": "FHdLz-XnkqDa",
        "outputId": "473efa7f-ebb7-4266-8d40-a87f2d7ccd28"
      },
      "source": [
        "aapl1 = aapl_table['Close']['2016']\n",
        "print(aapl1)"
      ],
      "execution_count": null,
      "outputs": [
        {
          "output_type": "stream",
          "name": "stdout",
          "text": [
            "Date\n",
            "2016-01-04    24.286827\n",
            "2016-01-05    23.678219\n",
            "2016-01-06    23.214844\n",
            "2016-01-07    22.235071\n",
            "2016-01-08    22.352648\n",
            "                ...    \n",
            "2016-12-23    27.459558\n",
            "2016-12-27    27.633951\n",
            "2016-12-28    27.516115\n",
            "2016-12-29    27.509047\n",
            "2016-12-30    27.294592\n",
            "Name: Close, Length: 252, dtype: float64\n"
          ]
        }
      ]
    },
    {
      "cell_type": "code",
      "metadata": {
        "colab": {
          "base_uri": "https://localhost:8080/"
        },
        "id": "L1g6zkk_kMfH",
        "outputId": "ec33f914-2566-4572-d05e-485f5ce49f7e"
      },
      "source": [
        "print(aapl['2017-3'])"
      ],
      "execution_count": null,
      "outputs": [
        {
          "output_type": "stream",
          "name": "stdout",
          "text": [
            "Date\n",
            "2017-03-01    33.086285\n",
            "2017-03-02    32.889832\n",
            "2017-03-03    33.083912\n",
            "2017-03-06    32.979774\n",
            "2017-03-07    33.022377\n",
            "2017-03-08    32.899300\n",
            "2017-03-09    32.823566\n",
            "2017-03-10    32.932442\n",
            "2017-03-13    32.946640\n",
            "2017-03-14    32.896935\n",
            "2017-03-15    33.244869\n",
            "2017-03-16    33.299305\n",
            "2017-03-17    33.133621\n",
            "2017-03-20    33.481548\n",
            "2017-03-21    33.098118\n",
            "2017-03-22    33.472084\n",
            "2017-03-23    33.353741\n",
            "2017-03-24    33.287472\n",
            "2017-03-27    33.344280\n",
            "2017-03-28    34.035389\n",
            "2017-03-29    34.111130\n",
            "2017-03-30    34.066162\n",
            "2017-03-31    34.002270\n",
            "Name: Close, dtype: float64\n"
          ]
        }
      ]
    },
    {
      "cell_type": "code",
      "metadata": {
        "colab": {
          "base_uri": "https://localhost:8080/"
        },
        "id": "j_S4FNtLkbc3",
        "outputId": "c278b7fc-f3cd-4e8c-e9dd-90e991bf8564"
      },
      "source": [
        "print(aapl1['2016-4'])"
      ],
      "execution_count": null,
      "outputs": [
        {
          "output_type": "stream",
          "name": "stdout",
          "text": [
            "Date\n",
            "2016-04-01    25.494099\n",
            "2016-04-04    25.756018\n",
            "2016-04-05    25.452381\n",
            "2016-04-06    25.718935\n",
            "2016-04-07    25.158012\n",
            "2016-04-08    25.185829\n",
            "2016-04-11    25.269272\n",
            "2016-04-12    25.598410\n",
            "2016-04-13    25.969261\n",
            "2016-04-14    25.983170\n",
            "2016-04-15    25.461649\n",
            "2016-04-18    24.912319\n",
            "2016-04-19    24.780207\n",
            "2016-04-20    24.831194\n",
            "2016-04-21    24.562326\n",
            "2016-04-22    24.495104\n",
            "2016-04-25    24.356031\n",
            "2016-04-26    24.186829\n",
            "2016-04-27    22.673275\n",
            "2016-04-28    21.980232\n",
            "2016-04-29    21.727589\n",
            "Name: Close, dtype: float64\n"
          ]
        }
      ]
    },
    {
      "cell_type": "code",
      "metadata": {
        "colab": {
          "base_uri": "https://localhost:8080/"
        },
        "id": "c-gfIgfIkyck",
        "outputId": "50c5279d-1328-4976-c3f9-886b98066a77"
      },
      "source": [
        "aapl['2017-2':'2017-4']"
      ],
      "execution_count": null,
      "outputs": [
        {
          "output_type": "execute_result",
          "data": {
            "text/plain": [
              "Date\n",
              "2017-02-01    30.341726\n",
              "2017-02-02    30.289881\n",
              "2017-02-03    30.419500\n",
              "2017-02-06    30.704651\n",
              "2017-02-07    30.996864\n",
              "                ...    \n",
              "2017-04-24    33.997520\n",
              "2017-04-25    34.208172\n",
              "2017-04-26    34.006992\n",
              "2017-04-27    34.033016\n",
              "2017-04-28    33.999889\n",
              "Name: Close, Length: 61, dtype: float64"
            ]
          },
          "metadata": {},
          "execution_count": 9
        }
      ]
    },
    {
      "cell_type": "code",
      "metadata": {
        "colab": {
          "base_uri": "https://localhost:8080/"
        },
        "id": "OXTL74uYk7W0",
        "outputId": "364d3f1a-0ef3-4693-8706-ea4dbd8bb265"
      },
      "source": [
        "aapl1['2016-3':'2016-7']"
      ],
      "execution_count": null,
      "outputs": [
        {
          "output_type": "execute_result",
          "data": {
            "text/plain": [
              "Date\n",
              "2016-03-01    23.301407\n",
              "2016-03-02    23.352404\n",
              "2016-03-03    23.526243\n",
              "2016-03-04    23.876238\n",
              "2016-03-07    23.612003\n",
              "                ...    \n",
              "2016-07-25    22.699383\n",
              "2016-07-26    22.543139\n",
              "2016-07-27    24.007614\n",
              "2016-07-28    24.331758\n",
              "2016-07-29    24.301445\n",
              "Name: Close, Length: 106, dtype: float64"
            ]
          },
          "metadata": {},
          "execution_count": 11
        }
      ]
    },
    {
      "cell_type": "code",
      "metadata": {
        "colab": {
          "base_uri": "https://localhost:8080/"
        },
        "id": "FH8SKYLek_Oz",
        "outputId": "516ac04a-ea44-44e7-ca48-33d54f222ea9"
      },
      "source": [
        "print(aapl.head(5))\n",
        "print(aapl.tail(10))"
      ],
      "execution_count": null,
      "outputs": [
        {
          "output_type": "stream",
          "name": "stdout",
          "text": [
            "Date\n",
            "2017-01-03    27.372360\n",
            "2017-01-04    27.341726\n",
            "2017-01-05    27.480766\n",
            "2017-01-06    27.787132\n",
            "2017-01-09    28.041649\n",
            "Name: Close, dtype: float64\n",
            "Date\n",
            "2017-12-15    41.657745\n",
            "2017-12-18    42.244408\n",
            "2017-12-19    41.794231\n",
            "2017-12-20    41.748734\n",
            "2017-12-21    41.906780\n",
            "2017-12-22    41.906780\n",
            "2017-12-26    40.843605\n",
            "2017-12-27    40.850780\n",
            "2017-12-28    40.965725\n",
            "2017-12-29    40.522736\n",
            "Name: Close, dtype: float64\n"
          ]
        }
      ]
    },
    {
      "cell_type": "code",
      "metadata": {
        "colab": {
          "base_uri": "https://localhost:8080/"
        },
        "id": "jax_o82wlSAn",
        "outputId": "c0168c8c-8023-48fc-8ba3-8b80ba500971"
      },
      "source": [
        "print(aapl1.head(4))\n",
        "print(aapl1.tail(8))"
      ],
      "execution_count": null,
      "outputs": [
        {
          "output_type": "stream",
          "name": "stdout",
          "text": [
            "Date\n",
            "2016-01-04    24.286827\n",
            "2016-01-05    23.678219\n",
            "2016-01-06    23.214844\n",
            "2016-01-07    22.235071\n",
            "Name: Close, dtype: float64\n",
            "Date\n",
            "2016-12-20    27.560894\n",
            "2016-12-21    27.586815\n",
            "2016-12-22    27.405352\n",
            "2016-12-23    27.459558\n",
            "2016-12-27    27.633951\n",
            "2016-12-28    27.516115\n",
            "2016-12-29    27.509047\n",
            "2016-12-30    27.294592\n",
            "Name: Close, dtype: float64\n"
          ]
        }
      ]
    },
    {
      "cell_type": "code",
      "metadata": {
        "colab": {
          "base_uri": "https://localhost:8080/"
        },
        "id": "TQXODbQ1lZ6F",
        "outputId": "fe59b9af-725c-4284-f983-fee97658407f"
      },
      "source": [
        "by_month = aapl.resample('M').mean()\n",
        "print(by_month)"
      ],
      "execution_count": null,
      "outputs": [
        {
          "output_type": "stream",
          "name": "stdout",
          "text": [
            "Date\n",
            "2017-01-31    28.178331\n",
            "2017-02-28    31.606276\n",
            "2017-03-31    33.282220\n",
            "2017-04-30    33.819264\n",
            "2017-05-31    36.125684\n",
            "2017-06-30    35.133984\n",
            "2017-07-31    35.245241\n",
            "2017-08-31    37.897228\n",
            "2017-09-30    37.604738\n",
            "2017-10-31    37.654550\n",
            "2017-11-30    41.233916\n",
            "2017-12-31    41.160039\n",
            "Freq: M, Name: Close, dtype: float64\n"
          ]
        }
      ]
    },
    {
      "cell_type": "code",
      "metadata": {
        "colab": {
          "base_uri": "https://localhost:8080/"
        },
        "id": "4czc_wezmMxa",
        "outputId": "9697f88a-7893-4bb9-a968-67f3ab93ee34"
      },
      "source": [
        "by_month1 = aapl1.resample('M').mean()\n",
        "print(by_month1)"
      ],
      "execution_count": null,
      "outputs": [
        {
          "output_type": "stream",
          "name": "stdout",
          "text": [
            "Date\n",
            "2016-01-31    22.691287\n",
            "2016-02-29    22.174696\n",
            "2016-03-31    24.167656\n",
            "2016-04-30    24.740578\n",
            "2016-05-31    22.128797\n",
            "2016-06-30    22.532010\n",
            "2016-07-31    22.983065\n",
            "2016-08-31    25.225826\n",
            "2016-09-30    25.991581\n",
            "2016-10-31    27.128711\n",
            "2016-11-30    25.946601\n",
            "2016-12-31    26.944800\n",
            "Freq: M, Name: Close, dtype: float64\n"
          ]
        }
      ]
    },
    {
      "cell_type": "code",
      "metadata": {
        "colab": {
          "base_uri": "https://localhost:8080/"
        },
        "id": "M3mNtM9CmQIX",
        "outputId": "22a27e9a-966b-4638-d8d8-5b262bbee2da"
      },
      "source": [
        "by_week = aapl.resample('W').mean()\n",
        "print(by_week.head())"
      ],
      "execution_count": null,
      "outputs": [
        {
          "output_type": "stream",
          "name": "stdout",
          "text": [
            "Date\n",
            "2017-01-08    27.495496\n",
            "2017-01-15    28.097736\n",
            "2017-01-22    28.266115\n",
            "2017-01-29    28.553979\n",
            "2017-02-05    29.662542\n",
            "Freq: W-SUN, Name: Close, dtype: float64\n"
          ]
        }
      ]
    },
    {
      "cell_type": "code",
      "metadata": {
        "colab": {
          "base_uri": "https://localhost:8080/"
        },
        "id": "uhwrmW5smXEo",
        "outputId": "228dfc59-bede-4b81-80aa-a218ca4c579e"
      },
      "source": [
        "by_week1 = aapl1.resample('W').mean()\n",
        "print(by_week1.head())"
      ],
      "execution_count": null,
      "outputs": [
        {
          "output_type": "stream",
          "name": "stdout",
          "text": [
            "Date\n",
            "2016-01-10    23.153522\n",
            "2016-01-17    22.709050\n",
            "2016-01-24    22.544564\n",
            "2016-01-31    22.328668\n",
            "2016-02-07    22.081274\n",
            "Freq: W-SUN, Name: Close, dtype: float64\n"
          ]
        }
      ]
    },
    {
      "cell_type": "code",
      "metadata": {
        "colab": {
          "base_uri": "https://localhost:8080/"
        },
        "id": "Sn3y626ima2q",
        "outputId": "8726f233-f264-4f63-be83-8a0a72432aa8"
      },
      "source": [
        "aapl.resample('M').max()"
      ],
      "execution_count": null,
      "outputs": [
        {
          "output_type": "execute_result",
          "data": {
            "text/plain": [
              "Date\n",
              "2017-01-31    28.739212\n",
              "2017-02-28    32.451969\n",
              "2017-03-31    34.111130\n",
              "2017-04-30    34.264980\n",
              "2017-05-31    37.099129\n",
              "2017-06-30    36.944645\n",
              "2017-07-31    36.471699\n",
              "2017-08-31    39.129726\n",
              "2017-09-30    39.141655\n",
              "2017-10-31    40.332249\n",
              "2017-11-30    42.050140\n",
              "2017-12-31    42.244408\n",
              "Freq: M, Name: Close, dtype: float64"
            ]
          },
          "metadata": {},
          "execution_count": 19
        }
      ]
    },
    {
      "cell_type": "code",
      "metadata": {
        "colab": {
          "base_uri": "https://localhost:8080/"
        },
        "id": "vL74K2l9mkWE",
        "outputId": "105f6573-adcc-49f2-9fcd-2b3c78b2e316"
      },
      "source": [
        "aapl1.resample('M').max()"
      ],
      "execution_count": null,
      "outputs": [
        {
          "output_type": "execute_result",
          "data": {
            "text/plain": [
              "Date\n",
              "2016-01-31    24.286827\n",
              "2016-02-29    22.742807\n",
              "2016-03-31    25.394432\n",
              "2016-04-30    25.983170\n",
              "2016-05-31    23.415297\n",
              "2016-06-30    23.238064\n",
              "2016-07-31    24.331758\n",
              "2016-08-31    25.668694\n",
              "2016-09-30    27.096560\n",
              "2016-10-31    27.724911\n",
              "2016-11-30    26.347223\n",
              "2016-12-31    27.633951\n",
              "Freq: M, Name: Close, dtype: float64"
            ]
          },
          "metadata": {},
          "execution_count": 20
        }
      ]
    },
    {
      "cell_type": "code",
      "metadata": {
        "colab": {
          "base_uri": "https://localhost:8080/"
        },
        "id": "GXLQF6x_mpey",
        "outputId": "b14e5763-c37d-408e-88b0-53143eddb146"
      },
      "source": [
        "three_day = aapl.resample('3D').mean()\n",
        "two_week = aapl.resample('2W').mean()\n",
        "two_month = aapl.resample('2M').mean()\n",
        "\n",
        "\n",
        "print(three_day)\n",
        "print(two_week)\n",
        "print(two_month )"
      ],
      "execution_count": null,
      "outputs": [
        {
          "output_type": "stream",
          "name": "stdout",
          "text": [
            "Date\n",
            "2017-01-03    27.398284\n",
            "2017-01-06    27.787132\n",
            "2017-01-09    28.110774\n",
            "2017-01-12    28.078178\n",
            "2017-01-15    28.279667\n",
            "                ...    \n",
            "2017-12-17    42.019320\n",
            "2017-12-20    41.854098\n",
            "2017-12-23          NaN\n",
            "2017-12-26    40.886703\n",
            "2017-12-29    40.522736\n",
            "Freq: 3D, Name: Close, Length: 121, dtype: float64\n",
            "Date\n",
            "2017-01-08    27.495496\n",
            "2017-01-22    28.172571\n",
            "2017-02-05    29.108261\n",
            "2017-02-19    31.516817\n",
            "2017-03-05    32.595556\n",
            "2017-03-19    33.017883\n",
            "2017-04-02    33.625219\n",
            "2017-04-16    33.849731\n",
            "2017-04-30    33.791845\n",
            "2017-05-14    35.697631\n",
            "2017-05-28    36.496178\n",
            "2017-06-11    36.515006\n",
            "2017-06-25    34.529047\n",
            "2017-07-09    34.265135\n",
            "2017-07-23    35.278871\n",
            "2017-08-06    36.272775\n",
            "2017-08-20    37.904119\n",
            "2017-09-03    38.458791\n",
            "2017-09-17    38.282708\n",
            "2017-10-01    36.840873\n",
            "2017-10-15    37.071595\n",
            "2017-10-29    37.757319\n",
            "2017-11-12    41.032240\n",
            "2017-11-26    41.204378\n",
            "2017-12-10    40.867064\n",
            "2017-12-24    41.620869\n",
            "2018-01-07    40.795712\n",
            "Freq: 2W-SUN, Name: Close, dtype: float64\n",
            "Date\n",
            "2017-01-31    28.178331\n",
            "2017-03-31    32.524055\n",
            "2017-05-31    35.056855\n",
            "2017-07-31    35.186964\n",
            "2017-09-30    37.761186\n",
            "2017-11-30    39.402613\n",
            "2018-01-31    41.160039\n",
            "Freq: 2M, Name: Close, dtype: float64\n"
          ]
        }
      ]
    },
    {
      "cell_type": "code",
      "metadata": {
        "colab": {
          "base_uri": "https://localhost:8080/"
        },
        "id": "PAP55HRkm7zB",
        "outputId": "bb8efd02-cc02-4e81-8eaf-2a97f5e30bd7"
      },
      "source": [
        "seisDias = aapl1.resample('6D').mean()\n",
        "cincoSemanas = aapl1.resample('5W').mean()\n",
        "cuatroMeses = aapl1.resample('4M').mean()\n",
        "\n",
        "\n",
        "print(seisDias)\n",
        "print(cincoSemanas)\n",
        "print(cuatroMeses)"
      ],
      "execution_count": null,
      "outputs": [
        {
          "output_type": "stream",
          "name": "stdout",
          "text": [
            "Date\n",
            "2016-01-04    23.153522\n",
            "2016-01-10    22.709050\n",
            "2016-01-16    22.265809\n",
            "2016-01-22    22.723229\n",
            "2016-01-28    22.035657\n",
            "                ...    \n",
            "2016-12-05    26.213366\n",
            "2016-12-11    27.123502\n",
            "2016-12-17    27.510225\n",
            "2016-12-23    27.536542\n",
            "2016-12-29    27.401819\n",
            "Freq: 6D, Name: Close, Length: 61, dtype: float64\n",
            "Date\n",
            "2016-01-10    23.153522\n",
            "2016-02-14    22.298616\n",
            "2016-03-20    23.208695\n",
            "2016-04-24    25.125080\n",
            "2016-05-29    22.253666\n",
            "2016-07-03    22.556354\n",
            "2016-08-07    23.378623\n",
            "2016-09-11    25.261124\n",
            "2016-10-16    26.631388\n",
            "2016-11-20    26.436750\n",
            "2016-12-25    26.655354\n",
            "2017-01-29    27.488426\n",
            "Freq: 5W-SUN, Name: Close, dtype: float64\n",
            "Date\n",
            "2016-01-31    22.691287\n",
            "2016-05-31    23.326657\n",
            "2016-09-30    24.202124\n",
            "2017-01-31    26.673371\n",
            "Freq: 4M, Name: Close, dtype: float64\n"
          ]
        }
      ]
    },
    {
      "cell_type": "code",
      "metadata": {
        "colab": {
          "base_uri": "https://localhost:8080/"
        },
        "id": "d1PuwvUNnuhK",
        "outputId": "a54f307c-c25c-4bd5-cf9b-b5636ae824ca"
      },
      "source": [
        "std = aapl.resample('W').std()\n",
        "max = aapl.resample('W').max()\n",
        "min = aapl.resample('W').min()\n",
        "\n",
        "\n",
        "print(std)\n",
        "print(max)\n",
        "print(min)"
      ],
      "execution_count": null,
      "outputs": [
        {
          "output_type": "stream",
          "name": "stdout",
          "text": [
            "Date\n",
            "2017-01-08    0.203368\n",
            "2017-01-15    0.072527\n",
            "2017-01-22    0.025552\n",
            "2017-01-29    0.245287\n",
            "2017-02-05    0.943264\n",
            "2017-02-12    0.252002\n",
            "2017-02-19    0.231394\n",
            "2017-02-26    0.059347\n",
            "2017-03-05    0.340088\n",
            "2017-03-12    0.076283\n",
            "2017-03-19    0.177837\n",
            "2017-03-26    0.157263\n",
            "2017-04-02    0.319804\n",
            "2017-04-09    0.128685\n",
            "2017-04-16    0.212471\n",
            "2017-04-23    0.174671\n",
            "2017-04-30    0.090025\n",
            "2017-05-07    0.235641\n",
            "2017-05-14    0.352978\n",
            "2017-05-21    0.536095\n",
            "2017-05-28    0.060394\n",
            "2017-06-04    0.281222\n",
            "2017-06-11    0.620034\n",
            "2017-06-18    0.382564\n",
            "2017-06-25    0.128891\n",
            "2017-07-02    0.264111\n",
            "2017-07-09    0.158891\n",
            "2017-07-16    0.404279\n",
            "2017-07-23    0.124989\n",
            "2017-07-30    0.384439\n",
            "2017-08-06    0.924391\n",
            "2017-08-13    0.467472\n",
            "2017-08-20    0.435249\n",
            "2017-08-27    0.275767\n",
            "2017-09-03    0.251723\n",
            "2017-09-10    0.381639\n",
            "2017-09-17    0.294138\n",
            "2017-09-24    0.735195\n",
            "2017-10-01    0.354843\n",
            "2017-10-08    0.204856\n",
            "2017-10-15    0.118729\n",
            "2017-10-22    0.516998\n",
            "2017-10-29    0.680459\n",
            "2017-11-05    0.560684\n",
            "2017-11-12    0.190972\n",
            "2017-11-19    0.436199\n",
            "2017-11-26    0.563049\n",
            "2017-12-03    0.427447\n",
            "2017-12-10    0.073129\n",
            "2017-12-17    0.205266\n",
            "2017-12-24    0.194126\n",
            "2017-12-31    0.190392\n",
            "Freq: W-SUN, Name: Close, dtype: float64\n",
            "Date\n",
            "2017-01-08    27.787132\n",
            "2017-01-15    28.220747\n",
            "2017-01-22    28.279667\n",
            "2017-01-29    28.739212\n",
            "2017-02-05    30.419500\n",
            "2017-02-12    31.341919\n",
            "2017-02-19    32.122978\n",
            "2017-02-26    32.451969\n",
            "2017-03-05    33.086285\n",
            "2017-03-12    33.022377\n",
            "2017-03-19    33.299305\n",
            "2017-03-26    33.481548\n",
            "2017-04-02    34.111130\n",
            "2017-04-09    34.264980\n",
            "2017-04-16    33.886276\n",
            "2017-04-23    33.713505\n",
            "2017-04-30    34.208172\n",
            "2017-05-07    35.256699\n",
            "2017-05-14    37.099129\n",
            "2017-05-21    37.004066\n",
            "2017-05-28    36.597660\n",
            "2017-06-04    36.944645\n",
            "2017-06-11    36.925636\n",
            "2017-06-18    34.838955\n",
            "2017-06-25    34.779541\n",
            "2017-07-02    34.658337\n",
            "2017-07-09    34.266190\n",
            "2017-07-16    35.421223\n",
            "2017-07-23    35.891804\n",
            "2017-07-30    36.471699\n",
            "2017-08-06    37.346302\n",
            "2017-08-13    38.277935\n",
            "2017-08-20    38.557095\n",
            "2017-08-27    38.170563\n",
            "2017-09-03    39.141655\n",
            "2017-09-10    38.671616\n",
            "2017-09-17    38.533230\n",
            "2017-09-24    37.872326\n",
            "2017-10-01    36.798637\n",
            "2017-10-08    37.075417\n",
            "2017-10-15    37.457165\n",
            "2017-10-22    38.287483\n",
            "2017-10-29    38.903065\n",
            "2017-11-05    41.157791\n",
            "2017-11-12    42.050140\n",
            "2017-11-19    41.657745\n",
            "2017-11-26    41.897202\n",
            "2017-12-03    41.686474\n",
            "2017-12-10    40.659218\n",
            "2017-12-17    41.657745\n",
            "2017-12-24    42.244408\n",
            "2017-12-31    40.965725\n",
            "Freq: W-SUN, Name: Close, dtype: float64\n",
            "Date\n",
            "2017-01-08    27.341726\n",
            "2017-01-15    28.041649\n",
            "2017-01-22    28.227823\n",
            "2017-01-29    28.272594\n",
            "2017-02-05    28.597809\n",
            "2017-02-12    30.704651\n",
            "2017-02-19    31.547825\n",
            "2017-02-26    32.314686\n",
            "2017-03-05    32.409367\n",
            "2017-03-12    32.823566\n",
            "2017-03-19    32.896935\n",
            "2017-03-26    33.098118\n",
            "2017-04-02    33.344280\n",
            "2017-04-09    33.926529\n",
            "2017-04-16    33.384514\n",
            "2017-04-23    33.296940\n",
            "2017-04-30    33.997520\n",
            "2017-05-07    34.681545\n",
            "2017-05-14    36.215271\n",
            "2017-05-21    35.708805\n",
            "2017-05-28    36.443176\n",
            "2017-06-04    36.305332\n",
            "2017-06-11    35.406971\n",
            "2017-06-18    33.812256\n",
            "2017-06-25    34.463455\n",
            "2017-07-02    34.147362\n",
            "2017-07-09    33.921577\n",
            "2017-07-16    34.475334\n",
            "2017-07-23    35.544815\n",
            "2017-07-30    35.530560\n",
            "2017-08-06    35.347553\n",
            "2017-08-13    37.058704\n",
            "2017-08-20    37.578854\n",
            "2017-08-27    37.509655\n",
            "2017-09-03    38.526081\n",
            "2017-09-10    37.848465\n",
            "2017-09-17    37.764954\n",
            "2017-09-24    36.240322\n",
            "2017-10-01    35.920612\n",
            "2017-10-08    36.619694\n",
            "2017-10-15    37.182785\n",
            "2017-10-22    37.216175\n",
            "2017-10-29    37.261505\n",
            "2017-11-05    39.778709\n",
            "2017-11-12    41.575329\n",
            "2017-11-19    40.486816\n",
            "2017-11-26    40.702316\n",
            "2017-12-03    40.582588\n",
            "2017-12-10    40.470051\n",
            "2017-12-17    41.114182\n",
            "2017-12-24    41.748734\n",
            "2017-12-31    40.522736\n",
            "Freq: W-SUN, Name: Close, dtype: float64\n"
          ]
        }
      ]
    },
    {
      "cell_type": "code",
      "metadata": {
        "colab": {
          "base_uri": "https://localhost:8080/"
        },
        "id": "Lry5i2pfn4aZ",
        "outputId": "e018c813-098a-40a1-c9e0-5c8c836800ee"
      },
      "source": [
        "std1 = aapl1.resample('3M').std()\n",
        "max1 = aapl1.resample('3M').max()\n",
        "min1 = aapl1.resample('3M').min()\n",
        "\n",
        "\n",
        "print(std1)\n",
        "print(max1)\n",
        "print(min1)"
      ],
      "execution_count": null,
      "outputs": [
        {
          "output_type": "stream",
          "name": "stdout",
          "text": [
            "Date\n",
            "2016-01-31    0.669095\n",
            "2016-04-30    1.356040\n",
            "2016-07-31    0.698772\n",
            "2016-10-31    0.982867\n",
            "2017-01-31    0.742539\n",
            "Freq: 3M, Name: Close, dtype: float64\n",
            "Date\n",
            "2016-01-31    24.286827\n",
            "2016-04-30    25.983170\n",
            "2016-07-31    24.331758\n",
            "2016-10-31    27.724911\n",
            "2017-01-31    27.633951\n",
            "Freq: 3M, Name: Close, dtype: float64\n",
            "Date\n",
            "2016-01-31    21.536552\n",
            "2016-04-30    21.718315\n",
            "2016-07-31    21.067001\n",
            "2016-10-31    24.179869\n",
            "2017-01-31    24.912035\n",
            "Freq: 3M, Name: Close, dtype: float64\n"
          ]
        }
      ]
    },
    {
      "cell_type": "code",
      "metadata": {
        "colab": {
          "base_uri": "https://localhost:8080/"
        },
        "id": "sqTpvNbAoRSj",
        "outputId": "34fb3826-c785-43b9-f642-ea2390c2af07"
      },
      "source": [
        "last_day = aapl.resample('M').agg(lambda x: x[-1])\n",
        "print(last_day)"
      ],
      "execution_count": null,
      "outputs": [
        {
          "output_type": "stream",
          "name": "stdout",
          "text": [
            "Date\n",
            "2017-01-31    28.597809\n",
            "2017-02-28    32.423569\n",
            "2017-03-31    34.002270\n",
            "2017-04-30    33.999889\n",
            "2017-05-31    36.305332\n",
            "2017-06-30    34.228176\n",
            "2017-07-31    35.347553\n",
            "2017-08-31    39.129726\n",
            "2017-09-30    36.772396\n",
            "2017-10-31    40.332249\n",
            "2017-11-30    41.150105\n",
            "2017-12-31    40.522736\n",
            "Freq: M, Name: Close, dtype: float64\n"
          ]
        }
      ]
    },
    {
      "cell_type": "code",
      "metadata": {
        "colab": {
          "base_uri": "https://localhost:8080/"
        },
        "id": "la0Tbo_Yof0r",
        "outputId": "65d27f2d-3c9d-41fd-a48c-c25d7bfb3075"
      },
      "source": [
        "day1 = aapl1.resample('M').agg(lambda x: x[-1])\n",
        "print(day1)"
      ],
      "execution_count": null,
      "outputs": [
        {
          "output_type": "stream",
          "name": "stdout",
          "text": [
            "Date\n",
            "2016-01-31    22.440248\n",
            "2016-02-29    22.411350\n",
            "2016-03-31    25.262312\n",
            "2016-04-30    21.727589\n",
            "2016-05-31    23.287041\n",
            "2016-06-30    22.293617\n",
            "2016-07-31    24.301445\n",
            "2016-08-31    24.876217\n",
            "2016-09-30    26.505718\n",
            "2016-10-31    26.620605\n",
            "2016-11-30    26.045574\n",
            "2016-12-31    27.294592\n",
            "Freq: M, Name: Close, dtype: float64\n"
          ]
        }
      ]
    },
    {
      "cell_type": "code",
      "metadata": {
        "colab": {
          "base_uri": "https://localhost:8080/"
        },
        "id": "ss3l9-EVpOsV",
        "outputId": "d44caa5f-f9cc-47d0-f45f-09b8ec2bd0eb"
      },
      "source": [
        "twoMonths_return = aapl1.resample('M').agg(lambda x: x[-1]/x[0] - 1)\n",
        "print(twoMonths_return)"
      ],
      "execution_count": null,
      "outputs": [
        {
          "output_type": "stream",
          "name": "stdout",
          "text": [
            "Date\n",
            "2016-01-31   -0.076032\n",
            "2016-02-29    0.008137\n",
            "2016-03-31    0.084154\n",
            "2016-04-30   -0.147740\n",
            "2016-05-31    0.072918\n",
            "2016-06-30   -0.029047\n",
            "2016-07-31    0.086766\n",
            "2016-08-31    0.005891\n",
            "2016-09-30    0.059215\n",
            "2016-10-31    0.009065\n",
            "2016-11-30   -0.003611\n",
            "2016-12-31    0.057814\n",
            "Freq: M, Name: Close, dtype: float64\n"
          ]
        }
      ]
    },
    {
      "cell_type": "code",
      "metadata": {
        "colab": {
          "base_uri": "https://localhost:8080/"
        },
        "id": "3g3a_fw4pzkY",
        "outputId": "fcc6fc36-c3ed-4e27-db47-1592d038735b"
      },
      "source": [
        "print(monthly_return.mean())\n",
        "print(monthly_return.std())\n",
        "print(monthly_return.max())"
      ],
      "execution_count": null,
      "outputs": [
        {
          "output_type": "stream",
          "name": "stdout",
          "text": [
            "0.026863392524858726\n",
            "0.05225849377385851\n",
            "0.09901851007954865\n"
          ]
        }
      ]
    },
    {
      "cell_type": "code",
      "metadata": {
        "colab": {
          "base_uri": "https://localhost:8080/"
        },
        "id": "HchjsRvpqPIv",
        "outputId": "9e2b83a0-2535-45d5-fe43-30dd970baa59"
      },
      "source": [
        "print(twoMonths_return.mean())\n",
        "print(twoMonths_return.std())\n",
        "print(twoMonths_return.max())"
      ],
      "execution_count": null,
      "outputs": [
        {
          "output_type": "stream",
          "name": "stdout",
          "text": [
            "0.010627423241531384\n",
            "0.0701094988258885\n",
            "0.0867662276824479\n"
          ]
        }
      ]
    },
    {
      "cell_type": "code",
      "metadata": {
        "colab": {
          "base_uri": "https://localhost:8080/"
        },
        "id": "jREn0GWvqV-x",
        "outputId": "5c0d17cc-01d2-4794-b1dd-e9355707ef77"
      },
      "source": [
        "\n",
        "print(last_day.diff())\n",
        "print(last_day.pct_change())"
      ],
      "execution_count": null,
      "outputs": [
        {
          "output_type": "stream",
          "name": "stdout",
          "text": [
            "Date\n",
            "2017-01-31         NaN\n",
            "2017-02-28    3.825760\n",
            "2017-03-31    1.578701\n",
            "2017-04-30   -0.002380\n",
            "2017-05-31    2.305443\n",
            "2017-06-30   -2.077156\n",
            "2017-07-31    1.119377\n",
            "2017-08-31    3.782173\n",
            "2017-09-30   -2.357330\n",
            "2017-10-31    3.559853\n",
            "2017-11-30    0.817856\n",
            "2017-12-31   -0.627369\n",
            "Freq: M, Name: Close, dtype: float64\n",
            "Date\n",
            "2017-01-31         NaN\n",
            "2017-02-28    0.133778\n",
            "2017-03-31    0.048690\n",
            "2017-04-30   -0.000070\n",
            "2017-05-31    0.067807\n",
            "2017-06-30   -0.057214\n",
            "2017-07-31    0.032703\n",
            "2017-08-31    0.107000\n",
            "2017-09-30   -0.060244\n",
            "2017-10-31    0.096808\n",
            "2017-11-30    0.020278\n",
            "2017-12-31   -0.015246\n",
            "Freq: M, Name: Close, dtype: float64\n"
          ]
        }
      ]
    },
    {
      "cell_type": "code",
      "metadata": {
        "colab": {
          "base_uri": "https://localhost:8080/"
        },
        "id": "SOuvx2ngqehW",
        "outputId": "7f83b54b-d733-4780-8c36-8424c4388223"
      },
      "source": [
        "print(day1.diff())\n",
        "print(day1.pct_change())"
      ],
      "execution_count": null,
      "outputs": [
        {
          "output_type": "stream",
          "name": "stdout",
          "text": [
            "Date\n",
            "2016-01-31         NaN\n",
            "2016-02-29   -0.028898\n",
            "2016-03-31    2.850962\n",
            "2016-04-30   -3.534723\n",
            "2016-05-31    1.559452\n",
            "2016-06-30   -0.993423\n",
            "2016-07-31    2.007828\n",
            "2016-08-31    0.574772\n",
            "2016-09-30    1.629501\n",
            "2016-10-31    0.114887\n",
            "2016-11-30   -0.575031\n",
            "2016-12-31    1.249018\n",
            "Freq: M, Name: Close, dtype: float64\n",
            "Date\n",
            "2016-01-31         NaN\n",
            "2016-02-29   -0.001288\n",
            "2016-03-31    0.127211\n",
            "2016-04-30   -0.139921\n",
            "2016-05-31    0.071773\n",
            "2016-06-30   -0.042660\n",
            "2016-07-31    0.090063\n",
            "2016-08-31    0.023652\n",
            "2016-09-30    0.065504\n",
            "2016-10-31    0.004334\n",
            "2016-11-30   -0.021601\n",
            "2016-12-31    0.047955\n",
            "Freq: M, Name: Close, dtype: float64\n"
          ]
        }
      ]
    },
    {
      "cell_type": "code",
      "metadata": {
        "colab": {
          "base_uri": "https://localhost:8080/"
        },
        "id": "icOkHzJ6qwoq",
        "outputId": "860ef864-62a1-4333-f35f-d6a31de33ae6"
      },
      "source": [
        "daily_return = last_day.pct_change()\n",
        "print(daily_return.fillna(0))"
      ],
      "execution_count": null,
      "outputs": [
        {
          "output_type": "stream",
          "name": "stdout",
          "text": [
            "Date\n",
            "2017-01-31    0.000000\n",
            "2017-02-28    0.133778\n",
            "2017-03-31    0.048690\n",
            "2017-04-30   -0.000070\n",
            "2017-05-31    0.067807\n",
            "2017-06-30   -0.057214\n",
            "2017-07-31    0.032703\n",
            "2017-08-31    0.107000\n",
            "2017-09-30   -0.060244\n",
            "2017-10-31    0.096808\n",
            "2017-11-30    0.020278\n",
            "2017-12-31   -0.015246\n",
            "Freq: M, Name: Close, dtype: float64\n"
          ]
        }
      ]
    },
    {
      "cell_type": "code",
      "metadata": {
        "colab": {
          "base_uri": "https://localhost:8080/"
        },
        "id": "z8w_iv2Fq4xc",
        "outputId": "cbfdf293-1c54-40a2-968f-9c1e4e63a2ab"
      },
      "source": [
        "daily_return1 = day1.pct_change()\n",
        "print(daily_return1.fillna(0))"
      ],
      "execution_count": null,
      "outputs": [
        {
          "output_type": "stream",
          "name": "stdout",
          "text": [
            "Date\n",
            "2016-01-31    0.000000\n",
            "2016-02-29   -0.001288\n",
            "2016-03-31    0.127211\n",
            "2016-04-30   -0.139921\n",
            "2016-05-31    0.071773\n",
            "2016-06-30   -0.042660\n",
            "2016-07-31    0.090063\n",
            "2016-08-31    0.023652\n",
            "2016-09-30    0.065504\n",
            "2016-10-31    0.004334\n",
            "2016-11-30   -0.021601\n",
            "2016-12-31    0.047955\n",
            "Freq: M, Name: Close, dtype: float64\n"
          ]
        }
      ]
    },
    {
      "cell_type": "code",
      "metadata": {
        "colab": {
          "base_uri": "https://localhost:8080/"
        },
        "id": "poPSOHlJrZlB",
        "outputId": "2bb22590-27f1-4bf5-ead6-c60bf64053f0"
      },
      "source": [
        "daily_return = last_day.pct_change()\n",
        "print(daily_return.fillna(method = 'bfill'))"
      ],
      "execution_count": null,
      "outputs": [
        {
          "output_type": "stream",
          "name": "stdout",
          "text": [
            "Date\n",
            "2017-01-31    0.133778\n",
            "2017-02-28    0.133778\n",
            "2017-03-31    0.048690\n",
            "2017-04-30   -0.000070\n",
            "2017-05-31    0.067807\n",
            "2017-06-30   -0.057214\n",
            "2017-07-31    0.032703\n",
            "2017-08-31    0.107000\n",
            "2017-09-30   -0.060244\n",
            "2017-10-31    0.096808\n",
            "2017-11-30    0.020278\n",
            "2017-12-31   -0.015246\n",
            "Freq: M, Name: Close, dtype: float64\n"
          ]
        }
      ]
    },
    {
      "cell_type": "code",
      "metadata": {
        "colab": {
          "base_uri": "https://localhost:8080/"
        },
        "id": "ZLYMmy7Lretf",
        "outputId": "0a642056-9649-437c-8607-bbb6ced81877"
      },
      "source": [
        "daily_return1 = day1.pct_change()\n",
        "print(daily_return1.fillna(method = 'bfill'))"
      ],
      "execution_count": null,
      "outputs": [
        {
          "output_type": "stream",
          "name": "stdout",
          "text": [
            "Date\n",
            "2016-01-31   -0.001288\n",
            "2016-02-29   -0.001288\n",
            "2016-03-31    0.127211\n",
            "2016-04-30   -0.139921\n",
            "2016-05-31    0.071773\n",
            "2016-06-30   -0.042660\n",
            "2016-07-31    0.090063\n",
            "2016-08-31    0.023652\n",
            "2016-09-30    0.065504\n",
            "2016-10-31    0.004334\n",
            "2016-11-30   -0.021601\n",
            "2016-12-31    0.047955\n",
            "Freq: M, Name: Close, dtype: float64\n"
          ]
        }
      ]
    },
    {
      "cell_type": "code",
      "metadata": {
        "colab": {
          "base_uri": "https://localhost:8080/"
        },
        "id": "rdS9Sse5rkVu",
        "outputId": "f5b8d232-1274-46bf-f93c-b11324957e48"
      },
      "source": [
        "daily_return = last_day.pct_change()\n",
        "daily_return.dropna()"
      ],
      "execution_count": null,
      "outputs": [
        {
          "output_type": "execute_result",
          "data": {
            "text/plain": [
              "Date\n",
              "2017-02-28    0.133778\n",
              "2017-03-31    0.048690\n",
              "2017-04-30   -0.000070\n",
              "2017-05-31    0.067807\n",
              "2017-06-30   -0.057214\n",
              "2017-07-31    0.032703\n",
              "2017-08-31    0.107000\n",
              "2017-09-30   -0.060244\n",
              "2017-10-31    0.096808\n",
              "2017-11-30    0.020278\n",
              "2017-12-31   -0.015246\n",
              "Freq: M, Name: Close, dtype: float64"
            ]
          },
          "metadata": {},
          "execution_count": 42
        }
      ]
    },
    {
      "cell_type": "code",
      "metadata": {
        "colab": {
          "base_uri": "https://localhost:8080/"
        },
        "id": "5N714D_yr29H",
        "outputId": "3582b32f-26ae-4d05-e3c3-3b90e0235c38"
      },
      "source": [
        "daily_return1 = day1.pct_change()\n",
        "daily_return1.dropna()"
      ],
      "execution_count": null,
      "outputs": [
        {
          "output_type": "execute_result",
          "data": {
            "text/plain": [
              "Date\n",
              "2016-02-29   -0.001288\n",
              "2016-03-31    0.127211\n",
              "2016-04-30   -0.139921\n",
              "2016-05-31    0.071773\n",
              "2016-06-30   -0.042660\n",
              "2016-07-31    0.090063\n",
              "2016-08-31    0.023652\n",
              "2016-09-30    0.065504\n",
              "2016-10-31    0.004334\n",
              "2016-11-30   -0.021601\n",
              "2016-12-31    0.047955\n",
              "Freq: M, Name: Close, dtype: float64"
            ]
          },
          "metadata": {},
          "execution_count": 43
        }
      ]
    },
    {
      "cell_type": "code",
      "metadata": {
        "colab": {
          "base_uri": "https://localhost:8080/"
        },
        "id": "PhUDAqzsr6lY",
        "outputId": "922d395f-29ab-4d5c-fd4d-948dbd67c845"
      },
      "source": [
        "import pandas as pd\n",
        "\n",
        "dict = {'AAPL': [143.5, 144.09, 142.73, 144.18, 143.77],'GOOG':[898.7, 911.71, 906.69, 918.59, 926.99],\n",
        "        'IBM':[155.58, 153.67, 152.36, 152.94, 153.49]}\n",
        "data_index = pd.date_range('2017-07-03',periods = 5, freq = 'D')\n",
        "df = pd.DataFrame(dict, index = data_index)\n",
        "print(df)"
      ],
      "execution_count": null,
      "outputs": [
        {
          "output_type": "stream",
          "name": "stdout",
          "text": [
            "              AAPL    GOOG     IBM\n",
            "2017-07-03  143.50  898.70  155.58\n",
            "2017-07-04  144.09  911.71  153.67\n",
            "2017-07-05  142.73  906.69  152.36\n",
            "2017-07-06  144.18  918.59  152.94\n",
            "2017-07-07  143.77  926.99  153.49\n"
          ]
        }
      ]
    },
    {
      "cell_type": "code",
      "metadata": {
        "colab": {
          "base_uri": "https://localhost:8080/"
        },
        "id": "XELVThHrsk5m",
        "outputId": "a28b2ee5-2e47-468d-bd6c-b1a55516859d"
      },
      "source": [
        "import pandas as pd1\n",
        "dict1 = {'coca': [237.3, 564.1, 315.1, 274.3, 215.9],'aza':[716.2, 846.3, 797.12, 879.03, 421.25],\n",
        "        'bdm':[499.2, 321.25, 653.34, 789.83, 303.31]}\n",
        "data_index1 = pd1.date_range('2020-03-01',periods = 5, freq = 'W')\n",
        "df1 = pd1.DataFrame(dict1, index = data_index1)\n",
        "print(df1)"
      ],
      "execution_count": null,
      "outputs": [
        {
          "output_type": "stream",
          "name": "stdout",
          "text": [
            "             coca     aza     bdm\n",
            "2020-03-01  237.3  716.20  499.20\n",
            "2020-03-08  564.1  846.30  321.25\n",
            "2020-03-15  315.1  797.12  653.34\n",
            "2020-03-22  274.3  879.03  789.83\n",
            "2020-03-29  215.9  421.25  303.31\n"
          ]
        }
      ]
    },
    {
      "cell_type": "code",
      "metadata": {
        "colab": {
          "base_uri": "https://localhost:8080/"
        },
        "id": "3KLz8G56tcn5",
        "outputId": "2e995e70-a8cf-4b98-ea70-1498944f17e2"
      },
      "source": [
        "df = aapl_table\n",
        "print(df.Close.tail(5))\n",
        "print(df['Volume'].tail(5))"
      ],
      "execution_count": null,
      "outputs": [
        {
          "output_type": "stream",
          "name": "stdout",
          "text": [
            "Date\n",
            "2017-12-22    41.906780\n",
            "2017-12-26    40.843605\n",
            "2017-12-27    40.850780\n",
            "2017-12-28    40.965725\n",
            "2017-12-29    40.522736\n",
            "Name: Close, dtype: float64\n",
            "Date\n",
            "2017-12-22     65397600\n",
            "2017-12-26    132742000\n",
            "2017-12-27     85992800\n",
            "2017-12-28     65920800\n",
            "2017-12-29    103999600\n",
            "Name: Volume, dtype: int64\n"
          ]
        }
      ]
    },
    {
      "cell_type": "code",
      "metadata": {
        "colab": {
          "base_uri": "https://localhost:8080/"
        },
        "id": "dO2apoNKuluJ",
        "outputId": "3e1b6d86-2544-4312-8c34-920b2cbc478f"
      },
      "source": [
        "df1 = aapl_table\n",
        "print(df1.Close.tail(7))\n",
        "print(df1['Volume'].tail(7))"
      ],
      "execution_count": null,
      "outputs": [
        {
          "output_type": "stream",
          "name": "stdout",
          "text": [
            "Date\n",
            "2017-12-20    41.748734\n",
            "2017-12-21    41.906780\n",
            "2017-12-22    41.906780\n",
            "2017-12-26    40.843605\n",
            "2017-12-27    40.850780\n",
            "2017-12-28    40.965725\n",
            "2017-12-29    40.522736\n",
            "Name: Close, dtype: float64\n",
            "Date\n",
            "2017-12-20     93902400\n",
            "2017-12-21     83799600\n",
            "2017-12-22     65397600\n",
            "2017-12-26    132742000\n",
            "2017-12-27     85992800\n",
            "2017-12-28     65920800\n",
            "2017-12-29    103999600\n",
            "Name: Volume, dtype: int64\n"
          ]
        }
      ]
    },
    {
      "cell_type": "code",
      "metadata": {
        "colab": {
          "base_uri": "https://localhost:8080/"
        },
        "id": "X6KLdWkfuw-g",
        "outputId": "8e7af1bc-5e34-44c8-85b5-9861cc52a998"
      },
      "source": [
        "aapl_2016 = df['2016']\n",
        "aapl_month = aapl_2016.resample('M').agg(lambda x: x[-1])\n",
        "print(aapl_month)"
      ],
      "execution_count": null,
      "outputs": [
        {
          "output_type": "stream",
          "name": "stdout",
          "text": [
            "                 Open       High        Low  ...     Volume  Dividends  Stock Splits\n",
            "Date                                         ...                                    \n",
            "2016-01-31  21.852386  22.440248  21.750950  ...  257666000        0.0             0\n",
            "2016-02-29  22.450753  22.768300  22.402079  ...  140865200        0.0             0\n",
            "2016-03-31  25.431516  25.473238  25.236815  ...  103553600        0.0             0\n",
            "2016-04-30  21.785535  21.954739  21.442493  ...  274126000        0.0             0\n",
            "2016-05-31  23.226409  23.412967  23.044516  ...  169228800        0.0             0\n",
            "2016-06-30  22.023110  22.333260  21.990462  ...  143345600        0.0             0\n",
            "2016-07-31  24.296782  24.380733  24.177851  ...  110934800        0.0             0\n",
            "2016-08-31  24.773056  24.986413  24.768365  ...  118649600        0.0             0\n",
            "2016-09-30  26.367386  26.580745  26.212643  ...  145516400        0.0             0\n",
            "2016-10-31  26.646396  26.782384  26.540888  ...  105677600        0.0             0\n",
            "2016-11-30  26.300092  26.441490  25.986658  ...  144649200        0.0             0\n",
            "2016-12-31  27.490193  27.619807  27.202683  ...  122345200        0.0             0\n",
            "\n",
            "[12 rows x 7 columns]\n"
          ]
        }
      ]
    },
    {
      "cell_type": "code",
      "metadata": {
        "colab": {
          "base_uri": "https://localhost:8080/"
        },
        "id": "cxQjKfrUvSFS",
        "outputId": "b8ff93c4-0cd6-4fbf-a8f2-9aefb762a100"
      },
      "source": [
        "aapl1_2017 = df['2017']\n",
        "aapl_month1 = aapl1_2017.resample('2M').agg(lambda x: x[1])\n",
        "print(aapl_month1)"
      ],
      "execution_count": null,
      "outputs": [
        {
          "output_type": "stream",
          "name": "stdout",
          "text": [
            "                 Open       High        Low  ...     Volume  Dividends  Stock Splits\n",
            "Date                                         ...                                    \n",
            "2017-01-31  27.301664  27.457203  27.278098  ...   84472400        0.0             0\n",
            "2017-03-31  30.160267  30.492552  30.113133  ...  134841600        0.0             0\n",
            "2017-05-31  33.905217  34.293381  33.886282  ...   79565600        0.0             0\n",
            "2017-07-31  36.500217  36.944645  36.336229  ...  111082800        0.0             0\n",
            "2017-09-30  37.854900  37.966602  37.113394  ...  279747200        0.0             0\n",
            "2017-11-30  36.746147  37.003831  36.722290  ...   64921200        0.0             0\n",
            "2018-01-31  41.300952  41.334475  40.618511  ...  130169600        0.0             0\n",
            "\n",
            "[7 rows x 7 columns]\n"
          ]
        }
      ]
    },
    {
      "cell_type": "code",
      "metadata": {
        "colab": {
          "base_uri": "https://localhost:8080/"
        },
        "id": "dVqdrx9_vlxo",
        "outputId": "9918fab5-33e6-48c6-84c3-a74759a01f35"
      },
      "source": [
        "aapl_bar = aapl_month[['Open', 'High', 'Low', 'Close']]\n",
        "print(aapl_bar)"
      ],
      "execution_count": null,
      "outputs": [
        {
          "output_type": "stream",
          "name": "stdout",
          "text": [
            "                 Open       High        Low      Close\n",
            "Date                                                  \n",
            "2016-01-31  21.852386  22.440248  21.750950  22.440248\n",
            "2016-02-29  22.450753  22.768300  22.402079  22.411350\n",
            "2016-03-31  25.431516  25.473238  25.236815  25.262312\n",
            "2016-04-30  21.785535  21.954739  21.442493  21.727589\n",
            "2016-05-31  23.226409  23.412967  23.044516  23.287041\n",
            "2016-06-30  22.023110  22.333260  21.990462  22.293617\n",
            "2016-07-31  24.296782  24.380733  24.177851  24.301445\n",
            "2016-08-31  24.773056  24.986413  24.768365  24.876217\n",
            "2016-09-30  26.367386  26.580745  26.212643  26.505718\n",
            "2016-10-31  26.646396  26.782384  26.540888  26.620605\n",
            "2016-11-30  26.300092  26.441490  25.986658  26.045574\n",
            "2016-12-31  27.490193  27.619807  27.202683  27.294592\n"
          ]
        }
      ]
    },
    {
      "cell_type": "code",
      "metadata": {
        "colab": {
          "base_uri": "https://localhost:8080/"
        },
        "id": "57gpvcnZwLPl",
        "outputId": "222a9cd0-38a5-44c2-91d9-7ea6a0a248fb"
      },
      "source": [
        "aapl_bar1 = aapl_month1[['Open', 'High', 'Low', 'Close', 'Volume', 'Dividends']]\n",
        "print(aapl_bar1)"
      ],
      "execution_count": null,
      "outputs": [
        {
          "output_type": "stream",
          "name": "stdout",
          "text": [
            "                 Open       High        Low      Close     Volume  Dividends\n",
            "Date                                                                        \n",
            "2017-01-31  27.301664  27.457203  27.278098  27.341726   84472400        0.0\n",
            "2017-03-31  30.160267  30.492552  30.113133  30.289881  134841600        0.0\n",
            "2017-05-31  33.905217  34.293381  33.886282  34.264980   79565600        0.0\n",
            "2017-07-31  36.500217  36.944645  36.336229  36.944645  111082800        0.0\n",
            "2017-09-30  37.854900  37.966602  37.113394  37.346302  279747200        0.0\n",
            "2017-11-30  36.746147  37.003831  36.722290  36.858288   64921200        0.0\n",
            "2018-01-31  41.300952  41.334475  40.618511  40.659218  130169600        0.0\n"
          ]
        }
      ]
    },
    {
      "cell_type": "code",
      "metadata": {
        "colab": {
          "base_uri": "https://localhost:8080/"
        },
        "id": "hwj76nPywSk1",
        "outputId": "d3bb5e2d-00b3-4bb3-ef03-ba0d5f3083c0"
      },
      "source": [
        "print(aapl_month.loc['2016-03':'2016-06',['Open', 'High', 'Low', 'Close']])"
      ],
      "execution_count": null,
      "outputs": [
        {
          "output_type": "stream",
          "name": "stdout",
          "text": [
            "                 Open       High        Low      Close\n",
            "Date                                                  \n",
            "2016-03-31  25.431516  25.473238  25.236815  25.262312\n",
            "2016-04-30  21.785535  21.954739  21.442493  21.727589\n",
            "2016-05-31  23.226409  23.412967  23.044516  23.287041\n",
            "2016-06-30  22.023110  22.333260  21.990462  22.293617\n"
          ]
        }
      ]
    },
    {
      "cell_type": "code",
      "metadata": {
        "colab": {
          "base_uri": "https://localhost:8080/"
        },
        "id": "itElbYofw7q_",
        "outputId": "96c90bec-e2d3-4483-8853-df45b349ef35"
      },
      "source": [
        "print(aapl_month1.loc['2017-01':'2017-06',['Open', 'High', 'Low', 'Close','Volume', 'Dividends']])"
      ],
      "execution_count": null,
      "outputs": [
        {
          "output_type": "stream",
          "name": "stdout",
          "text": [
            "                 Open       High        Low      Close     Volume  Dividends\n",
            "Date                                                                        \n",
            "2017-01-31  27.301664  27.457203  27.278098  27.341726   84472400        0.0\n",
            "2017-03-31  30.160267  30.492552  30.113133  30.289881  134841600        0.0\n",
            "2017-05-31  33.905217  34.293381  33.886282  34.264980   79565600        0.0\n"
          ]
        }
      ]
    },
    {
      "cell_type": "code",
      "metadata": {
        "colab": {
          "base_uri": "https://localhost:8080/"
        },
        "id": "gfflytqbxiqK",
        "outputId": "8e2394ff-cd68-40c3-f692-76e18b7773ca"
      },
      "source": [
        "import numpy as np\n",
        "\n",
        "above = aapl_bar[aapl_bar.Close > np.mean(aapl_bar.Close)]\n",
        "print(above)"
      ],
      "execution_count": null,
      "outputs": [
        {
          "output_type": "stream",
          "name": "stdout",
          "text": [
            "                 Open       High        Low      Close  rate_return\n",
            "Date                                                               \n",
            "2016-03-31  25.431516  25.473238  25.236815  25.262312     0.127211\n",
            "2016-08-31  24.773056  24.986413  24.768365  24.876217     0.023652\n",
            "2016-09-30  26.367386  26.580745  26.212643  26.505718     0.065504\n",
            "2016-10-31  26.646396  26.782384  26.540888  26.620605     0.004334\n",
            "2016-11-30  26.300092  26.441490  25.986658  26.045574    -0.021601\n",
            "2016-12-31  27.490193  27.619807  27.202683  27.294592     0.047955\n"
          ]
        }
      ]
    },
    {
      "cell_type": "code",
      "metadata": {
        "colab": {
          "base_uri": "https://localhost:8080/"
        },
        "id": "c-1Wl0WExFj2",
        "outputId": "eebd6651-bdbc-4b53-96ef-d5950d659807"
      },
      "source": [
        "aapl_bar['rate_return'] = aapl_bar.Close.pct_change()\n",
        "print(aapl_bar)"
      ],
      "execution_count": null,
      "outputs": [
        {
          "output_type": "stream",
          "name": "stdout",
          "text": [
            "                 Open       High        Low      Close  rate_return\n",
            "Date                                                               \n",
            "2016-01-31  21.852386  22.440248  21.750950  22.440248          NaN\n",
            "2016-02-29  22.450753  22.768300  22.402079  22.411350    -0.001288\n",
            "2016-03-31  25.431516  25.473238  25.236815  25.262312     0.127211\n",
            "2016-04-30  21.785535  21.954739  21.442493  21.727589    -0.139921\n",
            "2016-05-31  23.226409  23.412967  23.044516  23.287041     0.071773\n",
            "2016-06-30  22.023110  22.333260  21.990462  22.293617    -0.042660\n",
            "2016-07-31  24.296782  24.380733  24.177851  24.301445     0.090063\n",
            "2016-08-31  24.773056  24.986413  24.768365  24.876217     0.023652\n",
            "2016-09-30  26.367386  26.580745  26.212643  26.505718     0.065504\n",
            "2016-10-31  26.646396  26.782384  26.540888  26.620605     0.004334\n",
            "2016-11-30  26.300092  26.441490  25.986658  26.045574    -0.021601\n",
            "2016-12-31  27.490193  27.619807  27.202683  27.294592     0.047955\n"
          ]
        },
        {
          "output_type": "stream",
          "name": "stderr",
          "text": [
            "/usr/local/lib/python3.7/dist-packages/ipykernel_launcher.py:1: SettingWithCopyWarning: \n",
            "A value is trying to be set on a copy of a slice from a DataFrame.\n",
            "Try using .loc[row_indexer,col_indexer] = value instead\n",
            "\n",
            "See the caveats in the documentation: https://pandas.pydata.org/pandas-docs/stable/user_guide/indexing.html#returning-a-view-versus-a-copy\n",
            "  \"\"\"Entry point for launching an IPython kernel.\n"
          ]
        }
      ]
    },
    {
      "cell_type": "code",
      "metadata": {
        "colab": {
          "base_uri": "https://localhost:8080/"
        },
        "id": "CnACwVD6xRL_",
        "outputId": "79c47795-3a07-4490-a2c5-1590643b7542"
      },
      "source": [
        "aapl_bar1['rate_return'] = aapl_bar1.Close.pct_change()\n",
        "print(aapl_bar1)"
      ],
      "execution_count": null,
      "outputs": [
        {
          "output_type": "stream",
          "name": "stdout",
          "text": [
            "                 Open       High        Low  ...     Volume  Dividends  rate_return\n",
            "Date                                         ...                                   \n",
            "2017-01-31  27.301664  27.457203  27.278098  ...   84472400        0.0          NaN\n",
            "2017-03-31  30.160267  30.492552  30.113133  ...  134841600        0.0     0.107826\n",
            "2017-05-31  33.905217  34.293381  33.886282  ...   79565600        0.0     0.131235\n",
            "2017-07-31  36.500217  36.944645  36.336229  ...  111082800        0.0     0.078204\n",
            "2017-09-30  37.854900  37.966602  37.113394  ...  279747200        0.0     0.010872\n",
            "2017-11-30  36.746147  37.003831  36.722290  ...   64921200        0.0    -0.013067\n",
            "2018-01-31  41.300952  41.334475  40.618511  ...  130169600        0.0     0.103123\n",
            "\n",
            "[7 rows x 7 columns]\n"
          ]
        }
      ]
    },
    {
      "cell_type": "code",
      "metadata": {
        "colab": {
          "base_uri": "https://localhost:8080/"
        },
        "id": "ShOiFd4-xZAd",
        "outputId": "af854f10-de97-4666-fbac-c6319f4f7213"
      },
      "source": [
        "missing = aapl_bar.isnull()\n",
        "print(missing)\n",
        "print('---------------------------------------------')\n",
        "print(missing.describe())"
      ],
      "execution_count": null,
      "outputs": [
        {
          "output_type": "stream",
          "name": "stdout",
          "text": [
            "             Open   High    Low  Close  rate_return\n",
            "Date                                               \n",
            "2016-01-31  False  False  False  False         True\n",
            "2016-02-29  False  False  False  False        False\n",
            "2016-03-31  False  False  False  False        False\n",
            "2016-04-30  False  False  False  False        False\n",
            "2016-05-31  False  False  False  False        False\n",
            "2016-06-30  False  False  False  False        False\n",
            "2016-07-31  False  False  False  False        False\n",
            "2016-08-31  False  False  False  False        False\n",
            "2016-09-30  False  False  False  False        False\n",
            "2016-10-31  False  False  False  False        False\n",
            "2016-11-30  False  False  False  False        False\n",
            "2016-12-31  False  False  False  False        False\n",
            "---------------------------------------------\n",
            "         Open   High    Low  Close rate_return\n",
            "count      12     12     12     12          12\n",
            "unique      1      1      1      1           2\n",
            "top     False  False  False  False       False\n",
            "freq       12     12     12     12          11\n"
          ]
        }
      ]
    },
    {
      "cell_type": "code",
      "metadata": {
        "colab": {
          "base_uri": "https://localhost:8080/"
        },
        "id": "FqzQ9BwbxtNn",
        "outputId": "542bd334-2e98-48d6-d305-b6cae7be827e"
      },
      "source": [
        "missing1 = aapl_bar1.isnull()\n",
        "print(missing1)\n",
        "print('---------------------------------------------')\n",
        "print(missing1.describe())"
      ],
      "execution_count": null,
      "outputs": [
        {
          "output_type": "stream",
          "name": "stdout",
          "text": [
            "             Open   High    Low  Close  Volume  Dividends  rate_return\n",
            "Date                                                                  \n",
            "2017-01-31  False  False  False  False   False      False         True\n",
            "2017-03-31  False  False  False  False   False      False        False\n",
            "2017-05-31  False  False  False  False   False      False        False\n",
            "2017-07-31  False  False  False  False   False      False        False\n",
            "2017-09-30  False  False  False  False   False      False        False\n",
            "2017-11-30  False  False  False  False   False      False        False\n",
            "2018-01-31  False  False  False  False   False      False        False\n",
            "---------------------------------------------\n",
            "         Open   High    Low  Close Volume Dividends rate_return\n",
            "count       7      7      7      7      7         7           7\n",
            "unique      1      1      1      1      1         1           2\n",
            "top     False  False  False  False  False     False       False\n",
            "freq        7      7      7      7      7         7           6\n"
          ]
        }
      ]
    },
    {
      "cell_type": "code",
      "metadata": {
        "colab": {
          "base_uri": "https://localhost:8080/"
        },
        "id": "JFfy8H_6yMDP",
        "outputId": "c7657098-7663-492c-b74e-68cf3902225e"
      },
      "source": [
        "print(missing[missing.rate_return == True])"
      ],
      "execution_count": null,
      "outputs": [
        {
          "output_type": "stream",
          "name": "stdout",
          "text": [
            "             Open   High    Low  Close  rate_return\n",
            "Date                                               \n",
            "2016-01-31  False  False  False  False         True\n"
          ]
        }
      ]
    },
    {
      "cell_type": "code",
      "metadata": {
        "colab": {
          "base_uri": "https://localhost:8080/"
        },
        "id": "9ADYXcIOxxzi",
        "outputId": "43175e30-87ba-4471-8e03-5708815e4967"
      },
      "source": [
        "print(missing1[missing1.rate_return == True])"
      ],
      "execution_count": null,
      "outputs": [
        {
          "output_type": "stream",
          "name": "stdout",
          "text": [
            "             Open   High    Low  Close  Volume  Dividends  rate_return\n",
            "Date                                                                  \n",
            "2017-01-31  False  False  False  False   False      False         True\n"
          ]
        }
      ]
    },
    {
      "cell_type": "code",
      "metadata": {
        "colab": {
          "base_uri": "https://localhost:8080/"
        },
        "id": "fsYgYbGAyJvi",
        "outputId": "d460f8da-bd3b-40ea-ce67-d451835b3667"
      },
      "source": [
        "drop = aapl_bar.dropna()\n",
        "print(drop)\n",
        "print('\\n--------------------------------------------------\\n')\n",
        "fill = aapl_bar.fillna(0)\n",
        "print(fill)"
      ],
      "execution_count": null,
      "outputs": [
        {
          "output_type": "stream",
          "name": "stdout",
          "text": [
            "                 Open       High        Low      Close  rate_return\n",
            "Date                                                               \n",
            "2016-02-29  22.450753  22.768300  22.402079  22.411350    -0.001288\n",
            "2016-03-31  25.431516  25.473238  25.236815  25.262312     0.127211\n",
            "2016-04-30  21.785535  21.954739  21.442493  21.727589    -0.139921\n",
            "2016-05-31  23.226409  23.412967  23.044516  23.287041     0.071773\n",
            "2016-06-30  22.023110  22.333260  21.990462  22.293617    -0.042660\n",
            "2016-07-31  24.296782  24.380733  24.177851  24.301445     0.090063\n",
            "2016-08-31  24.773056  24.986413  24.768365  24.876217     0.023652\n",
            "2016-09-30  26.367386  26.580745  26.212643  26.505718     0.065504\n",
            "2016-10-31  26.646396  26.782384  26.540888  26.620605     0.004334\n",
            "2016-11-30  26.300092  26.441490  25.986658  26.045574    -0.021601\n",
            "2016-12-31  27.490193  27.619807  27.202683  27.294592     0.047955\n",
            "\n",
            "--------------------------------------------------\n",
            "\n",
            "                 Open       High        Low      Close  rate_return\n",
            "Date                                                               \n",
            "2016-01-31  21.852386  22.440248  21.750950  22.440248     0.000000\n",
            "2016-02-29  22.450753  22.768300  22.402079  22.411350    -0.001288\n",
            "2016-03-31  25.431516  25.473238  25.236815  25.262312     0.127211\n",
            "2016-04-30  21.785535  21.954739  21.442493  21.727589    -0.139921\n",
            "2016-05-31  23.226409  23.412967  23.044516  23.287041     0.071773\n",
            "2016-06-30  22.023110  22.333260  21.990462  22.293617    -0.042660\n",
            "2016-07-31  24.296782  24.380733  24.177851  24.301445     0.090063\n",
            "2016-08-31  24.773056  24.986413  24.768365  24.876217     0.023652\n",
            "2016-09-30  26.367386  26.580745  26.212643  26.505718     0.065504\n",
            "2016-10-31  26.646396  26.782384  26.540888  26.620605     0.004334\n",
            "2016-11-30  26.300092  26.441490  25.986658  26.045574    -0.021601\n",
            "2016-12-31  27.490193  27.619807  27.202683  27.294592     0.047955\n"
          ]
        }
      ]
    },
    {
      "cell_type": "code",
      "metadata": {
        "colab": {
          "base_uri": "https://localhost:8080/"
        },
        "id": "Bjd1VZEzyU4o",
        "outputId": "493058cf-c6e8-438f-d7dd-ae2864cc8179"
      },
      "source": [
        "drop1 = aapl_bar1.dropna()\n",
        "print(drop1)\n",
        "print('\\n--------------------------------------------------\\n')\n",
        "fill1 = aapl_bar1.fillna(0)\n",
        "print(fill1)"
      ],
      "execution_count": null,
      "outputs": [
        {
          "output_type": "stream",
          "name": "stdout",
          "text": [
            "                 Open       High        Low  ...     Volume  Dividends  rate_return\n",
            "Date                                         ...                                   \n",
            "2017-03-31  30.160267  30.492552  30.113133  ...  134841600        0.0     0.107826\n",
            "2017-05-31  33.905217  34.293381  33.886282  ...   79565600        0.0     0.131235\n",
            "2017-07-31  36.500217  36.944645  36.336229  ...  111082800        0.0     0.078204\n",
            "2017-09-30  37.854900  37.966602  37.113394  ...  279747200        0.0     0.010872\n",
            "2017-11-30  36.746147  37.003831  36.722290  ...   64921200        0.0    -0.013067\n",
            "2018-01-31  41.300952  41.334475  40.618511  ...  130169600        0.0     0.103123\n",
            "\n",
            "[6 rows x 7 columns]\n",
            "\n",
            "--------------------------------------------------\n",
            "\n",
            "                 Open       High        Low  ...     Volume  Dividends  rate_return\n",
            "Date                                         ...                                   \n",
            "2017-01-31  27.301664  27.457203  27.278098  ...   84472400        0.0     0.000000\n",
            "2017-03-31  30.160267  30.492552  30.113133  ...  134841600        0.0     0.107826\n",
            "2017-05-31  33.905217  34.293381  33.886282  ...   79565600        0.0     0.131235\n",
            "2017-07-31  36.500217  36.944645  36.336229  ...  111082800        0.0     0.078204\n",
            "2017-09-30  37.854900  37.966602  37.113394  ...  279747200        0.0     0.010872\n",
            "2017-11-30  36.746147  37.003831  36.722290  ...   64921200        0.0    -0.013067\n",
            "2018-01-31  41.300952  41.334475  40.618511  ...  130169600        0.0     0.103123\n",
            "\n",
            "[7 rows x 7 columns]\n"
          ]
        }
      ]
    },
    {
      "cell_type": "code",
      "metadata": {
        "colab": {
          "base_uri": "https://localhost:8080/"
        },
        "id": "H-DuQ_IKyga0",
        "outputId": "cc3e8982-57d8-492d-b64f-c78da79af1bc"
      },
      "source": [
        "s1 = pd.Series([143.5, 144.09, 142.73, 144.18, 143.77], name = 'AAPL')\n",
        "s2 = pd.Series([898.7, 911.71, 906.69, 918.59, 926.99], name = 'GOOG')\n",
        "data_frame = pd.concat([s1,s2], axis = 1)\n",
        "print(data_frame)"
      ],
      "execution_count": null,
      "outputs": [
        {
          "output_type": "stream",
          "name": "stdout",
          "text": [
            "     AAPL    GOOG\n",
            "0  143.50  898.70\n",
            "1  144.09  911.71\n",
            "2  142.73  906.69\n",
            "3  144.18  918.59\n",
            "4  143.77  926.99\n"
          ]
        }
      ]
    },
    {
      "cell_type": "code",
      "metadata": {
        "colab": {
          "base_uri": "https://localhost:8080/"
        },
        "id": "X7U04Z3WzAks",
        "outputId": "e42433d8-27b5-4f9f-f687-4421be6bf479"
      },
      "source": [
        "s1_1 = pd1.Series([898.7, 911.71, 906.69, 918.59, 926.99], name = 'lolo')\n",
        "s2_1 = pd1.Series([149.36, 322.62, 623.2, 278.65, 592.6 ], name = 'ggez')\n",
        "data_frame1 = pd1.concat([s1_1,s2_1], axis = 1)\n",
        "print(data_frame1)"
      ],
      "execution_count": null,
      "outputs": [
        {
          "output_type": "stream",
          "name": "stdout",
          "text": [
            "     lolo    ggez\n",
            "0  898.70  149.36\n",
            "1  911.71  322.62\n",
            "2  906.69  623.20\n",
            "3  918.59  278.65\n",
            "4  926.99  592.60\n"
          ]
        }
      ]
    },
    {
      "cell_type": "code",
      "metadata": {
        "colab": {
          "base_uri": "https://localhost:8080/"
        },
        "id": "VfQIqNUjzg_l",
        "outputId": "ee15d92e-d8b9-444d-ccdd-6acd75ad72c4"
      },
      "source": [
        "log_price = np.log(aapl_bar.Close)\n",
        "log_price.name = 'log_price'\n",
        "print(log_price)\n",
        "print('\\n---------------------- separate line--------------------\\n')\n",
        "concat = pd.concat([aapl_bar, log_price], axis = 1)\n",
        "print(concat)"
      ],
      "execution_count": null,
      "outputs": [
        {
          "output_type": "stream",
          "name": "stdout",
          "text": [
            "Date\n",
            "2016-01-31    3.110856\n",
            "2016-02-29    3.109568\n",
            "2016-03-31    3.229314\n",
            "2016-04-30    3.078583\n",
            "2016-05-31    3.147897\n",
            "2016-06-30    3.104300\n",
            "2016-07-31    3.190536\n",
            "2016-08-31    3.213912\n",
            "2016-09-30    3.277360\n",
            "2016-10-31    3.281686\n",
            "2016-11-30    3.259848\n",
            "2016-12-31    3.306689\n",
            "Freq: M, Name: log_price, dtype: float64\n",
            "\n",
            "---------------------- separate line--------------------\n",
            "\n",
            "                 Open       High        Low      Close  rate_return  log_price\n",
            "Date                                                                          \n",
            "2016-01-31  21.852386  22.440248  21.750950  22.440248          NaN   3.110856\n",
            "2016-02-29  22.450753  22.768300  22.402079  22.411350    -0.001288   3.109568\n",
            "2016-03-31  25.431516  25.473238  25.236815  25.262312     0.127211   3.229314\n",
            "2016-04-30  21.785535  21.954739  21.442493  21.727589    -0.139921   3.078583\n",
            "2016-05-31  23.226409  23.412967  23.044516  23.287041     0.071773   3.147897\n",
            "2016-06-30  22.023110  22.333260  21.990462  22.293617    -0.042660   3.104300\n",
            "2016-07-31  24.296782  24.380733  24.177851  24.301445     0.090063   3.190536\n",
            "2016-08-31  24.773056  24.986413  24.768365  24.876217     0.023652   3.213912\n",
            "2016-09-30  26.367386  26.580745  26.212643  26.505718     0.065504   3.277360\n",
            "2016-10-31  26.646396  26.782384  26.540888  26.620605     0.004334   3.281686\n",
            "2016-11-30  26.300092  26.441490  25.986658  26.045574    -0.021601   3.259848\n",
            "2016-12-31  27.490193  27.619807  27.202683  27.294592     0.047955   3.306689\n"
          ]
        }
      ]
    },
    {
      "cell_type": "code",
      "metadata": {
        "colab": {
          "base_uri": "https://localhost:8080/"
        },
        "id": "ViDWei-TzngY",
        "outputId": "6f3ddfee-486a-4e65-e621-4c82cb535a5b"
      },
      "source": [
        "log_price1 = np.log(aapl_bar1.Close)\n",
        "log_price1.name = 'log_price1'\n",
        "print(log_price1)\n",
        "print('\\n---------------------- separate line--------------------\\n')\n",
        "concat1 = pd1.concat([aapl_bar1, log_price1], axis = 1)\n",
        "print(concat1)"
      ],
      "execution_count": null,
      "outputs": [
        {
          "output_type": "stream",
          "name": "stdout",
          "text": [
            "Date\n",
            "2017-01-31    3.308414\n",
            "2017-03-31    3.410814\n",
            "2017-05-31    3.534124\n",
            "2017-07-31    3.609421\n",
            "2017-09-30    3.620234\n",
            "2017-11-30    3.607081\n",
            "2018-01-31    3.705226\n",
            "Freq: 2M, Name: log_price1, dtype: float64\n",
            "\n",
            "---------------------- separate line--------------------\n",
            "\n",
            "                 Open       High        Low  ...  Dividends  rate_return  log_price1\n",
            "Date                                         ...                                    \n",
            "2017-01-31  27.301664  27.457203  27.278098  ...        0.0          NaN    3.308414\n",
            "2017-03-31  30.160267  30.492552  30.113133  ...        0.0     0.107826    3.410814\n",
            "2017-05-31  33.905217  34.293381  33.886282  ...        0.0     0.131235    3.534124\n",
            "2017-07-31  36.500217  36.944645  36.336229  ...        0.0     0.078204    3.609421\n",
            "2017-09-30  37.854900  37.966602  37.113394  ...        0.0     0.010872    3.620234\n",
            "2017-11-30  36.746147  37.003831  36.722290  ...        0.0    -0.013067    3.607081\n",
            "2018-01-31  41.300952  41.334475  40.618511  ...        0.0     0.103123    3.705226\n",
            "\n",
            "[7 rows x 8 columns]\n"
          ]
        }
      ]
    },
    {
      "cell_type": "code",
      "metadata": {
        "colab": {
          "base_uri": "https://localhost:8080/"
        },
        "id": "Z_bm6yGZzx3i",
        "outputId": "f272d804-1087-489f-9ac6-a4e76521ce0f"
      },
      "source": [
        "df_volume = aapl_table.loc['2016-10':'2017-04',['Volume', 'Stock Splits']].resample('M').agg(lambda x: x[-1])\n",
        "print(df_volume)\n",
        "print('\\n---------------------- separate line--------------------\\n')\n",
        "df_2017 = aapl_table.loc['2016-10':'2017-04',['Open', 'High', 'Low', 'Close']].resample('M').agg(lambda x: x[-1])\n",
        "print(df_2017)"
      ],
      "execution_count": null,
      "outputs": [
        {
          "output_type": "stream",
          "name": "stdout",
          "text": [
            "               Volume  Stock Splits\n",
            "Date                               \n",
            "2016-10-31  105677600             0\n",
            "2016-11-30  144649200             0\n",
            "2016-12-31  122345200             0\n",
            "2017-01-31  196804000             0\n",
            "2017-02-28   93931600             0\n",
            "2017-03-31   78646800             0\n",
            "2017-04-30   83441600             0\n",
            "\n",
            "---------------------- separate line--------------------\n",
            "\n",
            "                 Open       High        Low      Close\n",
            "Date                                                  \n",
            "2016-10-31  26.646396  26.782384  26.540888  26.620605\n",
            "2016-11-30  26.300092  26.441490  25.986658  26.045574\n",
            "2016-12-31  27.490193  27.619807  27.202683  27.294592\n",
            "2017-01-31  28.550677  28.607236  28.425775  28.597809\n",
            "2017-02-28  32.444870  32.530077  32.354928  32.423569\n",
            "2017-03-31  34.016470  34.146648  33.848422  34.002270\n",
            "2017-04-30  34.104032  34.153737  33.909951  33.999889\n"
          ]
        }
      ]
    },
    {
      "cell_type": "code",
      "metadata": {
        "colab": {
          "base_uri": "https://localhost:8080/"
        },
        "id": "z-1m-MoQz_sf",
        "outputId": "c8a36f18-ee67-4851-d0b8-7b8d246a2502"
      },
      "source": [
        "\n",
        "df_volume1 = aapl_table.loc['2017-01':'2018-01',['Volume', 'Stock Splits']].resample('M').agg(lambda x: x[-1])\n",
        "print(df_volume1)\n",
        "print('\\n---------------------- separate line--------------------\\n')\n",
        "df_2017 = aapl_table.loc['2016-10':'2017-04',['Open', 'High', 'Low', 'Close']].resample('M').agg(lambda x: x[-1])\n",
        "print(df_2017)"
      ],
      "execution_count": null,
      "outputs": [
        {
          "output_type": "stream",
          "name": "stdout",
          "text": [
            "               Volume  Stock Splits\n",
            "Date                               \n",
            "2017-01-31  196804000             0\n",
            "2017-02-28   93931600             0\n",
            "2017-03-31   78646800             0\n",
            "2017-04-30   83441600             0\n",
            "2017-05-31   97804800             0\n",
            "2017-06-30   92096400             0\n",
            "2017-07-31   79383600             0\n",
            "2017-08-31  107140400             0\n",
            "2017-09-30  105199200             0\n",
            "2017-10-31  144187200             0\n",
            "2017-11-30  166108800             0\n",
            "2017-12-31  103999600             0\n",
            "\n",
            "---------------------- separate line--------------------\n",
            "\n",
            "                 Open       High        Low      Close\n",
            "Date                                                  \n",
            "2016-10-31  26.646396  26.782384  26.540888  26.620605\n",
            "2016-11-30  26.300092  26.441490  25.986658  26.045574\n",
            "2016-12-31  27.490193  27.619807  27.202683  27.294592\n",
            "2017-01-31  28.550677  28.607236  28.425775  28.597809\n",
            "2017-02-28  32.444870  32.530077  32.354928  32.423569\n",
            "2017-03-31  34.016470  34.146648  33.848422  34.002270\n",
            "2017-04-30  34.104032  34.153737  33.909951  33.999889\n"
          ]
        }
      ]
    },
    {
      "cell_type": "code",
      "metadata": {
        "colab": {
          "base_uri": "https://localhost:8080/"
        },
        "id": "4_11Mgih00G0",
        "outputId": "e6a10b68-99b1-4846-bd7c-632fbd6bfafc"
      },
      "source": [
        "concat = pd.concat([aapl_bar, df_volume], axis = 1)\n",
        "print(concat)"
      ],
      "execution_count": null,
      "outputs": [
        {
          "output_type": "stream",
          "name": "stdout",
          "text": [
            "                 Open       High  ...       Volume  Stock Splits\n",
            "Date                              ...                           \n",
            "2016-01-31  21.852386  22.440248  ...          NaN           NaN\n",
            "2016-02-29  22.450753  22.768300  ...          NaN           NaN\n",
            "2016-03-31  25.431516  25.473238  ...          NaN           NaN\n",
            "2016-04-30  21.785535  21.954739  ...          NaN           NaN\n",
            "2016-05-31  23.226409  23.412967  ...          NaN           NaN\n",
            "2016-06-30  22.023110  22.333260  ...          NaN           NaN\n",
            "2016-07-31  24.296782  24.380733  ...          NaN           NaN\n",
            "2016-08-31  24.773056  24.986413  ...          NaN           NaN\n",
            "2016-09-30  26.367386  26.580745  ...          NaN           NaN\n",
            "2016-10-31  26.646396  26.782384  ...  105677600.0           0.0\n",
            "2016-11-30  26.300092  26.441490  ...  144649200.0           0.0\n",
            "2016-12-31  27.490193  27.619807  ...  122345200.0           0.0\n",
            "2017-01-31        NaN        NaN  ...  196804000.0           0.0\n",
            "2017-02-28        NaN        NaN  ...   93931600.0           0.0\n",
            "2017-03-31        NaN        NaN  ...   78646800.0           0.0\n",
            "2017-04-30        NaN        NaN  ...   83441600.0           0.0\n",
            "\n",
            "[16 rows x 7 columns]\n"
          ]
        }
      ]
    },
    {
      "cell_type": "code",
      "metadata": {
        "colab": {
          "base_uri": "https://localhost:8080/"
        },
        "id": "I-AyU8-r1DMb",
        "outputId": "0c52dadd-6f8e-44e6-bdda-8075b7187bf7"
      },
      "source": [
        "concat1 = pd1.concat([aapl_bar1, df_volume], axis = 1)\n",
        "print(concat1)"
      ],
      "execution_count": null,
      "outputs": [
        {
          "output_type": "stream",
          "name": "stdout",
          "text": [
            "                 Open       High  ...       Volume  Stock Splits\n",
            "Date                              ...                           \n",
            "2016-10-31        NaN        NaN  ...  105677600.0           0.0\n",
            "2016-11-30        NaN        NaN  ...  144649200.0           0.0\n",
            "2016-12-31        NaN        NaN  ...  122345200.0           0.0\n",
            "2017-01-31  27.301664  27.457203  ...  196804000.0           0.0\n",
            "2017-02-28        NaN        NaN  ...   93931600.0           0.0\n",
            "2017-03-31  30.160267  30.492552  ...   78646800.0           0.0\n",
            "2017-04-30        NaN        NaN  ...   83441600.0           0.0\n",
            "2017-05-31  33.905217  34.293381  ...          NaN           NaN\n",
            "2017-07-31  36.500217  36.944645  ...          NaN           NaN\n",
            "2017-09-30  37.854900  37.966602  ...          NaN           NaN\n",
            "2017-11-30  36.746147  37.003831  ...          NaN           NaN\n",
            "2018-01-31  41.300952  41.334475  ...          NaN           NaN\n",
            "\n",
            "[12 rows x 9 columns]\n"
          ]
        }
      ]
    },
    {
      "cell_type": "code",
      "metadata": {
        "colab": {
          "base_uri": "https://localhost:8080/"
        },
        "id": "sHH-dPMU1Hug",
        "outputId": "b34cfb32-6d53-4646-aabc-1790d36de75c"
      },
      "source": [
        "concat = pd.concat([aapl_bar,df_volume],axis = 1, join = 'inner')\n",
        "print(concat)"
      ],
      "execution_count": null,
      "outputs": [
        {
          "output_type": "stream",
          "name": "stdout",
          "text": [
            "                 Open       High  ...     Volume  Stock Splits\n",
            "Date                              ...                         \n",
            "2016-10-31  26.646396  26.782384  ...  105677600             0\n",
            "2016-11-30  26.300092  26.441490  ...  144649200             0\n",
            "2016-12-31  27.490193  27.619807  ...  122345200             0\n",
            "\n",
            "[3 rows x 7 columns]\n"
          ]
        }
      ]
    },
    {
      "cell_type": "code",
      "metadata": {
        "colab": {
          "base_uri": "https://localhost:8080/"
        },
        "id": "28Q-TOet1Uaw",
        "outputId": "2a817570-0d13-4f44-ab62-953b830c5937"
      },
      "source": [
        "concat1 = pd1.concat([aapl_bar1,df_volume],axis = 1, join = 'inner')\n",
        "print(concat1)"
      ],
      "execution_count": null,
      "outputs": [
        {
          "output_type": "stream",
          "name": "stdout",
          "text": [
            "                 Open       High  ...     Volume  Stock Splits\n",
            "Date                              ...                         \n",
            "2017-01-31  27.301664  27.457203  ...  196804000             0\n",
            "2017-03-31  30.160267  30.492552  ...   78646800             0\n",
            "\n",
            "[2 rows x 9 columns]\n"
          ]
        }
      ]
    },
    {
      "cell_type": "code",
      "metadata": {
        "colab": {
          "base_uri": "https://localhost:8080/"
        },
        "id": "WBKDzAhZ1aAd",
        "outputId": "aa416c43-b2b3-40e5-e7b9-209a0ec852cc"
      },
      "source": [
        "\n",
        "append = aapl_bar.append(df_2017)\n",
        "print(append)"
      ],
      "execution_count": null,
      "outputs": [
        {
          "output_type": "stream",
          "name": "stdout",
          "text": [
            "                 Open       High        Low      Close  rate_return\n",
            "Date                                                               \n",
            "2016-01-31  21.852386  22.440248  21.750950  22.440248          NaN\n",
            "2016-02-29  22.450753  22.768300  22.402079  22.411350    -0.001288\n",
            "2016-03-31  25.431516  25.473238  25.236815  25.262312     0.127211\n",
            "2016-04-30  21.785535  21.954739  21.442493  21.727589    -0.139921\n",
            "2016-05-31  23.226409  23.412967  23.044516  23.287041     0.071773\n",
            "2016-06-30  22.023110  22.333260  21.990462  22.293617    -0.042660\n",
            "2016-07-31  24.296782  24.380733  24.177851  24.301445     0.090063\n",
            "2016-08-31  24.773056  24.986413  24.768365  24.876217     0.023652\n",
            "2016-09-30  26.367386  26.580745  26.212643  26.505718     0.065504\n",
            "2016-10-31  26.646396  26.782384  26.540888  26.620605     0.004334\n",
            "2016-11-30  26.300092  26.441490  25.986658  26.045574    -0.021601\n",
            "2016-12-31  27.490193  27.619807  27.202683  27.294592     0.047955\n",
            "2016-10-31  26.646396  26.782384  26.540888  26.620605          NaN\n",
            "2016-11-30  26.300092  26.441490  25.986658  26.045574          NaN\n",
            "2016-12-31  27.490193  27.619807  27.202683  27.294592          NaN\n",
            "2017-01-31  28.550677  28.607236  28.425775  28.597809          NaN\n",
            "2017-02-28  32.444870  32.530077  32.354928  32.423569          NaN\n",
            "2017-03-31  34.016470  34.146648  33.848422  34.002270          NaN\n",
            "2017-04-30  34.104032  34.153737  33.909951  33.999889          NaN\n"
          ]
        }
      ]
    },
    {
      "cell_type": "code",
      "metadata": {
        "colab": {
          "base_uri": "https://localhost:8080/"
        },
        "id": "rDTDgbID1dA2",
        "outputId": "99ec9fff-6db7-4ca5-e819-865d13f1e5a8"
      },
      "source": [
        "append1 = aapl_bar1.append(df_2017)\n",
        "print(append1)"
      ],
      "execution_count": null,
      "outputs": [
        {
          "output_type": "stream",
          "name": "stdout",
          "text": [
            "                 Open       High  ...  Dividends  rate_return\n",
            "Date                              ...                        \n",
            "2017-01-31  27.301664  27.457203  ...        0.0          NaN\n",
            "2017-03-31  30.160267  30.492552  ...        0.0     0.107826\n",
            "2017-05-31  33.905217  34.293381  ...        0.0     0.131235\n",
            "2017-07-31  36.500217  36.944645  ...        0.0     0.078204\n",
            "2017-09-30  37.854900  37.966602  ...        0.0     0.010872\n",
            "2017-11-30  36.746147  37.003831  ...        0.0    -0.013067\n",
            "2018-01-31  41.300952  41.334475  ...        0.0     0.103123\n",
            "2016-10-31  26.646396  26.782384  ...        NaN          NaN\n",
            "2016-11-30  26.300092  26.441490  ...        NaN          NaN\n",
            "2016-12-31  27.490193  27.619807  ...        NaN          NaN\n",
            "2017-01-31  28.550677  28.607236  ...        NaN          NaN\n",
            "2017-02-28  32.444870  32.530077  ...        NaN          NaN\n",
            "2017-03-31  34.016470  34.146648  ...        NaN          NaN\n",
            "2017-04-30  34.104032  34.153737  ...        NaN          NaN\n",
            "\n",
            "[14 rows x 7 columns]\n"
          ]
        }
      ]
    },
    {
      "cell_type": "code",
      "metadata": {
        "colab": {
          "base_uri": "https://localhost:8080/"
        },
        "id": "74zciN9B1hd4",
        "outputId": "ded01c93-d5ac-4d14-a8bb-ad4a932d98d0"
      },
      "source": [
        "concat = pd.concat([aapl_bar, df_2017], axis = 0)\n",
        "print(concat)"
      ],
      "execution_count": null,
      "outputs": [
        {
          "output_type": "stream",
          "name": "stdout",
          "text": [
            "                 Open       High        Low      Close  rate_return\n",
            "Date                                                               \n",
            "2016-01-31  21.852386  22.440248  21.750950  22.440248          NaN\n",
            "2016-02-29  22.450753  22.768300  22.402079  22.411350    -0.001288\n",
            "2016-03-31  25.431516  25.473238  25.236815  25.262312     0.127211\n",
            "2016-04-30  21.785535  21.954739  21.442493  21.727589    -0.139921\n",
            "2016-05-31  23.226409  23.412967  23.044516  23.287041     0.071773\n",
            "2016-06-30  22.023110  22.333260  21.990462  22.293617    -0.042660\n",
            "2016-07-31  24.296782  24.380733  24.177851  24.301445     0.090063\n",
            "2016-08-31  24.773056  24.986413  24.768365  24.876217     0.023652\n",
            "2016-09-30  26.367386  26.580745  26.212643  26.505718     0.065504\n",
            "2016-10-31  26.646396  26.782384  26.540888  26.620605     0.004334\n",
            "2016-11-30  26.300092  26.441490  25.986658  26.045574    -0.021601\n",
            "2016-12-31  27.490193  27.619807  27.202683  27.294592     0.047955\n",
            "2016-10-31  26.646396  26.782384  26.540888  26.620605          NaN\n",
            "2016-11-30  26.300092  26.441490  25.986658  26.045574          NaN\n",
            "2016-12-31  27.490193  27.619807  27.202683  27.294592          NaN\n",
            "2017-01-31  28.550677  28.607236  28.425775  28.597809          NaN\n",
            "2017-02-28  32.444870  32.530077  32.354928  32.423569          NaN\n",
            "2017-03-31  34.016470  34.146648  33.848422  34.002270          NaN\n",
            "2017-04-30  34.104032  34.153737  33.909951  33.999889          NaN\n"
          ]
        }
      ]
    },
    {
      "cell_type": "code",
      "metadata": {
        "colab": {
          "base_uri": "https://localhost:8080/"
        },
        "id": "YXOLTwAI1q9h",
        "outputId": "a49efafd-335c-470c-9eb6-794b25f2a64f"
      },
      "source": [
        "concat1 = pd1.concat([aapl_bar1, df_2017], axis = 0)\n",
        "print(concat1)"
      ],
      "execution_count": null,
      "outputs": [
        {
          "output_type": "stream",
          "name": "stdout",
          "text": [
            "                 Open       High  ...  Dividends  rate_return\n",
            "Date                              ...                        \n",
            "2017-01-31  27.301664  27.457203  ...        0.0          NaN\n",
            "2017-03-31  30.160267  30.492552  ...        0.0     0.107826\n",
            "2017-05-31  33.905217  34.293381  ...        0.0     0.131235\n",
            "2017-07-31  36.500217  36.944645  ...        0.0     0.078204\n",
            "2017-09-30  37.854900  37.966602  ...        0.0     0.010872\n",
            "2017-11-30  36.746147  37.003831  ...        0.0    -0.013067\n",
            "2018-01-31  41.300952  41.334475  ...        0.0     0.103123\n",
            "2016-10-31  26.646396  26.782384  ...        NaN          NaN\n",
            "2016-11-30  26.300092  26.441490  ...        NaN          NaN\n",
            "2016-12-31  27.490193  27.619807  ...        NaN          NaN\n",
            "2017-01-31  28.550677  28.607236  ...        NaN          NaN\n",
            "2017-02-28  32.444870  32.530077  ...        NaN          NaN\n",
            "2017-03-31  34.016470  34.146648  ...        NaN          NaN\n",
            "2017-04-30  34.104032  34.153737  ...        NaN          NaN\n",
            "\n",
            "[14 rows x 7 columns]\n"
          ]
        }
      ]
    },
    {
      "cell_type": "code",
      "metadata": {
        "colab": {
          "base_uri": "https://localhost:8080/"
        },
        "id": "owvr4x0k1wfF",
        "outputId": "9de6eeb1-e9cf-4f36-bddb-7e6d7d32291c"
      },
      "source": [
        "df_2017.columns = ['Change', 'High','Low','Close']\n",
        "concat = pd.concat([aapl_bar, df_2017], axis = 0)\n",
        "print(concat)"
      ],
      "execution_count": null,
      "outputs": [
        {
          "output_type": "stream",
          "name": "stdout",
          "text": [
            "                 Open       High        Low      Close  rate_return     Change\n",
            "Date                                                                          \n",
            "2016-01-31  21.852386  22.440248  21.750950  22.440248          NaN        NaN\n",
            "2016-02-29  22.450753  22.768300  22.402079  22.411350    -0.001288        NaN\n",
            "2016-03-31  25.431516  25.473238  25.236815  25.262312     0.127211        NaN\n",
            "2016-04-30  21.785535  21.954739  21.442493  21.727589    -0.139921        NaN\n",
            "2016-05-31  23.226409  23.412967  23.044516  23.287041     0.071773        NaN\n",
            "2016-06-30  22.023110  22.333260  21.990462  22.293617    -0.042660        NaN\n",
            "2016-07-31  24.296782  24.380733  24.177851  24.301445     0.090063        NaN\n",
            "2016-08-31  24.773056  24.986413  24.768365  24.876217     0.023652        NaN\n",
            "2016-09-30  26.367386  26.580745  26.212643  26.505718     0.065504        NaN\n",
            "2016-10-31  26.646396  26.782384  26.540888  26.620605     0.004334        NaN\n",
            "2016-11-30  26.300092  26.441490  25.986658  26.045574    -0.021601        NaN\n",
            "2016-12-31  27.490193  27.619807  27.202683  27.294592     0.047955        NaN\n",
            "2016-10-31        NaN  26.782384  26.540888  26.620605          NaN  26.646396\n",
            "2016-11-30        NaN  26.441490  25.986658  26.045574          NaN  26.300092\n",
            "2016-12-31        NaN  27.619807  27.202683  27.294592          NaN  27.490193\n",
            "2017-01-31        NaN  28.607236  28.425775  28.597809          NaN  28.550677\n",
            "2017-02-28        NaN  32.530077  32.354928  32.423569          NaN  32.444870\n",
            "2017-03-31        NaN  34.146648  33.848422  34.002270          NaN  34.016470\n",
            "2017-04-30        NaN  34.153737  33.909951  33.999889          NaN  34.104032\n"
          ]
        }
      ]
    },
    {
      "cell_type": "code",
      "metadata": {
        "colab": {
          "base_uri": "https://localhost:8080/"
        },
        "id": "ZlJ2k22314-x",
        "outputId": "230889fb-f1e5-40bd-864d-599faa464dc5"
      },
      "source": [
        "df_2017.columns = ['Change', 'High','Low','Close']\n",
        "concat1 = pd1.concat([aapl_bar1, df_2017], axis = 0)\n",
        "print(concat1)"
      ],
      "execution_count": null,
      "outputs": [
        {
          "output_type": "stream",
          "name": "stdout",
          "text": [
            "                 Open       High        Low  ...  Dividends  rate_return     Change\n",
            "Date                                         ...                                   \n",
            "2017-01-31  27.301664  27.457203  27.278098  ...        0.0          NaN        NaN\n",
            "2017-03-31  30.160267  30.492552  30.113133  ...        0.0     0.107826        NaN\n",
            "2017-05-31  33.905217  34.293381  33.886282  ...        0.0     0.131235        NaN\n",
            "2017-07-31  36.500217  36.944645  36.336229  ...        0.0     0.078204        NaN\n",
            "2017-09-30  37.854900  37.966602  37.113394  ...        0.0     0.010872        NaN\n",
            "2017-11-30  36.746147  37.003831  36.722290  ...        0.0    -0.013067        NaN\n",
            "2018-01-31  41.300952  41.334475  40.618511  ...        0.0     0.103123        NaN\n",
            "2016-10-31        NaN  26.782384  26.540888  ...        NaN          NaN  26.646396\n",
            "2016-11-30        NaN  26.441490  25.986658  ...        NaN          NaN  26.300092\n",
            "2016-12-31        NaN  27.619807  27.202683  ...        NaN          NaN  27.490193\n",
            "2017-01-31        NaN  28.607236  28.425775  ...        NaN          NaN  28.550677\n",
            "2017-02-28        NaN  32.530077  32.354928  ...        NaN          NaN  32.444870\n",
            "2017-03-31        NaN  34.146648  33.848422  ...        NaN          NaN  34.016470\n",
            "2017-04-30        NaN  34.153737  33.909951  ...        NaN          NaN  34.104032\n",
            "\n",
            "[14 rows x 8 columns]\n"
          ]
        }
      ]
    },
    {
      "cell_type": "code",
      "metadata": {
        "id": "YdhxD36K1-tv"
      },
      "source": [
        ""
      ],
      "execution_count": null,
      "outputs": []
    }
  ]
}
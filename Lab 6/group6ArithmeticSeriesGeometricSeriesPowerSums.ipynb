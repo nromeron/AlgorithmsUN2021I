{
  "nbformat": 4,
  "nbformat_minor": 0,
  "metadata": {
    "colab": {
      "name": "group6ArithmeticSeriesGeometricSeriesPowerSums.ipynb",
      "provenance": [],
      "collapsed_sections": []
    },
    "kernelspec": {
      "name": "python3",
      "display_name": "Python 3"
    }
  },
  "cells": [
    {
      "cell_type": "markdown",
      "metadata": {
        "id": "r4rXWI4gCN5B"
      },
      "source": [
        "# Arithmetic Series\n",
        "\n",
        "## Modified from Arithmetic Series -  [Wolfram MathWorld](https://mathworld.wolfram.com/ArithmeticSeries.html) - [wikipedia](https://en.wikipedia.org/wiki/Arithmetic_progression)\n",
        "\n",
        "\n",
        "An arithmetic sequence $\\{a_k\\}$ for $k=1, 2, ..., $ in which each term is computed from the previous one by adding (or subtracting) a constant $d$. \n",
        "\n",
        "\\begin{align*}\n",
        "a_1 & \\\\\n",
        "a_2 &\\ \\ =\\ \\ a_1 + d  \\\\\n",
        "a_3 &\\ \\ =\\ \\ a_2 + d \\ \\ =\\ \\ a_1 + 2d   \\\\\n",
        "a_4 &\\ \\ =\\ \\ a_3 + d \\ \\ =\\ \\ a_2 + 2d \\ \\ =\\ \\ a_1 + 3d  \\\\\n",
        "\\vdots\\\\\n",
        "a_k &\\ \\ =\\ \\ a_{(k-1)}+d \\ =\\  a_{(k-2)}+2d \\ =\\  \\ldots \\ =\\  \\ a_1+(k-1)d\n",
        "\\end{align*}\n",
        "\n",
        "Therefore, for $k>=1$,\n",
        "\n",
        "$$ a_k = a_1 + (k-1)d$$\n",
        "\n",
        "With $a_1$ and $d$ given.\n",
        "\n",
        "<br /> \n",
        "\n",
        "The sequence of the partial sum of the first $n$ terms of a sequence is called a series, in the case of an arithemetic sequence the series is called an arithmetic series.\n",
        "\n",
        "If  $a_1= 1$ and $d=1$ we have, the simplest arithmnetic sequence,  the natural numbers sequence $\\{a_k = k \\}$ for  $k=1, 2, ..., $  i.e. the seuqnece\n",
        "$$1, 2, ...,$$\n",
        "The  corresponding series is \n",
        "$$ \n",
        "S_n = 1 + 2+ \\ldots + (n-1)+ n = \\sum_{k=1}^n k\n",
        "$$\n",
        "can be calculated as a function of $n$.\n",
        "\n",
        "Assume that we allign one $S_{n-1}$ with a second  $S_{n-1}$ that have the terms adden reverse order and you add term to term, we have\n",
        "\\begin{array}{llclclclclc}\n",
        "  S_{n-1} &=& 1 &+& 2 &+& \\ldots &+& (n-2) &+& (n-1) \\\\\n",
        "  S_{n-1} &=& (n-1)  &+& (n-2)  &+& \\ldots   &+& 2   &+& 1 \\\\\n",
        "   \\hline \\\\\n",
        "   2S_{n-1} &=& n  &+& n  &+& \\ldots   &+& n   &+& n \\\\\n",
        "\\end{array}\n",
        "so\n",
        "$$  2S_{n-1} = (n-1)n $$\n",
        "then\n",
        "$$  S_{n-1} = \\frac{1}{2} (n-1)n$$\n",
        "therefore \n",
        "$$  S_{n} = \\frac{1}{2} n(n+1)$$\n",
        "\n",
        "\n",
        "\\begin{align*}\n",
        "S_n &= \\sum_{k=1}^n a_k\t\\\\\n",
        "    &= \\sum_{k=1}^n[a_1+(k-1)d]\t\t\\\\\n",
        "    &= na_1 + d \\sum_{k=1}^n(k-1)\t\\\\\n",
        "    &= na_1 + d \\sum_{k=0}^{n-1} k\t\\\\\n",
        "    &= na_1 + d \\sum_{k=1}^{n-1} k\t\\\\\n",
        "    &= na_1 +  \\frac{1}{2} d(n-1)n\\\\\n",
        "\\end{align*}\n",
        "so \n",
        "$$ S_n =  \\frac{1}{2} n[2 a_1 +d(n-1)].$$\n",
        "\n",
        "Note, however, that\n",
        "$$a_1+a_n=a_1+[a_1+d(n-1)]=2a_1+d(n-1),$$ \t\n",
        "so\n",
        "$$S_n = \\frac{1}{2}n(a_1+a_n),$$\n",
        "\n",
        "\n",
        "or $n$ times the arithmetic mean of the first and last terms! This is the trick Gauss used as a schoolboy to solve the problem of summing the integers from $1$ to $100$ given as busy-work by his teacher. While his classmates toiled away doing the addition longhand, Gauss wrote a single number, the correct answer\n",
        "\n",
        "$$\\frac{1}{2}(100)(1+100)=50·101=5050$$ \t\n",
        "on his slate (Burton 1989, pp. 80-81; Hoffman 1998, p. 207). When the answers were examined, Gauss's proved to be the only correct one.\n",
        "\n",
        "<br /> \n",
        "\n",
        "If  the sequence starts at index $0$, $\\{a_k\\}$ for $ k=0, 1, 2, ..., $ we have\n",
        "\n",
        "\\begin{align*}\n",
        "a_0 & \\\\\n",
        "a_1 &\\ \\ =\\ \\ a_0 + d  \\\\\n",
        "a_2 &\\ \\ =\\ \\ a_1 + d \\ \\ =\\ \\ a_0 + 2d   \\\\\n",
        "a_3 &\\ \\ =\\ \\ a_2 + d \\ \\ =\\ \\ a_1 + 2d \\ \\ =\\ \\ a_0 + 3d  \\\\\n",
        "\\vdots\\\\\n",
        "a_k &\\ \\ =\\ \\ a_{(k-1)}+d \\ =\\  a_{(k-2)}+2d \\ =\\  \\ldots \\ = \\  \\ a_1+(k-1)d \\ \\ =\\ \\ a_0+kd\n",
        "\\end{align*}\n",
        "\n",
        "<br /> \n",
        "for given   $a_0$ and $d$.\n",
        "\n",
        "In this case the sum of the terms between $0$ and $n$ of  the arithemnetic sequence  is then given by\n",
        "\\begin{align*}\n",
        "S_n &= \\sum_{k=0}^{n} a_k\t\\\\\n",
        "    &= \\sum_{k=0}^{n}[a_0+kd]\t\t\\\\\n",
        "    &= (n+1) a_0 + d \\sum_{k=0}^{n} k\t\\\\\n",
        "    &= (n+1) a_0 + d \\sum_{k=1}^{} k\t\\\\\n",
        "    &=(n+1) a_0+  \\frac{1}{2} dn(n+1) \\\\\n",
        "\\end{align*}\n",
        "so \n",
        "$$ S_n =  \\frac{1}{2} (n+1)[2 a_0 + dn].$$\n",
        "<br /> \n",
        "$$ S_n =  \\frac{1}{2} (n+1)[a_0+ a_n].$$\n",
        "\n",
        "\n"
      ]
    },
    {
      "cell_type": "markdown",
      "metadata": {
        "id": "GfBh-QHRcods"
      },
      "source": [
        "### Code\n",
        "####  The simplest arithmetic sequence and series\n",
        "\n",
        "The simplest arithmnetic sequence is \n",
        "\n",
        "\n",
        "$$a_n = 1, 2, ...,$$"
      ]
    },
    {
      "cell_type": "markdown",
      "metadata": {
        "id": "n36eWqEXiktl"
      },
      "source": [
        "The following code plots the first $n = 15$ terms of the simplest arithmnetic sequence \n",
        "$$\\{a_n = n\\} \\text{ for } n =1,2,\\ldots  $$\n",
        "i.e\n",
        "$$\\{a_n = n\\} =1,2,\\ldots $$\n",
        "adn the corresponding terms of the simplest arithmnetic series \n",
        "$$  S_n = 1 + 2+ \\ldots + (n-1)+ n = \\sum_{k=1}^n k=  \\frac{1}{2} n(n+1)$$\n"
      ]
    },
    {
      "cell_type": "markdown",
      "metadata": {
        "id": "_VyGiunIZknK"
      },
      "source": [
        "Plot"
      ]
    },
    {
      "cell_type": "code",
      "metadata": {
        "colab": {
          "base_uri": "https://localhost:8080/",
          "height": 282
        },
        "id": "gx3Q4uo-ONCi",
        "outputId": "cf831322-98f2-43d9-d784-4f3198de4843"
      },
      "source": [
        "import matplotlib.pyplot as plt\n",
        "\n",
        "n = 15\n",
        "S_n = 0\n",
        "Serie_S_n=[]\n",
        "Sequence_a_n =[]\n",
        "for i in range(1,n+1):\n",
        "  S_n = S_n + i\n",
        "  Serie_S_n.append(S_n)\n",
        "  Sequence_a_n.append(i)\n",
        " \n",
        "\n",
        "plt.plot(Serie_S_n, color='black',label='Serie_S_n')\n",
        "plt.plot(Sequence_a_n, color='red',label='Sequence_a_n')\n",
        "plt.legend()\n",
        "\n",
        "\n"
      ],
      "execution_count": 1,
      "outputs": [
        {
          "output_type": "execute_result",
          "data": {
            "text/plain": [
              "<matplotlib.legend.Legend at 0x7fd0ea242150>"
            ]
          },
          "metadata": {},
          "execution_count": 1
        },
        {
          "output_type": "display_data",
          "data": {
            "image/png": "[encoded data removed]",
            "text/plain": [
              "<Figure size 432x288 with 1 Axes>"
            ]
          },
          "metadata": {
            "needs_background": "light"
          }
        }
      ]
    },
    {
      "cell_type": "code",
      "metadata": {
        "colab": {
          "base_uri": "https://localhost:8080/"
        },
        "id": "o2es6b4cysQk",
        "outputId": "bd58cd15-df5c-4142-e42b-4a0590eff054"
      },
      "source": [
        "Sequence_a_n"
      ],
      "execution_count": 2,
      "outputs": [
        {
          "output_type": "execute_result",
          "data": {
            "text/plain": [
              "[1, 2, 3, 4, 5, 6, 7, 8, 9, 10, 11, 12, 13, 14, 15]"
            ]
          },
          "metadata": {},
          "execution_count": 2
        }
      ]
    },
    {
      "cell_type": "code",
      "metadata": {
        "colab": {
          "base_uri": "https://localhost:8080/"
        },
        "id": "T2VeBOBZ0ibg",
        "outputId": "0eba0303-d1e2-415e-9101-55918a363fe2"
      },
      "source": [
        "Serie_S_n"
      ],
      "execution_count": 3,
      "outputs": [
        {
          "output_type": "execute_result",
          "data": {
            "text/plain": [
              "[1, 3, 6, 10, 15, 21, 28, 36, 45, 55, 66, 78, 91, 105, 120]"
            ]
          },
          "metadata": {},
          "execution_count": 3
        }
      ]
    },
    {
      "cell_type": "markdown",
      "metadata": {
        "id": "0ybfJdHxZGvW"
      },
      "source": [
        "The following code computes the  $n=10000000$  term of the airthmetic series\n",
        "$$  S_n = 1 + 2+ \\ldots + (n-1)+ n = \\sum_{k=1}^n =  \\frac{1}{2} n(n+1)$$"
      ]
    },
    {
      "cell_type": "code",
      "metadata": {
        "colab": {
          "base_uri": "https://localhost:8080/"
        },
        "id": "99xYHDQycnol",
        "outputId": "8a2d4993-8c4a-4825-ed6e-8c2be42d3339"
      },
      "source": [
        "n = 10000000\n",
        "S_n = 0\n",
        "for i in range(1,n+1):  # range(n+1) goes form 1 to n\n",
        "  S_n = S_n + i \n",
        "print(S_n)"
      ],
      "execution_count": 4,
      "outputs": [
        {
          "output_type": "stream",
          "name": "stdout",
          "text": [
            "50000005000000\n"
          ]
        }
      ]
    },
    {
      "cell_type": "code",
      "metadata": {
        "colab": {
          "base_uri": "https://localhost:8080/"
        },
        "id": "RGCSuDGHeFwH",
        "outputId": "3d168bad-828d-439e-e887-d863c55fe620"
      },
      "source": [
        "(1/2)*n*(n+1)"
      ],
      "execution_count": 5,
      "outputs": [
        {
          "output_type": "execute_result",
          "data": {
            "text/plain": [
              "50000005000000.0"
            ]
          },
          "metadata": {},
          "execution_count": 5
        }
      ]
    },
    {
      "cell_type": "markdown",
      "metadata": {
        "id": "bg8zxAhcecpk"
      },
      "source": [
        "The following code computes the $n=10000000$ term of the airthmetic series \n",
        "$$ S_n  = \\sum_{k=1}^n a_k$$\n",
        "\n",
        "<br /> \n",
        "for the airthmetic sequence $a_k = 10 + 3 (k-1) $ for $k=1,2,\\ldots$\n",
        "\n",
        "<br /> \n",
        "$$ 10,13,16,19,21,\\ldots$$\n"
      ]
    },
    {
      "cell_type": "markdown",
      "metadata": {
        "id": "hg3ixQ3bZiVh"
      },
      "source": [
        "Plot"
      ]
    },
    {
      "cell_type": "code",
      "metadata": {
        "colab": {
          "base_uri": "https://localhost:8080/"
        },
        "id": "w8FP1XqSgnie",
        "outputId": "19b3dbff-f685-464e-e427-9d52473f9f25"
      },
      "source": [
        "n = 10000000\n",
        "a = 10\n",
        "d = 3\n",
        "S_n = 0\n",
        "for i in range(1,n+1):  # range(n+1) goes form 1 to n\n",
        "  a_n = a + d * (i-1) \n",
        "  S_n = S_n + a_n\n",
        "print(S_n)"
      ],
      "execution_count": 6,
      "outputs": [
        {
          "output_type": "stream",
          "name": "stdout",
          "text": [
            "150000085000000\n"
          ]
        }
      ]
    },
    {
      "cell_type": "code",
      "metadata": {
        "colab": {
          "base_uri": "https://localhost:8080/"
        },
        "id": "g_38RfB_hgg2",
        "outputId": "be31a7ff-e986-4064-8802-ddfd2aaa893c"
      },
      "source": [
        "n*(2*a +d*(n-1))/2"
      ],
      "execution_count": 7,
      "outputs": [
        {
          "output_type": "execute_result",
          "data": {
            "text/plain": [
              "150000085000000.0"
            ]
          },
          "metadata": {},
          "execution_count": 7
        }
      ]
    },
    {
      "cell_type": "code",
      "metadata": {
        "colab": {
          "base_uri": "https://localhost:8080/"
        },
        "id": "zS3qb_xE1u58",
        "outputId": "a5d9bc45-0a5b-4933-bda3-eff72073ecde"
      },
      "source": [
        "n*(a +a_n)/2"
      ],
      "execution_count": 8,
      "outputs": [
        {
          "output_type": "execute_result",
          "data": {
            "text/plain": [
              "150000085000000.0"
            ]
          },
          "metadata": {},
          "execution_count": 8
        }
      ]
    },
    {
      "cell_type": "code",
      "metadata": {
        "colab": {
          "base_uri": "https://localhost:8080/",
          "height": 284
        },
        "id": "7qesKez70zub",
        "outputId": "53229bdd-bb7e-41b0-c811-5d29165be60e"
      },
      "source": [
        "import matplotlib.pyplot as plt\n",
        "\n",
        "n = 20\n",
        "a = 10\n",
        "d = 3\n",
        "S_n = 0\n",
        "Serie_S_n=[]\n",
        "Sequence_a_n =[]\n",
        "for i in range(1,n+1):  # range(n+1) goes form 1 to n\n",
        "  a_n = a + d * (i-1) \n",
        "  S_n = S_n + a_n\n",
        "  Serie_S_n.append(S_n)\n",
        "  Sequence_a_n.append(a_n)\n",
        "\n",
        "plt.plot(Serie_S_n, color='black',label='Serie_S_n')\n",
        "plt.plot(Sequence_a_n, color='red',label='Sequence_a_n')\n",
        "plt.legend()"
      ],
      "execution_count": 9,
      "outputs": [
        {
          "output_type": "execute_result",
          "data": {
            "text/plain": [
              "<matplotlib.legend.Legend at 0x7fd0ea220950>"
            ]
          },
          "metadata": {},
          "execution_count": 9
        },
        {
          "output_type": "display_data",
          "data": {
            "image/png": "[encoded data removed]",
            "text/plain": [
              "<Figure size 432x288 with 1 Axes>"
            ]
          },
          "metadata": {
            "needs_background": "light"
          }
        }
      ]
    },
    {
      "cell_type": "markdown",
      "metadata": {
        "id": "r9qzONSlZq2q"
      },
      "source": [
        "## Your own example of arithmetic series "
      ]
    },
    {
      "cell_type": "markdown",
      "metadata": {
        "id": "sXhxKYOJYoWr"
      },
      "source": [
        "### **Ejemplo 1:**"
      ]
    },
    {
      "cell_type": "markdown",
      "metadata": {
        "id": "LTdVmQTPXGs_"
      },
      "source": [
        "The following code computes the $n=50000000$ term of the airthmetic series \n",
        "$$ S_n  = \\sum_{k=1}^n a_k$$\n",
        "\n",
        "<br /> \n",
        "for the airthmetic sequence $a_k = 3 + 4 (k-1) $ for $k=1,2,\\ldots$\n",
        "\n",
        "<br /> \n",
        "$$ 3,7,11,15,19,23,\\ldots$$\n"
      ]
    },
    {
      "cell_type": "code",
      "metadata": {
        "id": "SrJ_dPxS0pwP",
        "colab": {
          "base_uri": "https://localhost:8080/"
        },
        "outputId": "32265019-753f-4edb-dfef-797cb5caa93d"
      },
      "source": [
        "n = 50000000\n",
        "a = 3\n",
        "d = 4\n",
        "S_n = 0\n",
        "for i in range(1,n+1):  # range(n+1) goes form 1 to n\n",
        "  a_n = a + d * (i-1) \n",
        "  S_n = S_n + a_n\n",
        "print(S_n)"
      ],
      "execution_count": 10,
      "outputs": [
        {
          "output_type": "stream",
          "name": "stdout",
          "text": [
            "5000000050000000\n"
          ]
        }
      ]
    },
    {
      "cell_type": "code",
      "metadata": {
        "colab": {
          "base_uri": "https://localhost:8080/"
        },
        "id": "bWn2ijcBYJuT",
        "outputId": "d435f6a2-8289-4a79-e733-c3ed866df0cb"
      },
      "source": [
        "n*(2*a +d*(n-1))/2"
      ],
      "execution_count": 11,
      "outputs": [
        {
          "output_type": "execute_result",
          "data": {
            "text/plain": [
              "5000000050000000.0"
            ]
          },
          "metadata": {},
          "execution_count": 11
        }
      ]
    },
    {
      "cell_type": "code",
      "metadata": {
        "colab": {
          "base_uri": "https://localhost:8080/"
        },
        "id": "-qa8HRDFYNR6",
        "outputId": "d5418c01-965a-4a89-8c69-3eb2869a0a51"
      },
      "source": [
        "n*(a + a_n)/2"
      ],
      "execution_count": 12,
      "outputs": [
        {
          "output_type": "execute_result",
          "data": {
            "text/plain": [
              "5000000050000000.0"
            ]
          },
          "metadata": {},
          "execution_count": 12
        }
      ]
    },
    {
      "cell_type": "code",
      "metadata": {
        "colab": {
          "base_uri": "https://localhost:8080/",
          "height": 282
        },
        "id": "r_bY1Ad0YSrT",
        "outputId": "995ffb0c-0b89-4a01-b5e7-46a79b09aac1"
      },
      "source": [
        "import matplotlib.pyplot as plt\n",
        "\n",
        "n = 50\n",
        "a = 3\n",
        "d = 4\n",
        "S_n = 0\n",
        "Serie_S_n=[]\n",
        "Sequence_a_n =[]\n",
        "for i in range(1,n+1):  # range(n+1) goes form 1 to n\n",
        "  a_n = a + d * (i-1) \n",
        "  S_n = S_n + a_n\n",
        "  Serie_S_n.append(S_n)\n",
        "  Sequence_a_n.append(a_n)\n",
        "\n",
        "plt.plot(Serie_S_n, color='black',label='Serie_S_n')\n",
        "plt.plot(Sequence_a_n, color='red',label='Sequence_a_n')\n",
        "plt.legend()"
      ],
      "execution_count": 13,
      "outputs": [
        {
          "output_type": "execute_result",
          "data": {
            "text/plain": [
              "<matplotlib.legend.Legend at 0x7fd0e9c7a9d0>"
            ]
          },
          "metadata": {},
          "execution_count": 13
        },
        {
          "output_type": "display_data",
          "data": {
            "image/png": "[encoded data removed]",
            "text/plain": [
              "<Figure size 432x288 with 1 Axes>"
            ]
          },
          "metadata": {
            "needs_background": "light"
          }
        }
      ]
    },
    {
      "cell_type": "code",
      "metadata": {
        "colab": {
          "base_uri": "https://localhost:8080/"
        },
        "id": "8pQyy9IVZfxm",
        "outputId": "50e16b1f-5703-47f2-e950-2ebee5f1312c"
      },
      "source": [
        "Sequence_a_n"
      ],
      "execution_count": 14,
      "outputs": [
        {
          "output_type": "execute_result",
          "data": {
            "text/plain": [
              "[3,\n",
              " 7,\n",
              " 11,\n",
              " 15,\n",
              " 19,\n",
              " 23,\n",
              " 27,\n",
              " 31,\n",
              " 35,\n",
              " 39,\n",
              " 43,\n",
              " 47,\n",
              " 51,\n",
              " 55,\n",
              " 59,\n",
              " 63,\n",
              " 67,\n",
              " 71,\n",
              " 75,\n",
              " 79,\n",
              " 83,\n",
              " 87,\n",
              " 91,\n",
              " 95,\n",
              " 99,\n",
              " 103,\n",
              " 107,\n",
              " 111,\n",
              " 115,\n",
              " 119,\n",
              " 123,\n",
              " 127,\n",
              " 131,\n",
              " 135,\n",
              " 139,\n",
              " 143,\n",
              " 147,\n",
              " 151,\n",
              " 155,\n",
              " 159,\n",
              " 163,\n",
              " 167,\n",
              " 171,\n",
              " 175,\n",
              " 179,\n",
              " 183,\n",
              " 187,\n",
              " 191,\n",
              " 195,\n",
              " 199]"
            ]
          },
          "metadata": {},
          "execution_count": 14
        }
      ]
    },
    {
      "cell_type": "code",
      "metadata": {
        "colab": {
          "base_uri": "https://localhost:8080/"
        },
        "id": "pqMZt7DqZnBp",
        "outputId": "e71db360-2724-45e7-88b0-cf9b0355c54f"
      },
      "source": [
        "Serie_S_n"
      ],
      "execution_count": 15,
      "outputs": [
        {
          "output_type": "execute_result",
          "data": {
            "text/plain": [
              "[3,\n",
              " 10,\n",
              " 21,\n",
              " 36,\n",
              " 55,\n",
              " 78,\n",
              " 105,\n",
              " 136,\n",
              " 171,\n",
              " 210,\n",
              " 253,\n",
              " 300,\n",
              " 351,\n",
              " 406,\n",
              " 465,\n",
              " 528,\n",
              " 595,\n",
              " 666,\n",
              " 741,\n",
              " 820,\n",
              " 903,\n",
              " 990,\n",
              " 1081,\n",
              " 1176,\n",
              " 1275,\n",
              " 1378,\n",
              " 1485,\n",
              " 1596,\n",
              " 1711,\n",
              " 1830,\n",
              " 1953,\n",
              " 2080,\n",
              " 2211,\n",
              " 2346,\n",
              " 2485,\n",
              " 2628,\n",
              " 2775,\n",
              " 2926,\n",
              " 3081,\n",
              " 3240,\n",
              " 3403,\n",
              " 3570,\n",
              " 3741,\n",
              " 3916,\n",
              " 4095,\n",
              " 4278,\n",
              " 4465,\n",
              " 4656,\n",
              " 4851,\n",
              " 5050]"
            ]
          },
          "metadata": {},
          "execution_count": 15
        }
      ]
    },
    {
      "cell_type": "markdown",
      "metadata": {
        "id": "NBipZR0bYzjt"
      },
      "source": [
        "### **Ejemplo 2:**"
      ]
    },
    {
      "cell_type": "markdown",
      "metadata": {
        "id": "5Zasr6AkYmR4"
      },
      "source": [
        "The following code computes the $n=25000000$ term of the airthmetic series \n",
        "$$ S_n  = \\sum_{k=1}^n a_k$$\n",
        "\n",
        "<br /> \n",
        "for the airthmetic sequence $a_k = - 18 - 7 (k-1) $ for $k=1,2,\\ldots$\n",
        "\n",
        "<br /> \n",
        "$$ -18,-25,-32,-39,-46,-53,\\ldots$$\n"
      ]
    },
    {
      "cell_type": "code",
      "metadata": {
        "colab": {
          "base_uri": "https://localhost:8080/"
        },
        "id": "V5TengjrZNjX",
        "outputId": "ce26ad15-4ecb-46db-bf08-51299c3e1b16"
      },
      "source": [
        "n = 25000000\n",
        "a = -18\n",
        "d = -7\n",
        "S_n = 0\n",
        "for i in range(1,n+1):  # range(n+1) goes form 1 to n\n",
        "  a_n = a + d * (i-1) \n",
        "  S_n = S_n + a_n\n",
        "print(S_n)"
      ],
      "execution_count": 16,
      "outputs": [
        {
          "output_type": "stream",
          "name": "stdout",
          "text": [
            "-2187500362500000\n"
          ]
        }
      ]
    },
    {
      "cell_type": "code",
      "metadata": {
        "colab": {
          "base_uri": "https://localhost:8080/"
        },
        "id": "zVebghXyZsbF",
        "outputId": "3d1f0958-a7c0-4253-f2a4-fd299637f8bd"
      },
      "source": [
        "n*(2*a +d*(n-1))/2"
      ],
      "execution_count": 17,
      "outputs": [
        {
          "output_type": "execute_result",
          "data": {
            "text/plain": [
              "-2187500362500000.0"
            ]
          },
          "metadata": {},
          "execution_count": 17
        }
      ]
    },
    {
      "cell_type": "code",
      "metadata": {
        "colab": {
          "base_uri": "https://localhost:8080/"
        },
        "id": "soJyTKYIZwJp",
        "outputId": "cca8db9f-d5c5-4a4e-ca1d-756aa94d7164"
      },
      "source": [
        "-(n*(a + a_n)/2)"
      ],
      "execution_count": 18,
      "outputs": [
        {
          "output_type": "execute_result",
          "data": {
            "text/plain": [
              "2187500362500000.0"
            ]
          },
          "metadata": {},
          "execution_count": 18
        }
      ]
    },
    {
      "cell_type": "code",
      "metadata": {
        "colab": {
          "base_uri": "https://localhost:8080/",
          "height": 282
        },
        "id": "C7N0XicMZ1iz",
        "outputId": "78110f66-5aca-4d8c-ba18-d3bbe95a0e54"
      },
      "source": [
        "import matplotlib.pyplot as plt\n",
        "\n",
        "n = 25\n",
        "a = -18\n",
        "d = -7\n",
        "S_n = 0\n",
        "Serie_S_n = []\n",
        "Sequence_a_n = []\n",
        "for i in range(1,n+1):  # range(n+1) goes form 1 to n\n",
        "  a_n = a + d * (i-1) \n",
        "  S_n = S_n + a_n\n",
        "  Serie_S_n.append(S_n)\n",
        "  Sequence_a_n.append(a_n)\n",
        "\n",
        "plt.plot(Serie_S_n, color='black',label='Serie_S_n')\n",
        "plt.plot(Sequence_a_n, color='red',label='Sequence_a_n')\n",
        "plt.legend()"
      ],
      "execution_count": 19,
      "outputs": [
        {
          "output_type": "execute_result",
          "data": {
            "text/plain": [
              "<matplotlib.legend.Legend at 0x7fd0e9bf7d50>"
            ]
          },
          "metadata": {},
          "execution_count": 19
        },
        {
          "output_type": "display_data",
          "data": {
            "image/png": "[encoded data removed]",
            "text/plain": [
              "<Figure size 432x288 with 1 Axes>"
            ]
          },
          "metadata": {
            "needs_background": "light"
          }
        }
      ]
    },
    {
      "cell_type": "code",
      "metadata": {
        "colab": {
          "base_uri": "https://localhost:8080/"
        },
        "id": "VYcOwAXaal2Q",
        "outputId": "2d97f0b8-08b7-4c00-8406-88b5ca4b03f2"
      },
      "source": [
        "Sequence_a_n"
      ],
      "execution_count": 20,
      "outputs": [
        {
          "output_type": "execute_result",
          "data": {
            "text/plain": [
              "[-18,\n",
              " -25,\n",
              " -32,\n",
              " -39,\n",
              " -46,\n",
              " -53,\n",
              " -60,\n",
              " -67,\n",
              " -74,\n",
              " -81,\n",
              " -88,\n",
              " -95,\n",
              " -102,\n",
              " -109,\n",
              " -116,\n",
              " -123,\n",
              " -130,\n",
              " -137,\n",
              " -144,\n",
              " -151,\n",
              " -158,\n",
              " -165,\n",
              " -172,\n",
              " -179,\n",
              " -186]"
            ]
          },
          "metadata": {},
          "execution_count": 20
        }
      ]
    },
    {
      "cell_type": "code",
      "metadata": {
        "colab": {
          "base_uri": "https://localhost:8080/"
        },
        "id": "0pOvp_G8aoJF",
        "outputId": "c5cf8ee0-6ac7-43a9-c50c-e0e7b84ed5c3"
      },
      "source": [
        "Serie_S_n"
      ],
      "execution_count": 21,
      "outputs": [
        {
          "output_type": "execute_result",
          "data": {
            "text/plain": [
              "[-18,\n",
              " -43,\n",
              " -75,\n",
              " -114,\n",
              " -160,\n",
              " -213,\n",
              " -273,\n",
              " -340,\n",
              " -414,\n",
              " -495,\n",
              " -583,\n",
              " -678,\n",
              " -780,\n",
              " -889,\n",
              " -1005,\n",
              " -1128,\n",
              " -1258,\n",
              " -1395,\n",
              " -1539,\n",
              " -1690,\n",
              " -1848,\n",
              " -2013,\n",
              " -2185,\n",
              " -2364,\n",
              " -2550]"
            ]
          },
          "metadata": {},
          "execution_count": 21
        }
      ]
    },
    {
      "cell_type": "markdown",
      "metadata": {
        "id": "AKWJ1F7hac8T"
      },
      "source": [
        "# Geometric Series\n",
        "\n",
        "## Modified from Geometric Series -  [Wolfram MathWorld](https://mathworld.wolfram.com/GeometricSeries.html) - [wikipedia](https://en.wikipedia.org/wiki/Geometric_series)\n"
      ]
    },
    {
      "cell_type": "markdown",
      "metadata": {
        "id": "W5zx_-nR81GI"
      },
      "source": [
        "A geometric series $\\sum_{k}a_k$ is a series for which the ratio of each two consecutive terms $a_{k+1}/a_k$ is a constant function of the summation index $k$.\n",
        "\n",
        "\\begin{align*}\n",
        "a_0 &\\ \\ =\\ \\ r^0 \\ \\ =\\ \\ 1\\\\\n",
        "a_1 &\\ \\ =\\ \\ a_0 *  r \\ \\ =\\ \\  r\\\\\n",
        "a_2 &\\ \\ =\\ \\ a_1 * r\\ \\ =\\ \\ a_0 * r^2  \\ \\ =\\ \\ r^2 \\\\\n",
        "a_3 &\\ \\ =\\ \\ a_2 * r \\ \\ =\\ \\ a_0 * r^3 \\ \\ =\\ \\  r^3  \\\\\n",
        "a_4 &\\ \\ =\\ \\ a_3 * r\\ \\  =\\ \\ a_0 * r^4 \\ \\  =\\ \\ r^4  \\\\\n",
        "\\vdots\\\\\n",
        "a_k &\\ \\ =\\ \\ a_{(k-1)}* r \\ =\\   a_0 * r^k \\ \\  =\\ \\  r^k\n",
        "\\end{align*}\n",
        "\n",
        "The sum of the first $n$ terms  of  the geometric sequence (called an geometric serie)  is then given by\n",
        "$$\n",
        "\\begin{array}{ll}\n",
        "S_n &=  1 + r + r^2 + \\cdots + r^{n-1} +r^n \\\\\n",
        " &=  (1 + r + r^2 + \\cdots + r^{n-1} ) +r^n \\\\\n",
        " &= S_{n-1}  +r^n \n",
        "\\end{array}\n",
        "$$\n",
        "\n",
        "$$\n",
        "\\begin{array}{ll}\n",
        "S_n &=  1 + r + r^2 + \\cdots + r^{n-1} +r^n \\\\\n",
        " &=  1 + (r + r^2 + \\cdots + r^{n-1}  +r^n)  \\\\\n",
        " &=   1 + r (1 +  r  + r^2 + \\cdots + r^{n-1} )  \\\\\n",
        "  &=   1 + r   S_{n-1} \n",
        "\\end{array}\n",
        "$$\n",
        "\n",
        "Then\n",
        "$$\n",
        " S_{n-1}  +r^n =   1 + r   S_{n-1} \n",
        "$$\n",
        "\n",
        "Therefore\n",
        "$$\n",
        " S_{n-1} (1 -r)   +r^n =   1 - r^n \n",
        "$$\n",
        "\n",
        "$$\n",
        " S_{n-1}   =   \\frac{1 - r^n }{1 -r}\n",
        "$$\n",
        "\n",
        "$$\n",
        " S_{n}   =   \\frac{1 - r^{n+1} }{1 -r}  = \\frac{ r^{n+1} - 1}{r -1}\n",
        "$$\n"
      ]
    },
    {
      "cell_type": "markdown",
      "metadata": {
        "id": "CDUYfT8k8crr"
      },
      "source": [
        "## Nodes in Complete Binary Tree with $L=0,1,2,\\cdots , L-1$ levels \n",
        "\n",
        "![](https://raw.githubusercontent.com/gjhernandezp/algorithms/master/Lab7/ComBinTree.png)\n",
        "\n",
        "In a complete binary tree you have in ecah level $k =0,1,2,\\cdots $  $ 2^k $\n",
        "\n",
        "$$\n",
        "\\begin{array}{ll}\n",
        "\\text {Level } 0 \\rightarrow 2^0 = 1 \\text { node (root)} \\\\\n",
        "\\text {Level } 1 \\rightarrow 2^1 = 2 \\text { nodes} \\\\\n",
        "\\text {Level } 2 \\rightarrow 2^2 = 4 \\text { nodes} \\\\\n",
        "\\text {Level } 3 \\rightarrow 2^3 = 8 \\text { nodes} \\\\\n",
        "\\vdots\\\\\n",
        "\\text {Level } k \\rightarrow 2^k  \\text { nodes} \\\\\n",
        "\\end{array}\n",
        "$$\n",
        "\n",
        "nodes, with $l = 0,1,2, ... $ the level\n",
        "\n",
        "Total number of the complte tree with $L=0,1,2,\\cdots , L-1$ levels\n",
        "\n",
        "$$ \n",
        "2^0 + 2^1 + 2^2 + \\cdots +2^{L-1}  = 1 + 2 + 4 + \\cdots +2^{L-1} = \\sum_{k=0}^{L-1} 2^k = \\frac{ 2^{L} - 1}{2 -1} = 2^{L} - 1\n",
        "$$"
      ]
    },
    {
      "cell_type": "markdown",
      "metadata": {
        "id": "YiWlrhLZNMX9"
      },
      "source": [
        "### Code"
      ]
    },
    {
      "cell_type": "code",
      "metadata": {
        "id": "YvMkYU8UNOll",
        "colab": {
          "base_uri": "https://localhost:8080/"
        },
        "outputId": "cb12a38d-6411-42b1-9f3c-3626b2699804"
      },
      "source": [
        "L = 75\n",
        "r = 2\n",
        "S_L = 0\n",
        "for i in range(1,L+1):  # range(L+1) goes form 1 to L\n",
        "  a_L = r ** (i-1) \n",
        "  S_L = S_L + a_L\n",
        "print(S_L)"
      ],
      "execution_count": 22,
      "outputs": [
        {
          "output_type": "stream",
          "name": "stdout",
          "text": [
            "37778931862957161709567\n"
          ]
        }
      ]
    },
    {
      "cell_type": "code",
      "metadata": {
        "colab": {
          "base_uri": "https://localhost:8080/"
        },
        "id": "FBJu91WJclQR",
        "outputId": "1f280543-53d5-4399-ae30-f3f9df6e9bcf"
      },
      "source": [
        "(r**L - 1) / (r - 1)"
      ],
      "execution_count": 23,
      "outputs": [
        {
          "output_type": "execute_result",
          "data": {
            "text/plain": [
              "3.777893186295716e+22"
            ]
          },
          "metadata": {},
          "execution_count": 23
        }
      ]
    },
    {
      "cell_type": "code",
      "metadata": {
        "colab": {
          "base_uri": "https://localhost:8080/",
          "height": 293
        },
        "id": "ibY1at8idpT3",
        "outputId": "1156e5df-dff1-4a57-f62c-71e8a836fcb9"
      },
      "source": [
        "import matplotlib.pyplot as plt\n",
        "\n",
        "L = 75\n",
        "r = 2\n",
        "S_L = 0\n",
        "Serie_S_L = []\n",
        "Sequence_a_L = []\n",
        "for i in range(1,L+1):  # range(L+1) goes form 1 to L\n",
        "  a_L = r ** (i-1) \n",
        "  S_L = S_L + a_L\n",
        "  Serie_S_L.append(S_L)\n",
        "  Sequence_a_L.append(a_L)\n",
        "\n",
        "plt.plot(Serie_S_L, color='black',label='Serie_S_L')\n",
        "plt.plot(Sequence_a_L, color='red',label='Sequence_a_L')\n",
        "plt.legend()"
      ],
      "execution_count": 24,
      "outputs": [
        {
          "output_type": "execute_result",
          "data": {
            "text/plain": [
              "<matplotlib.legend.Legend at 0x7fd0e9b81f10>"
            ]
          },
          "metadata": {},
          "execution_count": 24
        },
        {
          "output_type": "display_data",
          "data": {
            "image/png": "[encoded data removed]",
            "text/plain": [
              "<Figure size 432x288 with 1 Axes>"
            ]
          },
          "metadata": {
            "needs_background": "light"
          }
        }
      ]
    },
    {
      "cell_type": "code",
      "metadata": {
        "colab": {
          "base_uri": "https://localhost:8080/"
        },
        "id": "atpCCMAVeGVr",
        "outputId": "59b54417-9c31-42bf-fd4a-80f15b5da445"
      },
      "source": [
        "Sequence_a_L"
      ],
      "execution_count": 25,
      "outputs": [
        {
          "output_type": "execute_result",
          "data": {
            "text/plain": [
              "[1,\n",
              " 2,\n",
              " 4,\n",
              " 8,\n",
              " 16,\n",
              " 32,\n",
              " 64,\n",
              " 128,\n",
              " 256,\n",
              " 512,\n",
              " 1024,\n",
              " 2048,\n",
              " 4096,\n",
              " 8192,\n",
              " 16384,\n",
              " 32768,\n",
              " 65536,\n",
              " 131072,\n",
              " 262144,\n",
              " 524288,\n",
              " 1048576,\n",
              " 2097152,\n",
              " 4194304,\n",
              " 8388608,\n",
              " 16777216,\n",
              " 33554432,\n",
              " 67108864,\n",
              " 134217728,\n",
              " 268435456,\n",
              " 536870912,\n",
              " 1073741824,\n",
              " 2147483648,\n",
              " 4294967296,\n",
              " 8589934592,\n",
              " 17179869184,\n",
              " 34359738368,\n",
              " 68719476736,\n",
              " 137438953472,\n",
              " 274877906944,\n",
              " 549755813888,\n",
              " 1099511627776,\n",
              " 2199023255552,\n",
              " 4398046511104,\n",
              " 8796093022208,\n",
              " 17592186044416,\n",
              " 35184372088832,\n",
              " 70368744177664,\n",
              " 140737488355328,\n",
              " 281474976710656,\n",
              " 562949953421312,\n",
              " 1125899906842624,\n",
              " 2251799813685248,\n",
              " 4503599627370496,\n",
              " 9007199254740992,\n",
              " 18014398509481984,\n",
              " 36028797018963968,\n",
              " 72057594037927936,\n",
              " 144115188075855872,\n",
              " 288230376151711744,\n",
              " 576460752303423488,\n",
              " 1152921504606846976,\n",
              " 2305843009213693952,\n",
              " 4611686018427387904,\n",
              " 9223372036854775808,\n",
              " 18446744073709551616,\n",
              " 36893488147419103232,\n",
              " 73786976294838206464,\n",
              " 147573952589676412928,\n",
              " 295147905179352825856,\n",
              " 590295810358705651712,\n",
              " 1180591620717411303424,\n",
              " 2361183241434822606848,\n",
              " 4722366482869645213696,\n",
              " 9444732965739290427392,\n",
              " 18889465931478580854784]"
            ]
          },
          "metadata": {},
          "execution_count": 25
        }
      ]
    },
    {
      "cell_type": "code",
      "metadata": {
        "colab": {
          "base_uri": "https://localhost:8080/"
        },
        "id": "mTCPNIlleLWM",
        "outputId": "7c4c8895-aa22-43ed-cc6f-ab5d5ab2c265"
      },
      "source": [
        "Serie_S_L"
      ],
      "execution_count": 26,
      "outputs": [
        {
          "output_type": "execute_result",
          "data": {
            "text/plain": [
              "[1,\n",
              " 3,\n",
              " 7,\n",
              " 15,\n",
              " 31,\n",
              " 63,\n",
              " 127,\n",
              " 255,\n",
              " 511,\n",
              " 1023,\n",
              " 2047,\n",
              " 4095,\n",
              " 8191,\n",
              " 16383,\n",
              " 32767,\n",
              " 65535,\n",
              " 131071,\n",
              " 262143,\n",
              " 524287,\n",
              " 1048575,\n",
              " 2097151,\n",
              " 4194303,\n",
              " 8388607,\n",
              " 16777215,\n",
              " 33554431,\n",
              " 67108863,\n",
              " 134217727,\n",
              " 268435455,\n",
              " 536870911,\n",
              " 1073741823,\n",
              " 2147483647,\n",
              " 4294967295,\n",
              " 8589934591,\n",
              " 17179869183,\n",
              " 34359738367,\n",
              " 68719476735,\n",
              " 137438953471,\n",
              " 274877906943,\n",
              " 549755813887,\n",
              " 1099511627775,\n",
              " 2199023255551,\n",
              " 4398046511103,\n",
              " 8796093022207,\n",
              " 17592186044415,\n",
              " 35184372088831,\n",
              " 70368744177663,\n",
              " 140737488355327,\n",
              " 281474976710655,\n",
              " 562949953421311,\n",
              " 1125899906842623,\n",
              " 2251799813685247,\n",
              " 4503599627370495,\n",
              " 9007199254740991,\n",
              " 18014398509481983,\n",
              " 36028797018963967,\n",
              " 72057594037927935,\n",
              " 144115188075855871,\n",
              " 288230376151711743,\n",
              " 576460752303423487,\n",
              " 1152921504606846975,\n",
              " 2305843009213693951,\n",
              " 4611686018427387903,\n",
              " 9223372036854775807,\n",
              " 18446744073709551615,\n",
              " 36893488147419103231,\n",
              " 73786976294838206463,\n",
              " 147573952589676412927,\n",
              " 295147905179352825855,\n",
              " 590295810358705651711,\n",
              " 1180591620717411303423,\n",
              " 2361183241434822606847,\n",
              " 4722366482869645213695,\n",
              " 9444732965739290427391,\n",
              " 18889465931478580854783,\n",
              " 37778931862957161709567]"
            ]
          },
          "metadata": {},
          "execution_count": 26
        }
      ]
    },
    {
      "cell_type": "markdown",
      "metadata": {
        "id": "Dd3RWDwJe2xD"
      },
      "source": [
        "## Zenon Arrow\n",
        "\n",
        "![](https://raw.githubusercontent.com/gjhernandezp/algorithms/master/Lab7/zeno-paradox-arrow.png)\n",
        "\n",
        "https://leseditionsdeschavonnes.com/2018/10/15/the-paradox-of-achilles-and-the-tortoise/\n",
        "\n",
        "\n",
        "\n",
        "$$ \n",
        "\\lim_{n\\rightarrow \\infty} \\left\\{\\left(\\frac{1}{2}\\right)^0 + \\left(\\frac{1}{2}\\right)^1 +\\left(\\frac{1}{2}\\right)^2 + \\cdots +\\left(\\frac{1}{2}\\right)^{n} \\right\\} = \\lim_{n\\rightarrow \\infty} \\left\\{ 1 +\\frac{1}{2} + \\frac{1}{4} + \\frac{1}{8} + \\cdots +\\frac{1}{2^{n}}\\right\\}  = \\lim_{n\\rightarrow \\infty} \\sum_{k=0}^{n} \\left(\\frac{1}{2}\\right)^k = \\lim_{n\\rightarrow \\infty} \\frac{ 1- \\left(\\frac{1}{2}\\right)^n  }{1 - \\left(\\frac{1}{2}\\right) } = \\frac{ 1}{1 - \\left(\\frac{1}{2}\\right)} = 2\n",
        "$$"
      ]
    },
    {
      "cell_type": "markdown",
      "metadata": {
        "id": "R-J4EekBNPkd"
      },
      "source": [
        "### Code"
      ]
    },
    {
      "cell_type": "code",
      "metadata": {
        "id": "8xdBovY3NEW_",
        "colab": {
          "base_uri": "https://localhost:8080/"
        },
        "outputId": "63e0ff9d-37a9-4ce2-d523-f98223093986"
      },
      "source": [
        "n = 1000000\n",
        "r = (1/2)\n",
        "S_n = 0\n",
        "for i in range(1,n+1):  # range(n+1) goes form 1 to L\n",
        "  a_n = r ** (i-1) \n",
        "  S_n = S_n + a_n\n",
        "print(S_n)"
      ],
      "execution_count": 27,
      "outputs": [
        {
          "output_type": "stream",
          "name": "stdout",
          "text": [
            "2.0\n"
          ]
        }
      ]
    },
    {
      "cell_type": "code",
      "metadata": {
        "colab": {
          "base_uri": "https://localhost:8080/"
        },
        "id": "MrImbO_QfX8p",
        "outputId": "39db2e9a-ab02-4b99-fcc3-a2a2bf66a859"
      },
      "source": [
        "(1 - r**n) / (1 - r)"
      ],
      "execution_count": 28,
      "outputs": [
        {
          "output_type": "execute_result",
          "data": {
            "text/plain": [
              "2.0"
            ]
          },
          "metadata": {},
          "execution_count": 28
        }
      ]
    },
    {
      "cell_type": "code",
      "metadata": {
        "colab": {
          "base_uri": "https://localhost:8080/",
          "height": 282
        },
        "id": "S85IGJExfm0D",
        "outputId": "a92ccb99-6960-4025-8220-e7171acb18cd"
      },
      "source": [
        "import matplotlib.pyplot as plt\n",
        "\n",
        "n = 100\n",
        "r = (1/2)\n",
        "S_n = 0\n",
        "Serie_S_n = []\n",
        "Sequence_a_n = []\n",
        "for i in range(1,n+1):  # range(n+1) goes form 1 to L\n",
        "  a_n = r ** (i-1) \n",
        "  S_n = S_n + a_n\n",
        "  Serie_S_n.append(S_n)\n",
        "  Sequence_a_n.append(a_n)\n",
        "\n",
        "plt.plot(Serie_S_n, color='black',label='Serie_S_L')\n",
        "plt.plot(Sequence_a_n, color='red',label='Sequence_a_L')\n",
        "plt.legend()"
      ],
      "execution_count": 29,
      "outputs": [
        {
          "output_type": "execute_result",
          "data": {
            "text/plain": [
              "<matplotlib.legend.Legend at 0x7fd0e9afcb90>"
            ]
          },
          "metadata": {},
          "execution_count": 29
        },
        {
          "output_type": "display_data",
          "data": {
            "image/png": "[encoded data removed]",
            "text/plain": [
              "<Figure size 432x288 with 1 Axes>"
            ]
          },
          "metadata": {
            "needs_background": "light"
          }
        }
      ]
    },
    {
      "cell_type": "code",
      "metadata": {
        "colab": {
          "base_uri": "https://localhost:8080/"
        },
        "id": "fN0EfwgmgSPR",
        "outputId": "746796d5-8ce5-407a-d9e1-5a2b116d8568"
      },
      "source": [
        "Sequence_a_n"
      ],
      "execution_count": 30,
      "outputs": [
        {
          "output_type": "execute_result",
          "data": {
            "text/plain": [
              "[1.0,\n",
              " 0.5,\n",
              " 0.25,\n",
              " 0.125,\n",
              " 0.0625,\n",
              " 0.03125,\n",
              " 0.015625,\n",
              " 0.0078125,\n",
              " 0.00390625,\n",
              " 0.001953125,\n",
              " 0.0009765625,\n",
              " 0.00048828125,\n",
              " 0.000244140625,\n",
              " 0.0001220703125,\n",
              " 6.103515625e-05,\n",
              " 3.0517578125e-05,\n",
              " 1.52587890625e-05,\n",
              " 7.62939453125e-06,\n",
              " 3.814697265625e-06,\n",
              " 1.9073486328125e-06,\n",
              " 9.5367431640625e-07,\n",
              " 4.76837158203125e-07,\n",
              " 2.384185791015625e-07,\n",
              " 1.1920928955078125e-07,\n",
              " 5.960464477539063e-08,\n",
              " 2.9802322387695312e-08,\n",
              " 1.4901161193847656e-08,\n",
              " 7.450580596923828e-09,\n",
              " 3.725290298461914e-09,\n",
              " 1.862645149230957e-09,\n",
              " 9.313225746154785e-10,\n",
              " 4.656612873077393e-10,\n",
              " 2.3283064365386963e-10,\n",
              " 1.1641532182693481e-10,\n",
              " 5.820766091346741e-11,\n",
              " 2.9103830456733704e-11,\n",
              " 1.4551915228366852e-11,\n",
              " 7.275957614183426e-12,\n",
              " 3.637978807091713e-12,\n",
              " 1.8189894035458565e-12,\n",
              " 9.094947017729282e-13,\n",
              " 4.547473508864641e-13,\n",
              " 2.2737367544323206e-13,\n",
              " 1.1368683772161603e-13,\n",
              " 5.684341886080802e-14,\n",
              " 2.842170943040401e-14,\n",
              " 1.4210854715202004e-14,\n",
              " 7.105427357601002e-15,\n",
              " 3.552713678800501e-15,\n",
              " 1.7763568394002505e-15,\n",
              " 8.881784197001252e-16,\n",
              " 4.440892098500626e-16,\n",
              " 2.220446049250313e-16,\n",
              " 1.1102230246251565e-16,\n",
              " 5.551115123125783e-17,\n",
              " 2.7755575615628914e-17,\n",
              " 1.3877787807814457e-17,\n",
              " 6.938893903907228e-18,\n",
              " 3.469446951953614e-18,\n",
              " 1.734723475976807e-18,\n",
              " 8.673617379884035e-19,\n",
              " 4.336808689942018e-19,\n",
              " 2.168404344971009e-19,\n",
              " 1.0842021724855044e-19,\n",
              " 5.421010862427522e-20,\n",
              " 2.710505431213761e-20,\n",
              " 1.3552527156068805e-20,\n",
              " 6.776263578034403e-21,\n",
              " 3.3881317890172014e-21,\n",
              " 1.6940658945086007e-21,\n",
              " 8.470329472543003e-22,\n",
              " 4.235164736271502e-22,\n",
              " 2.117582368135751e-22,\n",
              " 1.0587911840678754e-22,\n",
              " 5.293955920339377e-23,\n",
              " 2.6469779601696886e-23,\n",
              " 1.3234889800848443e-23,\n",
              " 6.617444900424222e-24,\n",
              " 3.308722450212111e-24,\n",
              " 1.6543612251060553e-24,\n",
              " 8.271806125530277e-25,\n",
              " 4.1359030627651384e-25,\n",
              " 2.0679515313825692e-25,\n",
              " 1.0339757656912846e-25,\n",
              " 5.169878828456423e-26,\n",
              " 2.5849394142282115e-26,\n",
              " 1.2924697071141057e-26,\n",
              " 6.462348535570529e-27,\n",
              " 3.2311742677852644e-27,\n",
              " 1.6155871338926322e-27,\n",
              " 8.077935669463161e-28,\n",
              " 4.0389678347315804e-28,\n",
              " 2.0194839173657902e-28,\n",
              " 1.0097419586828951e-28,\n",
              " 5.048709793414476e-29,\n",
              " 2.524354896707238e-29,\n",
              " 1.262177448353619e-29,\n",
              " 6.310887241768095e-30,\n",
              " 3.1554436208840472e-30,\n",
              " 1.5777218104420236e-30]"
            ]
          },
          "metadata": {},
          "execution_count": 30
        }
      ]
    },
    {
      "cell_type": "code",
      "metadata": {
        "colab": {
          "base_uri": "https://localhost:8080/"
        },
        "id": "p8TTcGJfgX2i",
        "outputId": "1be0e5cc-334b-425b-ed06-1ff425ee6ddf"
      },
      "source": [
        "Serie_S_n"
      ],
      "execution_count": 31,
      "outputs": [
        {
          "output_type": "execute_result",
          "data": {
            "text/plain": [
              "[1.0,\n",
              " 1.5,\n",
              " 1.75,\n",
              " 1.875,\n",
              " 1.9375,\n",
              " 1.96875,\n",
              " 1.984375,\n",
              " 1.9921875,\n",
              " 1.99609375,\n",
              " 1.998046875,\n",
              " 1.9990234375,\n",
              " 1.99951171875,\n",
              " 1.999755859375,\n",
              " 1.9998779296875,\n",
              " 1.99993896484375,\n",
              " 1.999969482421875,\n",
              " 1.9999847412109375,\n",
              " 1.9999923706054688,\n",
              " 1.9999961853027344,\n",
              " 1.9999980926513672,\n",
              " 1.9999990463256836,\n",
              " 1.9999995231628418,\n",
              " 1.999999761581421,\n",
              " 1.9999998807907104,\n",
              " 1.9999999403953552,\n",
              " 1.9999999701976776,\n",
              " 1.9999999850988388,\n",
              " 1.9999999925494194,\n",
              " 1.9999999962747097,\n",
              " 1.9999999981373549,\n",
              " 1.9999999990686774,\n",
              " 1.9999999995343387,\n",
              " 1.9999999997671694,\n",
              " 1.9999999998835847,\n",
              " 1.9999999999417923,\n",
              " 1.9999999999708962,\n",
              " 1.999999999985448,\n",
              " 1.999999999992724,\n",
              " 1.999999999996362,\n",
              " 1.999999999998181,\n",
              " 1.9999999999990905,\n",
              " 1.9999999999995453,\n",
              " 1.9999999999997726,\n",
              " 1.9999999999998863,\n",
              " 1.9999999999999432,\n",
              " 1.9999999999999716,\n",
              " 1.9999999999999858,\n",
              " 1.999999999999993,\n",
              " 1.9999999999999964,\n",
              " 1.9999999999999982,\n",
              " 1.9999999999999991,\n",
              " 1.9999999999999996,\n",
              " 1.9999999999999998,\n",
              " 2.0,\n",
              " 2.0,\n",
              " 2.0,\n",
              " 2.0,\n",
              " 2.0,\n",
              " 2.0,\n",
              " 2.0,\n",
              " 2.0,\n",
              " 2.0,\n",
              " 2.0,\n",
              " 2.0,\n",
              " 2.0,\n",
              " 2.0,\n",
              " 2.0,\n",
              " 2.0,\n",
              " 2.0,\n",
              " 2.0,\n",
              " 2.0,\n",
              " 2.0,\n",
              " 2.0,\n",
              " 2.0,\n",
              " 2.0,\n",
              " 2.0,\n",
              " 2.0,\n",
              " 2.0,\n",
              " 2.0,\n",
              " 2.0,\n",
              " 2.0,\n",
              " 2.0,\n",
              " 2.0,\n",
              " 2.0,\n",
              " 2.0,\n",
              " 2.0,\n",
              " 2.0,\n",
              " 2.0,\n",
              " 2.0,\n",
              " 2.0,\n",
              " 2.0,\n",
              " 2.0,\n",
              " 2.0,\n",
              " 2.0,\n",
              " 2.0,\n",
              " 2.0,\n",
              " 2.0,\n",
              " 2.0,\n",
              " 2.0,\n",
              " 2.0]"
            ]
          },
          "metadata": {},
          "execution_count": 31
        }
      ]
    },
    {
      "cell_type": "markdown",
      "metadata": {
        "id": "dh2ntBeoNQlN"
      },
      "source": [
        "# Power Sums Power Sums - [Wolfram MathWorld](https://mathworld.wolfram.com/PowerSum.html) - [wikipedia](https://en.wikipedia.org/wiki/Sums_of_powers) - [reserachgate](https://www.researchgate.net/publication/331933608_The_Powers_Sums_Bernoulli_Numbers_Bernoulli_Polynomials_Rethinked)\n",
        "\n"
      ]
    },
    {
      "cell_type": "markdown",
      "metadata": {
        "id": "wvWMLaRshFIx"
      },
      "source": [
        "There are two kinds of power sums commonly considered. The first is the sum of pth powers of a set of n variables $x_k$,\n",
        "\n",
        " $$S_p(x_1,...,x_n) = \\sum_{k=1}^nx_k^p$$\n",
        "\n",
        "and the second is the special case $x_k=k$, i.e.,\n",
        "\n",
        " $$S_p(n)=\\sum_{k=1}^nk^p$$\n",
        "\n",
        "General power sums arise commonly in statistics. For example, $k$-statistics are most commonly defined in terms of power sums. Power sums are related to symmetric polynomials by the Newton-Girard formulas.\n",
        "\n",
        "The sum of $k$ times the $k$th power of $x$ is given analytically by\n",
        "\n",
        " $$\\sum_{k=0}^nkx^k=\\frac{x-(n+1)x^{n+1}+nx^{n+2}}{(x-1)^2}$$\n",
        "\n",
        "\n",
        "\n"
      ]
    },
    {
      "cell_type": "markdown",
      "metadata": {
        "id": "WeYINhw90s-1"
      },
      "source": [
        "### Code\n",
        "The following code computes the  $n=100$  term of the power sum:\n",
        "$$  S_n = 0(2)^0 + 1(2)^1 + 2(2)^2 + 3(2)^3 + \\ldots + n(2)^n = \\sum_{k=0}^n =  k2^k $$"
      ]
    },
    {
      "cell_type": "code",
      "metadata": {
        "id": "2PyxzzOZVIdl",
        "colab": {
          "base_uri": "https://localhost:8080/"
        },
        "outputId": "2b4d11d5-b6ac-4075-c4bf-9de30252056f"
      },
      "source": [
        "n = 100\n",
        "x = 2\n",
        "S_n = 0\n",
        "for k in range(0,n+1):  # range(0, n+1) goes form 0 to n\n",
        "  a_n = k*(x**k)\n",
        "  S_n = S_n + a_n\n",
        "print(S_n)"
      ],
      "execution_count": 32,
      "outputs": [
        {
          "output_type": "stream",
          "name": "stdout",
          "text": [
            "250994818845189421496347234664450\n"
          ]
        }
      ]
    },
    {
      "cell_type": "code",
      "metadata": {
        "colab": {
          "base_uri": "https://localhost:8080/"
        },
        "id": "ocYnkaHh2Nyl",
        "outputId": "be9acbd8-f242-4a8e-b182-57b619b1c816"
      },
      "source": [
        "(x - ((n+1)*(x**(n+1))) + n*(x**(n+2))) / (x-1)**2"
      ],
      "execution_count": 33,
      "outputs": [
        {
          "output_type": "execute_result",
          "data": {
            "text/plain": [
              "2.5099481884518942e+32"
            ]
          },
          "metadata": {},
          "execution_count": 33
        }
      ]
    },
    {
      "cell_type": "code",
      "metadata": {
        "colab": {
          "base_uri": "https://localhost:8080/",
          "height": 293
        },
        "id": "hsWlTGNw2uiZ",
        "outputId": "719d154b-257e-4ea1-8b6d-a873f9083d59"
      },
      "source": [
        "import matplotlib.pyplot as plt\n",
        "\n",
        "n = 100\n",
        "x = 2\n",
        "S_n = 0\n",
        "Serie_S_n = []\n",
        "Sequence_a_n = []\n",
        "for k in range(0,n+1):  # range(0, n+1) goes form 0 to n\n",
        "  a_n = k*(x**k)\n",
        "  S_n = S_n + a_n\n",
        "  Serie_S_n.append(S_n)\n",
        "  Sequence_a_n.append(a_n)\n",
        "\n",
        "plt.plot(Serie_S_n, color='black',label='Serie_S_L')\n",
        "plt.plot(Sequence_a_n, color='red',label='Sequence_a_L')\n",
        "plt.legend()"
      ],
      "execution_count": 34,
      "outputs": [
        {
          "output_type": "execute_result",
          "data": {
            "text/plain": [
              "<matplotlib.legend.Legend at 0x7fd0e9a1de10>"
            ]
          },
          "metadata": {},
          "execution_count": 34
        },
        {
          "output_type": "display_data",
          "data": {
            "image/png": "[encoded data removed]",
            "text/plain": [
              "<Figure size 432x288 with 1 Axes>"
            ]
          },
          "metadata": {
            "needs_background": "light"
          }
        }
      ]
    },
    {
      "cell_type": "code",
      "metadata": {
        "colab": {
          "base_uri": "https://localhost:8080/"
        },
        "id": "CgxYhjtc29a6",
        "outputId": "29ce3632-5ef6-49f7-e863-ac10bd5b3bdc"
      },
      "source": [
        "Sequence_a_n"
      ],
      "execution_count": 35,
      "outputs": [
        {
          "output_type": "execute_result",
          "data": {
            "text/plain": [
              "[0,\n",
              " 2,\n",
              " 8,\n",
              " 24,\n",
              " 64,\n",
              " 160,\n",
              " 384,\n",
              " 896,\n",
              " 2048,\n",
              " 4608,\n",
              " 10240,\n",
              " 22528,\n",
              " 49152,\n",
              " 106496,\n",
              " 229376,\n",
              " 491520,\n",
              " 1048576,\n",
              " 2228224,\n",
              " 4718592,\n",
              " 9961472,\n",
              " 20971520,\n",
              " 44040192,\n",
              " 92274688,\n",
              " 192937984,\n",
              " 402653184,\n",
              " 838860800,\n",
              " 1744830464,\n",
              " 3623878656,\n",
              " 7516192768,\n",
              " 15569256448,\n",
              " 32212254720,\n",
              " 66571993088,\n",
              " 137438953472,\n",
              " 283467841536,\n",
              " 584115552256,\n",
              " 1202590842880,\n",
              " 2473901162496,\n",
              " 5085241278464,\n",
              " 10445360463872,\n",
              " 21440476741632,\n",
              " 43980465111040,\n",
              " 90159953477632,\n",
              " 184717953466368,\n",
              " 378231999954944,\n",
              " 774056185954304,\n",
              " 1583296743997440,\n",
              " 3236962232172544,\n",
              " 6614661952700416,\n",
              " 13510798882111488,\n",
              " 27584547717644288,\n",
              " 56294995342131200,\n",
              " 114841790497947648,\n",
              " 234187180623265792,\n",
              " 477381560501272576,\n",
              " 972777519512027136,\n",
              " 1981583836043018240,\n",
              " 4035225266123964416,\n",
              " 8214565720323784704,\n",
              " 16717361816799281152,\n",
              " 34011184385901985792,\n",
              " 69175290276410818560,\n",
              " 140656423562035331072,\n",
              " 285924533142498050048,\n",
              " 581072438321850875904,\n",
              " 1180591620717411303424,\n",
              " 2398076729582241710080,\n",
              " 4869940435459321626624,\n",
              " 9887454823508319666176,\n",
              " 20070057552195992158208,\n",
              " 40730410914750689968128,\n",
              " 82641413450218791239680,\n",
              " 167644010141872405086208,\n",
              " 340010386766614455386112,\n",
              " 689465506498968201199616,\n",
              " 1397820478929414983254016,\n",
              " 2833419889721787128217600,\n",
              " 5742397643169488579854336,\n",
              " 11635911013790805806546944,\n",
              " 23574053482485268906770432,\n",
              " 47752569874777852400893952,\n",
              " 96714065569170333976494080,\n",
              " 195845982777569926302400512,\n",
              " 396527668833598369303625728,\n",
              " 802726744224113772004900864,\n",
              " 1624796301562061610805100544,\n",
              " 3288278229351791355200798720,\n",
              " 6653927711158918977582792704,\n",
              " 13462597927228510489527975936,\n",
              " 27234680864278366047780732928,\n",
              " 55088331748199422233011027968,\n",
              " 111414603535684224740921180160,\n",
              " 225305087149939210031640608768,\n",
              " 455561934457019941162877714432,\n",
              " 921027389228322924524948422656,\n",
              " 1861861819085211933448282832896,\n",
              " 3763337719427556035693337640960,\n",
              " 7605903601369376408980219232256,\n",
              " 15370263527767281493147526365184,\n",
              " 31057439705591620336669228531712,\n",
              " 62748704711297355374086808666112,\n",
              " 126765060022822940149670320537600]"
            ]
          },
          "metadata": {},
          "execution_count": 35
        }
      ]
    },
    {
      "cell_type": "code",
      "metadata": {
        "colab": {
          "base_uri": "https://localhost:8080/"
        },
        "id": "xMrmcn133B2Y",
        "outputId": "263d71fb-1cad-4c9a-bed9-55286555f005"
      },
      "source": [
        "Serie_S_n"
      ],
      "execution_count": 36,
      "outputs": [
        {
          "output_type": "execute_result",
          "data": {
            "text/plain": [
              "[0,\n",
              " 2,\n",
              " 10,\n",
              " 34,\n",
              " 98,\n",
              " 258,\n",
              " 642,\n",
              " 1538,\n",
              " 3586,\n",
              " 8194,\n",
              " 18434,\n",
              " 40962,\n",
              " 90114,\n",
              " 196610,\n",
              " 425986,\n",
              " 917506,\n",
              " 1966082,\n",
              " 4194306,\n",
              " 8912898,\n",
              " 18874370,\n",
              " 39845890,\n",
              " 83886082,\n",
              " 176160770,\n",
              " 369098754,\n",
              " 771751938,\n",
              " 1610612738,\n",
              " 3355443202,\n",
              " 6979321858,\n",
              " 14495514626,\n",
              " 30064771074,\n",
              " 62277025794,\n",
              " 128849018882,\n",
              " 266287972354,\n",
              " 549755813890,\n",
              " 1133871366146,\n",
              " 2336462209026,\n",
              " 4810363371522,\n",
              " 9895604649986,\n",
              " 20340965113858,\n",
              " 41781441855490,\n",
              " 85761906966530,\n",
              " 175921860444162,\n",
              " 360639813910530,\n",
              " 738871813865474,\n",
              " 1512927999819778,\n",
              " 3096224743817218,\n",
              " 6333186975989762,\n",
              " 12947848928690178,\n",
              " 26458647810801666,\n",
              " 54043195528445954,\n",
              " 110338190870577154,\n",
              " 225179981368524802,\n",
              " 459367161991790594,\n",
              " 936748722493063170,\n",
              " 1909526242005090306,\n",
              " 3891110078048108546,\n",
              " 7926335344172072962,\n",
              " 16140901064495857666,\n",
              " 32858262881295138818,\n",
              " 66869447267197124610,\n",
              " 136044737543607943170,\n",
              " 276701161105643274242,\n",
              " 562625694248141324290,\n",
              " 1143698132569992200194,\n",
              " 2324289753287403503618,\n",
              " 4722366482869645213698,\n",
              " 9592306918328966840322,\n",
              " 19479761741837286506498,\n",
              " 39549819294033278664706,\n",
              " 80280230208783968632834,\n",
              " 162921643659002759872514,\n",
              " 330565653800875164958722,\n",
              " 670576040567489620344834,\n",
              " 1360041547066457821544450,\n",
              " 2757862025995872804798466,\n",
              " 5591281915717659933016066,\n",
              " 11333679558887148512870402,\n",
              " 22969590572677954319417346,\n",
              " 46543644055163223226187778,\n",
              " 94296213929941075627081730,\n",
              " 191010279499111409603575810,\n",
              " 386856262276681335905976322,\n",
              " 783383931110279705209602050,\n",
              " 1586110675334393477214502914,\n",
              " 3210906976896455088019603458,\n",
              " 6499185206248246443220402178,\n",
              " 13153112917407165420803194882,\n",
              " 26615710844635675910331170818,\n",
              " 53850391708914041958111903746,\n",
              " 108938723457113464191122931714,\n",
              " 220353326992797688932044111874,\n",
              " 445658414142736898963684720642,\n",
              " 901220348599756840126562435074,\n",
              " 1822247737828079764651510857730,\n",
              " 3684109556913291698099793690626,\n",
              " 7447447276340847733793131331586,\n",
              " 15053350877710224142773350563842,\n",
              " 30423614405477505635920876929026,\n",
              " 61481054111069125972590105460738,\n",
              " 124229758822366481346676914126850,\n",
              " 250994818845189421496347234664450]"
            ]
          },
          "metadata": {},
          "execution_count": 36
        }
      ]
    },
    {
      "cell_type": "markdown",
      "metadata": {
        "id": "x0or2ObN0bMi"
      },
      "source": [
        "Other analytic sums include\n",
        "\n",
        "$$e^{x} = \\sum_{k=0}^{\\infty} \\frac{1}{k!} x^k = 1 + x + \\frac{1}{2}x^2 + \\frac{1}{6}x^3 + \\frac{1}{12}x^4 + \\dots$$\n"
      ]
    },
    {
      "cell_type": "markdown",
      "metadata": {
        "id": "V0PRVLd63IUp"
      },
      "source": [
        "The following code computes the power sum for $e^7$\n",
        "$$  e^7 = \\sum_{k=0}^{\\infty} \\frac{1}{k!} 7^k $$"
      ]
    },
    {
      "cell_type": "code",
      "metadata": {
        "colab": {
          "base_uri": "https://localhost:8080/"
        },
        "id": "NJLgG3nz0czP",
        "outputId": "723b6d93-8cb1-477f-fa77-96885128d813"
      },
      "source": [
        "import math as m\n",
        "n = 100\n",
        "x = 7\n",
        "S_n = 0\n",
        "for k in range(0,n+1):  # range(0, n+1) goes form 0 to n\n",
        "  a_n = (1/m.factorial(k))*(x**k)\n",
        "  S_n = S_n + a_n\n",
        "print(S_n)"
      ],
      "execution_count": 37,
      "outputs": [
        {
          "output_type": "stream",
          "name": "stdout",
          "text": [
            "1096.6331584284578\n"
          ]
        }
      ]
    },
    {
      "cell_type": "code",
      "metadata": {
        "colab": {
          "base_uri": "https://localhost:8080/"
        },
        "id": "2cKkgx2L5Gul",
        "outputId": "aafa4492-555c-4da4-decb-ad5ade8d20bb"
      },
      "source": [
        "m.exp(7)"
      ],
      "execution_count": 38,
      "outputs": [
        {
          "output_type": "execute_result",
          "data": {
            "text/plain": [
              "1096.6331584284585"
            ]
          },
          "metadata": {},
          "execution_count": 38
        }
      ]
    },
    {
      "cell_type": "code",
      "metadata": {
        "colab": {
          "base_uri": "https://localhost:8080/",
          "height": 282
        },
        "id": "rotDASlbAbnR",
        "outputId": "01977618-470b-4044-d3e4-4fa77816945d"
      },
      "source": [
        "import matplotlib.pyplot as plt\n",
        "\n",
        "Serie_S_n = []\n",
        "Sequence_a_n = []\n",
        "n = 30\n",
        "x = 7\n",
        "S_n = 0\n",
        "for k in range(0,n+1):  # range(0, n+1) goes form 0 to n\n",
        "  a_n = (1/m.factorial(k))*(x**k)\n",
        "  S_n = S_n + a_n\n",
        "  Serie_S_n.append(S_n)\n",
        "  Sequence_a_n.append(a_n)\n",
        "\n",
        "plt.plot(Serie_S_n, color='black',label='Serie_S_L')\n",
        "plt.plot(Sequence_a_n, color='red',label='Sequence_a_L')\n",
        "plt.legend()"
      ],
      "execution_count": 39,
      "outputs": [
        {
          "output_type": "execute_result",
          "data": {
            "text/plain": [
              "<matplotlib.legend.Legend at 0x7fd0e999bc50>"
            ]
          },
          "metadata": {},
          "execution_count": 39
        },
        {
          "output_type": "display_data",
          "data": {
            "image/png": "[encoded data removed]",
            "text/plain": [
              "<Figure size 432x288 with 1 Axes>"
            ]
          },
          "metadata": {
            "needs_background": "light"
          }
        }
      ]
    },
    {
      "cell_type": "code",
      "metadata": {
        "colab": {
          "base_uri": "https://localhost:8080/"
        },
        "id": "KNhzM3qIAxEX",
        "outputId": "4be4b0af-4378-467f-b65a-143f08dc6d29"
      },
      "source": [
        "Sequence_a_n"
      ],
      "execution_count": 40,
      "outputs": [
        {
          "output_type": "execute_result",
          "data": {
            "text/plain": [
              "[1.0,\n",
              " 7.0,\n",
              " 24.5,\n",
              " 57.166666666666664,\n",
              " 100.04166666666666,\n",
              " 140.05833333333334,\n",
              " 163.4013888888889,\n",
              " 163.4013888888889,\n",
              " 142.97621527777778,\n",
              " 111.20372299382717,\n",
              " 77.842606095679,\n",
              " 49.53620387906847,\n",
              " 28.896118929456605,\n",
              " 15.559448654322786,\n",
              " 7.779724327161393,\n",
              " 3.6305380193419836,\n",
              " 1.5883603834621178,\n",
              " 0.6540307461314602,\n",
              " 0.2543452901622345,\n",
              " 0.09370615953345483,\n",
              " 0.03279715583670919,\n",
              " 0.010932385278903065,\n",
              " 0.003478486225105521,\n",
              " 0.0010586697206842887,\n",
              " 0.00030877866853291756,\n",
              " 8.645802718921692e-05,\n",
              " 2.3277161166327633e-05,\n",
              " 6.034819561640497e-06,\n",
              " 1.5087048904101243e-06,\n",
              " 3.6417014596106445e-07,\n",
              " 8.49730340575817e-08]"
            ]
          },
          "metadata": {},
          "execution_count": 40
        }
      ]
    },
    {
      "cell_type": "code",
      "metadata": {
        "colab": {
          "base_uri": "https://localhost:8080/"
        },
        "id": "P1ZS_JyhBJlh",
        "outputId": "a3bb9789-61db-4232-d72d-c80cb589fb29"
      },
      "source": [
        "Serie_S_n"
      ],
      "execution_count": 41,
      "outputs": [
        {
          "output_type": "execute_result",
          "data": {
            "text/plain": [
              "[1.0,\n",
              " 8.0,\n",
              " 32.5,\n",
              " 89.66666666666666,\n",
              " 189.70833333333331,\n",
              " 329.76666666666665,\n",
              " 493.16805555555555,\n",
              " 656.5694444444445,\n",
              " 799.5456597222222,\n",
              " 910.7493827160495,\n",
              " 988.5919888117285,\n",
              " 1038.1281926907968,\n",
              " 1067.0243116202535,\n",
              " 1082.5837602745762,\n",
              " 1090.3634846017376,\n",
              " 1093.9940226210795,\n",
              " 1095.5823830045415,\n",
              " 1096.236413750673,\n",
              " 1096.4907590408352,\n",
              " 1096.5844652003686,\n",
              " 1096.6172623562054,\n",
              " 1096.6281947414843,\n",
              " 1096.6316732277094,\n",
              " 1096.63273189743,\n",
              " 1096.6330406760985,\n",
              " 1096.6331271341257,\n",
              " 1096.6331504112868,\n",
              " 1096.6331564461063,\n",
              " 1096.6331579548112,\n",
              " 1096.6331583189813,\n",
              " 1096.6331584039542]"
            ]
          },
          "metadata": {},
          "execution_count": 41
        }
      ]
    }
  ]
}